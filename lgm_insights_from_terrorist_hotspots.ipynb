{
 "cells": [
  {
   "cell_type": "code",
   "execution_count": 0,
   "metadata": {
    "application/vnd.databricks.v1+cell": {
     "cellMetadata": {
      "byteLimit": 2048000,
      "rowLimit": 10000
     },
     "inputWidgets": {},
     "nuid": "f105f02d-a1ca-4fe8-ac99-4b911ab34fd6",
     "showTitle": false,
     "tableResultSettingsMap": {},
     "title": ""
    }
   },
   "outputs": [
    {
     "output_type": "display_data",
     "data": {
      "application/vnd.databricks.v1+bamboolib_hint": "{\"pd.DataFrames\": [], \"version\": \"0.0.1\"}",
      "text/plain": []
     },
     "metadata": {},
     "output_type": "display_data"
    }
   ],
   "source": [
    "from pyspark.sql import functions as F\n",
    "from pyspark.sql.window import Window\n",
    "import pandas as pd\n",
    "import matplotlib.pyplot as plt\n",
    "import seaborn as sns"
   ]
  },
  {
   "cell_type": "code",
   "execution_count": 0,
   "metadata": {
    "application/vnd.databricks.v1+cell": {
     "cellMetadata": {
      "byteLimit": 2048000,
      "rowLimit": 10000
     },
     "inputWidgets": {},
     "nuid": "15890458-3075-4e0e-8718-076115152286",
     "showTitle": false,
     "tableResultSettingsMap": {},
     "title": ""
    }
   },
   "outputs": [
    {
     "output_type": "display_data",
     "data": {
      "text/html": [
       "<style scoped>\n",
       "  .table-result-container {\n",
       "    max-height: 300px;\n",
       "    overflow: auto;\n",
       "  }\n",
       "  table, th, td {\n",
       "    border: 1px solid black;\n",
       "    border-collapse: collapse;\n",
       "  }\n",
       "  th, td {\n",
       "    padding: 5px;\n",
       "  }\n",
       "  th {\n",
       "    text-align: left;\n",
       "  }\n",
       "</style><div class='table-result-container'><table class='table-result'><thead style='background-color: white'><tr><th>_c0</th><th>eventid</th><th>iyear</th><th>imonth</th><th>iday</th><th>approxdate</th><th>extended</th><th>resolution</th><th>country</th><th>country_txt</th><th>region</th><th>region_txt</th><th>provstate</th><th>city</th><th>latitude</th><th>longitude</th><th>specificity</th><th>vicinity</th><th>location</th><th>summary</th><th>crit1</th><th>crit2</th><th>crit3</th><th>doubtterr</th><th>alternative</th><th>alternative_txt</th><th>multiple</th><th>success</th><th>suicide</th><th>attacktype1</th><th>attacktype1_txt</th><th>attacktype2</th><th>attacktype2_txt</th><th>attacktype3</th><th>attacktype3_txt</th><th>targtype1</th><th>targtype1_txt</th><th>targsubtype1</th><th>targsubtype1_txt</th><th>corp1</th><th>target1</th><th>natlty1</th><th>natlty1_txt</th><th>targtype2</th><th>targtype2_txt</th><th>targsubtype2</th><th>targsubtype2_txt</th><th>corp2</th><th>target2</th><th>natlty2</th><th>natlty2_txt</th><th>targtype3</th><th>targtype3_txt</th><th>targsubtype3</th><th>targsubtype3_txt</th><th>corp3</th><th>target3</th><th>natlty3</th><th>natlty3_txt</th><th>gname</th><th>gsubname</th><th>gname2</th><th>gsubname2</th><th>gname3</th><th>gsubname3</th><th>motive</th><th>guncertain1</th><th>guncertain2</th><th>guncertain3</th><th>individual</th><th>nperps</th><th>nperpcap</th><th>claimed</th><th>claimmode</th><th>claimmode_txt</th><th>claim2</th><th>claimmode2</th><th>claimmode2_txt</th><th>claim3</th><th>claimmode3</th><th>claimmode3_txt</th><th>compclaim</th><th>weaptype1</th><th>weaptype1_txt</th><th>weapsubtype1</th><th>weapsubtype1_txt</th><th>weaptype2</th><th>weaptype2_txt</th><th>weapsubtype2</th><th>weapsubtype2_txt</th><th>weaptype3</th><th>weaptype3_txt</th><th>weapsubtype3</th><th>weapsubtype3_txt</th><th>weaptype4</th><th>weaptype4_txt</th><th>weapsubtype4</th><th>weapsubtype4_txt</th><th>weapdetail</th><th>nkill</th><th>nkillus</th><th>nkillter</th><th>nwound</th><th>nwoundus</th><th>nwoundte</th><th>property</th><th>propextent</th><th>propextent_txt</th><th>propvalue</th><th>propcomment</th><th>ishostkid</th><th>nhostkid</th><th>nhostkidus</th><th>nhours</th><th>ndays</th><th>divert</th><th>kidhijcountry</th><th>ransom</th><th>ransomamt</th><th>ransomamtus</th><th>ransompaid</th><th>ransompaidus</th><th>ransomnote</th><th>hostkidoutcome</th><th>hostkidoutcome_txt</th><th>nreleased</th><th>addnotes</th><th>scite1</th><th>scite2</th><th>scite3</th><th>dbsource</th><th>INT_LOG</th><th>INT_IDEO</th><th>INT_MISC</th><th>INT_ANY</th><th>related</th></tr></thead><tbody><tr><td>0</td><td>197000000001</td><td>1970</td><td>7</td><td>2</td><td>null</td><td>0</td><td>null</td><td>58</td><td>Dominican Republic</td><td>2</td><td>Central America & Caribbean</td><td>null</td><td>Santo Domingo</td><td>18.456792</td><td>-69.951164</td><td>1.0</td><td>0</td><td>null</td><td>null</td><td>1</td><td>1</td><td>1</td><td>0.0</td><td>null</td><td>null</td><td>0.0</td><td>1</td><td>0</td><td>1</td><td>Assassination</td><td>null</td><td>null</td><td>null</td><td>null</td><td>14</td><td>Private Citizens & Property</td><td>68.0</td><td>Named Civilian</td><td>null</td><td>Julio Guzman</td><td>58.0</td><td>Dominican Republic</td><td>null</td><td>null</td><td>null</td><td>null</td><td>null</td><td>null</td><td>null</td><td>null</td><td>null</td><td>null</td><td>null</td><td>null</td><td>null</td><td>null</td><td>null</td><td>null</td><td>MANO-D</td><td>null</td><td>null</td><td>null</td><td>null</td><td>null</td><td>null</td><td>0.0</td><td>null</td><td>null</td><td>0</td><td>null</td><td>null</td><td>null</td><td>null</td><td>null</td><td>null</td><td>null</td><td>null</td><td>null</td><td>null</td><td>null</td><td>null</td><td>13</td><td>Unknown</td><td>null</td><td>null</td><td>null</td><td>null</td><td>null</td><td>null</td><td>null</td><td>null</td><td>null</td><td>null</td><td>null</td><td>null</td><td>null</td><td>null</td><td>null</td><td>1.0</td><td>null</td><td>null</td><td>0.0</td><td>null</td><td>null</td><td>0</td><td>null</td><td>null</td><td>null</td><td>null</td><td>0.0</td><td>null</td><td>null</td><td>null</td><td>null</td><td>null</td><td>null</td><td>0.0</td><td>null</td><td>null</td><td>null</td><td>null</td><td>null</td><td>null</td><td>null</td><td>null</td><td>null</td><td>null</td><td>null</td><td>null</td><td>PGIS</td><td>0</td><td>0</td><td>0</td><td>0</td><td>null</td></tr><tr><td>1</td><td>197000000002</td><td>1970</td><td>0</td><td>0</td><td>null</td><td>0</td><td>null</td><td>130</td><td>Mexico</td><td>1</td><td>North America</td><td>Federal</td><td>Mexico city</td><td>19.371887</td><td>-99.086624</td><td>1.0</td><td>0</td><td>null</td><td>null</td><td>1</td><td>1</td><td>1</td><td>0.0</td><td>null</td><td>null</td><td>0.0</td><td>1</td><td>0</td><td>6</td><td>Hostage Taking (Kidnapping)</td><td>null</td><td>null</td><td>null</td><td>null</td><td>7</td><td>Government (Diplomatic)</td><td>45.0</td><td>Diplomatic Personnel (outside of embassy, consulate)</td><td>Belgian Ambassador Daughter</td><td>Nadine Chaval, daughter</td><td>21.0</td><td>Belgium</td><td>null</td><td>null</td><td>null</td><td>null</td><td>null</td><td>null</td><td>null</td><td>null</td><td>null</td><td>null</td><td>null</td><td>null</td><td>null</td><td>null</td><td>null</td><td>null</td><td>23rd of September Communist League</td><td>null</td><td>null</td><td>null</td><td>null</td><td>null</td><td>null</td><td>0.0</td><td>null</td><td>null</td><td>0</td><td>7.0</td><td>null</td><td>null</td><td>null</td><td>null</td><td>null</td><td>null</td><td>null</td><td>null</td><td>null</td><td>null</td><td>null</td><td>13</td><td>Unknown</td><td>null</td><td>null</td><td>null</td><td>null</td><td>null</td><td>null</td><td>null</td><td>null</td><td>null</td><td>null</td><td>null</td><td>null</td><td>null</td><td>null</td><td>null</td><td>0.0</td><td>null</td><td>null</td><td>0.0</td><td>null</td><td>null</td><td>0</td><td>null</td><td>null</td><td>null</td><td>null</td><td>1.0</td><td>1.0</td><td>0.0</td><td>null</td><td>null</td><td>null</td><td>Mexico</td><td>1.0</td><td>800000.0</td><td>null</td><td>null</td><td>null</td><td>null</td><td>null</td><td>null</td><td>null</td><td>null</td><td>null</td><td>null</td><td>null</td><td>PGIS</td><td>0</td><td>1</td><td>1</td><td>1</td><td>null</td></tr><tr><td>2</td><td>197001000001</td><td>1970</td><td>1</td><td>0</td><td>null</td><td>0</td><td>null</td><td>160</td><td>Philippines</td><td>5</td><td>Southeast Asia</td><td>Tarlac</td><td>Unknown</td><td>15.478598</td><td>120.599741</td><td>4.0</td><td>0</td><td>null</td><td>null</td><td>1</td><td>1</td><td>1</td><td>0.0</td><td>null</td><td>null</td><td>0.0</td><td>1</td><td>0</td><td>1</td><td>Assassination</td><td>null</td><td>null</td><td>null</td><td>null</td><td>10</td><td>Journalists & Media</td><td>54.0</td><td>Radio Journalist/Staff/Facility</td><td>Voice of America</td><td>Employee</td><td>217.0</td><td>United States</td><td>null</td><td>null</td><td>null</td><td>null</td><td>null</td><td>null</td><td>null</td><td>null</td><td>null</td><td>null</td><td>null</td><td>null</td><td>null</td><td>null</td><td>null</td><td>null</td><td>Unknown</td><td>null</td><td>null</td><td>null</td><td>null</td><td>null</td><td>null</td><td>0.0</td><td>null</td><td>null</td><td>0</td><td>null</td><td>null</td><td>null</td><td>null</td><td>null</td><td>null</td><td>null</td><td>null</td><td>null</td><td>null</td><td>null</td><td>null</td><td>13</td><td>Unknown</td><td>null</td><td>null</td><td>null</td><td>null</td><td>null</td><td>null</td><td>null</td><td>null</td><td>null</td><td>null</td><td>null</td><td>null</td><td>null</td><td>null</td><td>null</td><td>1.0</td><td>null</td><td>null</td><td>0.0</td><td>null</td><td>null</td><td>0</td><td>null</td><td>null</td><td>null</td><td>null</td><td>0.0</td><td>null</td><td>null</td><td>null</td><td>null</td><td>null</td><td>null</td><td>0.0</td><td>null</td><td>null</td><td>null</td><td>null</td><td>null</td><td>null</td><td>null</td><td>null</td><td>null</td><td>null</td><td>null</td><td>null</td><td>PGIS</td><td>-9</td><td>-9</td><td>1</td><td>1</td><td>null</td></tr><tr><td>3</td><td>197001000002</td><td>1970</td><td>1</td><td>0</td><td>null</td><td>0</td><td>null</td><td>78</td><td>Greece</td><td>8</td><td>Western Europe</td><td>Attica</td><td>Athens</td><td>37.99749</td><td>23.762728</td><td>1.0</td><td>0</td><td>null</td><td>null</td><td>1</td><td>1</td><td>1</td><td>0.0</td><td>null</td><td>null</td><td>0.0</td><td>1</td><td>0</td><td>3</td><td>Bombing/Explosion</td><td>null</td><td>null</td><td>null</td><td>null</td><td>7</td><td>Government (Diplomatic)</td><td>46.0</td><td>Embassy/Consulate</td><td>null</td><td>U.S. Embassy</td><td>217.0</td><td>United States</td><td>null</td><td>null</td><td>null</td><td>null</td><td>null</td><td>null</td><td>null</td><td>null</td><td>null</td><td>null</td><td>null</td><td>null</td><td>null</td><td>null</td><td>null</td><td>null</td><td>Unknown</td><td>null</td><td>null</td><td>null</td><td>null</td><td>null</td><td>null</td><td>0.0</td><td>null</td><td>null</td><td>0</td><td>null</td><td>null</td><td>null</td><td>null</td><td>null</td><td>null</td><td>null</td><td>null</td><td>null</td><td>null</td><td>null</td><td>null</td><td>6</td><td>Explosives</td><td>16.0</td><td>Unknown Explosive Type</td><td>null</td><td>null</td><td>null</td><td>null</td><td>null</td><td>null</td><td>null</td><td>null</td><td>null</td><td>null</td><td>null</td><td>null</td><td>Explosive</td><td>null</td><td>null</td><td>null</td><td>null</td><td>null</td><td>null</td><td>1</td><td>null</td><td>null</td><td>null</td><td>null</td><td>0.0</td><td>null</td><td>null</td><td>null</td><td>null</td><td>null</td><td>null</td><td>0.0</td><td>null</td><td>null</td><td>null</td><td>null</td><td>null</td><td>null</td><td>null</td><td>null</td><td>null</td><td>null</td><td>null</td><td>null</td><td>PGIS</td><td>-9</td><td>-9</td><td>1</td><td>1</td><td>null</td></tr><tr><td>4</td><td>197001000003</td><td>1970</td><td>1</td><td>0</td><td>null</td><td>0</td><td>null</td><td>101</td><td>Japan</td><td>4</td><td>East Asia</td><td>Fukouka</td><td>Fukouka</td><td>33.580412</td><td>130.396361</td><td>1.0</td><td>0</td><td>null</td><td>null</td><td>1</td><td>1</td><td>1</td><td>-9.0</td><td>null</td><td>null</td><td>0.0</td><td>1</td><td>0</td><td>7</td><td>Facility/Infrastructure Attack</td><td>null</td><td>null</td><td>null</td><td>null</td><td>7</td><td>Government (Diplomatic)</td><td>46.0</td><td>Embassy/Consulate</td><td>null</td><td>U.S. Consulate</td><td>217.0</td><td>United States</td><td>null</td><td>null</td><td>null</td><td>null</td><td>null</td><td>null</td><td>null</td><td>null</td><td>null</td><td>null</td><td>null</td><td>null</td><td>null</td><td>null</td><td>null</td><td>null</td><td>Unknown</td><td>null</td><td>null</td><td>null</td><td>null</td><td>null</td><td>null</td><td>0.0</td><td>null</td><td>null</td><td>0</td><td>null</td><td>null</td><td>null</td><td>null</td><td>null</td><td>null</td><td>null</td><td>null</td><td>null</td><td>null</td><td>null</td><td>null</td><td>8</td><td>Incendiary</td><td>null</td><td>null</td><td>null</td><td>null</td><td>null</td><td>null</td><td>null</td><td>null</td><td>null</td><td>null</td><td>null</td><td>null</td><td>null</td><td>null</td><td>Incendiary</td><td>null</td><td>null</td><td>null</td><td>null</td><td>null</td><td>null</td><td>1</td><td>null</td><td>null</td><td>null</td><td>null</td><td>0.0</td><td>null</td><td>null</td><td>null</td><td>null</td><td>null</td><td>null</td><td>0.0</td><td>null</td><td>null</td><td>null</td><td>null</td><td>null</td><td>null</td><td>null</td><td>null</td><td>null</td><td>null</td><td>null</td><td>null</td><td>PGIS</td><td>-9</td><td>-9</td><td>1</td><td>1</td><td>null</td></tr><tr><td>5</td><td>197001010002</td><td>1970</td><td>1</td><td>1</td><td>null</td><td>0</td><td>null</td><td>217</td><td>United States</td><td>1</td><td>North America</td><td>Illinois</td><td>Cairo</td><td>37.005105</td><td>-89.176269</td><td>1.0</td><td>0</td><td>null</td><td>1/1/1970: Unknown African American assailants fired several bullets at police headquarters in Cairo, Illinois, United States.  There were no casualties, however, one bullet narrowly missed several police officers.  This attack took place during heightened racial tensions, including a Black boycott of White-owned businesses, in Cairo Illinois.</td><td>1</td><td>1</td><td>1</td><td>0.0</td><td>null</td><td>null</td><td>0.0</td><td>1</td><td>0</td><td>2</td><td>Armed Assault</td><td>null</td><td>null</td><td>null</td><td>null</td><td>3</td><td>Police</td><td>22.0</td><td>Police Building (headquarters, station, school)</td><td>Cairo Police Department</td><td>Cairo Police Headquarters</td><td>217.0</td><td>United States</td><td>null</td><td>null</td><td>null</td><td>null</td><td>null</td><td>null</td><td>null</td><td>null</td><td>null</td><td>null</td><td>null</td><td>null</td><td>null</td><td>null</td><td>null</td><td>null</td><td>Black Nationalists</td><td>null</td><td>null</td><td>null</td><td>null</td><td>null</td><td>To protest the Cairo Illinois Police Deparment</td><td>0.0</td><td>null</td><td>null</td><td>0</td><td>-99.0</td><td>-99.0</td><td>0.0</td><td>null</td><td>null</td><td>null</td><td>null</td><td>null</td><td>null</td><td>null</td><td>null</td><td>null</td><td>5</td><td>Firearms</td><td>5.0</td><td>Unknown Gun Type</td><td>null</td><td>null</td><td>null</td><td>null</td><td>null</td><td>null</td><td>null</td><td>null</td><td>null</td><td>null</td><td>null</td><td>null</td><td>Several gunshots were fired.</td><td>0.0</td><td>0.0</td><td>0.0</td><td>0.0</td><td>0.0</td><td>0.0</td><td>1</td><td>3.0</td><td>Minor (likely < $1 million)</td><td>null</td><td>null</td><td>0.0</td><td>null</td><td>null</td><td>null</td><td>null</td><td>null</td><td>null</td><td>0.0</td><td>null</td><td>null</td><td>null</td><td>null</td><td>null</td><td>null</td><td>null</td><td>null</td><td>The Cairo Chief of Police, William Petersen, resigned as a result of the attack.</td><td>\"\"\"Police Chief Quits</td><td>\"\" Washington Post</td><td> January 2</td><td> 1970.\"</td><td>\"\"\"Cairo Police Chief Quits; Decries Local 'Militants'</td><td>\"\" Afro-American</td><td> January 10</td><td> 1970.\"</td><td>\"Christopher Hewitt, \"\"Political Violence and Terrorism in Modern America: A Chronology</td></tr><tr><td>6</td><td>197001020001</td><td>1970</td><td>1</td><td>2</td><td>null</td><td>0</td><td>null</td><td>218</td><td>Uruguay</td><td>3</td><td>South America</td><td>Montevideo</td><td>Montevideo</td><td>-34.891151</td><td>-56.187214</td><td>1.0</td><td>0</td><td>null</td><td>null</td><td>1</td><td>1</td><td>1</td><td>0.0</td><td>null</td><td>null</td><td>0.0</td><td>0</td><td>0</td><td>1</td><td>Assassination</td><td>null</td><td>null</td><td>null</td><td>null</td><td>3</td><td>Police</td><td>25.0</td><td>Police Security Forces/Officers</td><td>Uruguayan Police</td><td>Juan Maria de Lucah/Chief of Directorate of info. and intell.</td><td>218.0</td><td>Uruguay</td><td>null</td><td>null</td><td>null</td><td>null</td><td>null</td><td>null</td><td>null</td><td>null</td><td>null</td><td>null</td><td>null</td><td>null</td><td>null</td><td>null</td><td>null</td><td>null</td><td>Tupamaros (Uruguay)</td><td>null</td><td>null</td><td>null</td><td>null</td><td>null</td><td>null</td><td>0.0</td><td>null</td><td>null</td><td>0</td><td>3.0</td><td>null</td><td>null</td><td>null</td><td>null</td><td>null</td><td>null</td><td>null</td><td>null</td><td>null</td><td>null</td><td>null</td><td>5</td><td>Firearms</td><td>2.0</td><td>Automatic or Semi-Automatic Rifle</td><td>null</td><td>null</td><td>null</td><td>null</td><td>null</td><td>null</td><td>null</td><td>null</td><td>null</td><td>null</td><td>null</td><td>null</td><td>Automatic firearm</td><td>0.0</td><td>null</td><td>null</td><td>0.0</td><td>null</td><td>null</td><td>0</td><td>null</td><td>null</td><td>null</td><td>null</td><td>0.0</td><td>null</td><td>null</td><td>null</td><td>null</td><td>null</td><td>null</td><td>0.0</td><td>null</td><td>null</td><td>null</td><td>null</td><td>null</td><td>null</td><td>null</td><td>null</td><td>null</td><td>null</td><td>null</td><td>null</td><td>PGIS</td><td>0</td><td>0</td><td>0</td><td>0</td><td>null</td></tr><tr><td>7</td><td>197001020002</td><td>1970</td><td>1</td><td>2</td><td>null</td><td>0</td><td>null</td><td>217</td><td>United States</td><td>1</td><td>North America</td><td>California</td><td>Oakland</td><td>37.791927</td><td>-122.225906</td><td>1.0</td><td>0</td><td>Edes Substation</td><td>1/2/1970: Unknown perpetrators detonated explosives at the Pacific Gas & Electric Company Edes substation in Oakland, California, United States.  Three transformers were damaged costing an estimated $20,000 to $25,000.  There were no casualties.</td><td>1</td><td>1</td><td>1</td><td>1.0</td><td>2.0</td><td>Other Crime Type</td><td>0.0</td><td>1</td><td>0</td><td>3</td><td>Bombing/Explosion</td><td>null</td><td>null</td><td>null</td><td>null</td><td>21</td><td>Utilities</td><td>107.0</td><td>Electricity</td><td>Pacific Gas & Electric Company</td><td>Edes Substation</td><td>217.0</td><td>United States</td><td>null</td><td>null</td><td>null</td><td>null</td><td>null</td><td>null</td><td>null</td><td>null</td><td>null</td><td>null</td><td>null</td><td>null</td><td>null</td><td>null</td><td>null</td><td>null</td><td>Unknown</td><td>null</td><td>null</td><td>null</td><td>null</td><td>null</td><td>null</td><td>0.0</td><td>null</td><td>null</td><td>0</td><td>-99.0</td><td>-99.0</td><td>0.0</td><td>null</td><td>null</td><td>null</td><td>null</td><td>null</td><td>null</td><td>null</td><td>null</td><td>null</td><td>6</td><td>Explosives</td><td>16.0</td><td>Unknown Explosive Type</td><td>null</td><td>null</td><td>null</td><td>null</td><td>null</td><td>null</td><td>null</td><td>null</td><td>null</td><td>null</td><td>null</td><td>null</td><td>null</td><td>0.0</td><td>0.0</td><td>0.0</td><td>0.0</td><td>0.0</td><td>0.0</td><td>1</td><td>3.0</td><td>Minor (likely < $1 million)</td><td>22500.0</td><td>Three transformers were damaged.</td><td>0.0</td><td>null</td><td>null</td><td>null</td><td>null</td><td>null</td><td>null</td><td>0.0</td><td>null</td><td>null</td><td>null</td><td>null</td><td>null</td><td>null</td><td>null</td><td>null</td><td>Damages were estimated to be between $20,000-$25,000.</td><td>\"Committee on Government Operations United States Senate, \"\"Riots</td><td> Civil</td><td> and Criminal Disorders</td><td>\"\" U.S. Government Printing Office</td><td> August 6</td><td> 1970.\"</td><td>\"Christopher Hewitt, \"\"Political Violence and Terrorism in Modern America: A Chronology</td><td>\"\" Praeger Security International</td><td> 2005.\"</td></tr><tr><td>8</td><td>197001020003</td><td>1970</td><td>1</td><td>2</td><td>null</td><td>0</td><td>null</td><td>217</td><td>United States</td><td>1</td><td>North America</td><td>Wisconsin</td><td>Madison</td><td>43.076592</td><td>-89.412488</td><td>1.0</td><td>0</td><td>null</td><td>1/2/1970: Karl Armstrong, a member of the New Years Gang, threw a firebomb at R.O.T.C. offices located within the Old Red Gym at the University of Wisconsin in Madison, Wisconsin, United States.  There were no casualties but the fire caused around $60,000 in damages to the building.</td><td>1</td><td>1</td><td>1</td><td>0.0</td><td>null</td><td>null</td><td>0.0</td><td>1</td><td>0</td><td>7</td><td>Facility/Infrastructure Attack</td><td>null</td><td>null</td><td>null</td><td>null</td><td>4</td><td>Military</td><td>28.0</td><td>Military Recruiting Station/Academy</td><td>R.O.T.C.</td><td>R.O.T.C. offices at University of Wisconsin, Madison</td><td>217.0</td><td>United States</td><td>null</td><td>null</td><td>null</td><td>null</td><td>null</td><td>null</td><td>null</td><td>null</td><td>null</td><td>null</td><td>null</td><td>null</td><td>null</td><td>null</td><td>null</td><td>null</td><td>New Year's Gang</td><td>null</td><td>null</td><td>null</td><td>null</td><td>null</td><td>To protest the War in Vietnam and the draft</td><td>0.0</td><td>null</td><td>null</td><td>0</td><td>1.0</td><td>1.0</td><td>1.0</td><td>1.0</td><td>Letter</td><td>null</td><td>null</td><td>null</td><td>null</td><td>null</td><td>null</td><td>null</td><td>8</td><td>Incendiary</td><td>19.0</td><td>Molotov Cocktail/Petrol Bomb</td><td>null</td><td>null</td><td>null</td><td>null</td><td>null</td><td>null</td><td>null</td><td>null</td><td>null</td><td>null</td><td>null</td><td>null</td><td>Firebomb consisting of gasoline</td><td>0.0</td><td>0.0</td><td>0.0</td><td>0.0</td><td>0.0</td><td>0.0</td><td>1</td><td>3.0</td><td>Minor (likely < $1 million)</td><td>60000.0</td><td>Basketball courts, weight room, swimming pool, gymnastic equipment, and lockers were destroyed.</td><td>0.0</td><td>null</td><td>null</td><td>null</td><td>null</td><td>null</td><td>null</td><td>0.0</td><td>null</td><td>null</td><td>null</td><td>null</td><td>null</td><td>null</td><td>null</td><td>null</td><td>The New Years Gang issue a communiqu� to a local paper claiming that they perpetrated this attack.  The New Years Gang  previously attempted to firebomb the R.O.T.C. building a week earlier.  As a result of the attack, police increased their presence in Madison.  Karl Armstrong's girlfriend, Lynn Schultz, drove him to and from the Old Red Gym.  The next day Armstrong would attempt to set a fire in the Selective Service offices in Madison. (197001030001)  Karl Armstrong would be captured after participating in the deadly bombing of Sterling Hall at the University of Wisconsin on August 24, 1970.  (197008240001)</td><td>\"Tom Bates, \"\"Rads: The 1970 Bombing of the Army Math Research Center at the University of Wisconsin and Its Aftermath</td><td>\"\" HarperCollinsPublishing</td><td> 1992.\"</td><td>\"David Newman, Sandra Sutherland, and Jon Stewart, \"\"The Madison Bomb Story: The Death the FBI Saw</td><td> Heard and Won't Talk About</td><td>\"\" Mother Jones</td><td> February-March</td><td> 1979.\"</td><td>\"The Wisconsin Cartographers' Guild, \"\"Wisconsin's Past and Present: A Historical Atlas</td></tr><tr><td>9</td><td>197001030001</td><td>1970</td><td>1</td><td>3</td><td>null</td><td>0</td><td>null</td><td>217</td><td>United States</td><td>1</td><td>North America</td><td>Wisconsin</td><td>Madison</td><td>43.07295</td><td>-89.386694</td><td>1.0</td><td>0</td><td>null</td><td>1/3/1970: Karl Armstrong, a member of the New Years Gang, broke into the University of Wisconsin's Primate Lab and set a fire on the first floor of the building.  Armstrong intended to set fire to the Madison, Wisconsin, United States, Selective Service Headquarters across the street but mistakenly confused the building with the Primate Lab.  The fire caused slight damages and was extinguished almost immediately.</td><td>1</td><td>1</td><td>1</td><td>0.0</td><td>null</td><td>null</td><td>0.0</td><td>1</td><td>0</td><td>7</td><td>Facility/Infrastructure Attack</td><td>null</td><td>null</td><td>null</td><td>null</td><td>2</td><td>Government (General)</td><td>21.0</td><td>Government Building/Facility/Office</td><td>Selective Service</td><td>Selective Service Headquarters in Madison Wisconsin</td><td>217.0</td><td>United States</td><td>null</td><td>null</td><td>null</td><td>null</td><td>null</td><td>null</td><td>null</td><td>null</td><td>null</td><td>null</td><td>null</td><td>null</td><td>null</td><td>null</td><td>null</td><td>null</td><td>New Year's Gang</td><td>null</td><td>null</td><td>null</td><td>null</td><td>null</td><td>To protest the War in Vietnam and the draft</td><td>0.0</td><td>null</td><td>null</td><td>0</td><td>1.0</td><td>1.0</td><td>0.0</td><td>null</td><td>null</td><td>null</td><td>null</td><td>null</td><td>null</td><td>null</td><td>null</td><td>null</td><td>8</td><td>Incendiary</td><td>20.0</td><td>Gasoline or Alcohol</td><td>null</td><td>null</td><td>null</td><td>null</td><td>null</td><td>null</td><td>null</td><td>null</td><td>null</td><td>null</td><td>null</td><td>null</td><td>Poured gasoline on the floor and lit it with a match</td><td>0.0</td><td>0.0</td><td>0.0</td><td>0.0</td><td>0.0</td><td>0.0</td><td>1</td><td>3.0</td><td>Minor (likely < $1 million)</td><td>null</td><td>Slight damage</td><td>0.0</td><td>null</td><td>null</td><td>null</td><td>null</td><td>null</td><td>null</td><td>0.0</td><td>null</td><td>null</td><td>null</td><td>null</td><td>null</td><td>null</td><td>null</td><td>null</td><td>Karl Armstrong's girlfriend, Lynn Schultz, drove him to and from the Primate Lab.  A day earlier Armstrong would firebomb the R.O.T.C. offices at the University of Wisconsin. (197001020003)  Karl Armstrong would be captured after participating in the deadly bombing of Sterling Hall at the University of Wisconsin on August 24, 1970. (197008240001)</td><td>\"Committee on Government Operations United States Senate, \"\"Riots</td><td> Civil</td><td> and Criminal Disorders</td><td>\"\" U.S. Government Printing Office</td><td> August 6</td><td> 1970.\"</td><td>\"Tom Bates, \"\"Rads: The 1970 Bombing of the Army Math Research Center at the University of Wisconsin and Its Aftermath</td><td>\"\" HarperCollinsPublishing</td><td> 1992.\"</td></tr></tbody></table></div>"
      ]
     },
     "metadata": {
      "application/vnd.databricks.v1+output": {
       "addedWidgets": {},
       "aggData": [],
       "aggError": "",
       "aggOverflow": false,
       "aggSchema": [],
       "aggSeriesLimitReached": false,
       "aggType": "",
       "arguments": {},
       "columnCustomDisplayInfos": {},
       "data": [
        [
         0,
         197000000001,
         1970,
         7,
         2,
         null,
         0,
         null,
         58,
         "Dominican Republic",
         2,
         "Central America & Caribbean",
         null,
         "Santo Domingo",
         18.456792,
         -69.951164,
         1.0,
         0,
         null,
         null,
         "1",
         "1",
         "1",
         "0.0",
         null,
         null,
         "0.0",
         "1",
         "0",
         "1",
         "Assassination",
         null,
         null,
         null,
         null,
         "14",
         "Private Citizens & Property",
         "68.0",
         "Named Civilian",
         null,
         "Julio Guzman",
         "58.0",
         "Dominican Republic",
         null,
         null,
         null,
         null,
         null,
         null,
         null,
         null,
         null,
         null,
         null,
         null,
         null,
         null,
         null,
         null,
         "MANO-D",
         null,
         null,
         null,
         null,
         null,
         null,
         "0.0",
         null,
         null,
         "0",
         null,
         null,
         null,
         null,
         null,
         null,
         null,
         null,
         null,
         null,
         null,
         null,
         "13",
         "Unknown",
         null,
         null,
         null,
         null,
         null,
         null,
         null,
         null,
         null,
         null,
         null,
         null,
         null,
         null,
         null,
         "1.0",
         null,
         null,
         "0.0",
         null,
         null,
         "0",
         null,
         null,
         null,
         null,
         "0.0",
         null,
         null,
         null,
         null,
         null,
         null,
         "0.0",
         null,
         null,
         null,
         null,
         null,
         null,
         null,
         null,
         null,
         null,
         null,
         null,
         "PGIS",
         "0",
         "0",
         "0",
         "0",
         null
        ],
        [
         1,
         197000000002,
         1970,
         0,
         0,
         null,
         0,
         null,
         130,
         "Mexico",
         1,
         "North America",
         "Federal",
         "Mexico city",
         19.371887,
         -99.086624,
         1.0,
         0,
         null,
         null,
         "1",
         "1",
         "1",
         "0.0",
         null,
         null,
         "0.0",
         "1",
         "0",
         "6",
         "Hostage Taking (Kidnapping)",
         null,
         null,
         null,
         null,
         "7",
         "Government (Diplomatic)",
         "45.0",
         "Diplomatic Personnel (outside of embassy, consulate)",
         "Belgian Ambassador Daughter",
         "Nadine Chaval, daughter",
         "21.0",
         "Belgium",
         null,
         null,
         null,
         null,
         null,
         null,
         null,
         null,
         null,
         null,
         null,
         null,
         null,
         null,
         null,
         null,
         "23rd of September Communist League",
         null,
         null,
         null,
         null,
         null,
         null,
         "0.0",
         null,
         null,
         "0",
         "7.0",
         null,
         null,
         null,
         null,
         null,
         null,
         null,
         null,
         null,
         null,
         null,
         "13",
         "Unknown",
         null,
         null,
         null,
         null,
         null,
         null,
         null,
         null,
         null,
         null,
         null,
         null,
         null,
         null,
         null,
         "0.0",
         null,
         null,
         "0.0",
         null,
         null,
         "0",
         null,
         null,
         null,
         null,
         "1.0",
         "1.0",
         "0.0",
         null,
         null,
         null,
         "Mexico",
         "1.0",
         "800000.0",
         null,
         null,
         null,
         null,
         null,
         null,
         null,
         null,
         null,
         null,
         null,
         "PGIS",
         "0",
         "1",
         "1",
         "1",
         null
        ],
        [
         2,
         197001000001,
         1970,
         1,
         0,
         null,
         0,
         null,
         160,
         "Philippines",
         5,
         "Southeast Asia",
         "Tarlac",
         "Unknown",
         15.478598,
         120.599741,
         4.0,
         0,
         null,
         null,
         "1",
         "1",
         "1",
         "0.0",
         null,
         null,
         "0.0",
         "1",
         "0",
         "1",
         "Assassination",
         null,
         null,
         null,
         null,
         "10",
         "Journalists & Media",
         "54.0",
         "Radio Journalist/Staff/Facility",
         "Voice of America",
         "Employee",
         "217.0",
         "United States",
         null,
         null,
         null,
         null,
         null,
         null,
         null,
         null,
         null,
         null,
         null,
         null,
         null,
         null,
         null,
         null,
         "Unknown",
         null,
         null,
         null,
         null,
         null,
         null,
         "0.0",
         null,
         null,
         "0",
         null,
         null,
         null,
         null,
         null,
         null,
         null,
         null,
         null,
         null,
         null,
         null,
         "13",
         "Unknown",
         null,
         null,
         null,
         null,
         null,
         null,
         null,
         null,
         null,
         null,
         null,
         null,
         null,
         null,
         null,
         "1.0",
         null,
         null,
         "0.0",
         null,
         null,
         "0",
         null,
         null,
         null,
         null,
         "0.0",
         null,
         null,
         null,
         null,
         null,
         null,
         "0.0",
         null,
         null,
         null,
         null,
         null,
         null,
         null,
         null,
         null,
         null,
         null,
         null,
         "PGIS",
         "-9",
         "-9",
         "1",
         "1",
         null
        ],
        [
         3,
         197001000002,
         1970,
         1,
         0,
         null,
         0,
         null,
         78,
         "Greece",
         8,
         "Western Europe",
         "Attica",
         "Athens",
         37.99749,
         23.762728,
         1.0,
         0,
         null,
         null,
         "1",
         "1",
         "1",
         "0.0",
         null,
         null,
         "0.0",
         "1",
         "0",
         "3",
         "Bombing/Explosion",
         null,
         null,
         null,
         null,
         "7",
         "Government (Diplomatic)",
         "46.0",
         "Embassy/Consulate",
         null,
         "U.S. Embassy",
         "217.0",
         "United States",
         null,
         null,
         null,
         null,
         null,
         null,
         null,
         null,
         null,
         null,
         null,
         null,
         null,
         null,
         null,
         null,
         "Unknown",
         null,
         null,
         null,
         null,
         null,
         null,
         "0.0",
         null,
         null,
         "0",
         null,
         null,
         null,
         null,
         null,
         null,
         null,
         null,
         null,
         null,
         null,
         null,
         "6",
         "Explosives",
         "16.0",
         "Unknown Explosive Type",
         null,
         null,
         null,
         null,
         null,
         null,
         null,
         null,
         null,
         null,
         null,
         null,
         "Explosive",
         null,
         null,
         null,
         null,
         null,
         null,
         "1",
         null,
         null,
         null,
         null,
         "0.0",
         null,
         null,
         null,
         null,
         null,
         null,
         "0.0",
         null,
         null,
         null,
         null,
         null,
         null,
         null,
         null,
         null,
         null,
         null,
         null,
         "PGIS",
         "-9",
         "-9",
         "1",
         "1",
         null
        ],
        [
         4,
         197001000003,
         1970,
         1,
         0,
         null,
         0,
         null,
         101,
         "Japan",
         4,
         "East Asia",
         "Fukouka",
         "Fukouka",
         33.580412,
         130.396361,
         1.0,
         0,
         null,
         null,
         "1",
         "1",
         "1",
         "-9.0",
         null,
         null,
         "0.0",
         "1",
         "0",
         "7",
         "Facility/Infrastructure Attack",
         null,
         null,
         null,
         null,
         "7",
         "Government (Diplomatic)",
         "46.0",
         "Embassy/Consulate",
         null,
         "U.S. Consulate",
         "217.0",
         "United States",
         null,
         null,
         null,
         null,
         null,
         null,
         null,
         null,
         null,
         null,
         null,
         null,
         null,
         null,
         null,
         null,
         "Unknown",
         null,
         null,
         null,
         null,
         null,
         null,
         "0.0",
         null,
         null,
         "0",
         null,
         null,
         null,
         null,
         null,
         null,
         null,
         null,
         null,
         null,
         null,
         null,
         "8",
         "Incendiary",
         null,
         null,
         null,
         null,
         null,
         null,
         null,
         null,
         null,
         null,
         null,
         null,
         null,
         null,
         "Incendiary",
         null,
         null,
         null,
         null,
         null,
         null,
         "1",
         null,
         null,
         null,
         null,
         "0.0",
         null,
         null,
         null,
         null,
         null,
         null,
         "0.0",
         null,
         null,
         null,
         null,
         null,
         null,
         null,
         null,
         null,
         null,
         null,
         null,
         "PGIS",
         "-9",
         "-9",
         "1",
         "1",
         null
        ],
        [
         5,
         197001010002,
         1970,
         1,
         1,
         null,
         0,
         null,
         217,
         "United States",
         1,
         "North America",
         "Illinois",
         "Cairo",
         37.005105,
         -89.176269,
         1.0,
         0,
         null,
         "1/1/1970: Unknown African American assailants fired several bullets at police headquarters in Cairo, Illinois, United States.  There were no casualties, however, one bullet narrowly missed several police officers.  This attack took place during heightened racial tensions, including a Black boycott of White-owned businesses, in Cairo Illinois.",
         "1",
         "1",
         "1",
         "0.0",
         null,
         null,
         "0.0",
         "1",
         "0",
         "2",
         "Armed Assault",
         null,
         null,
         null,
         null,
         "3",
         "Police",
         "22.0",
         "Police Building (headquarters, station, school)",
         "Cairo Police Department",
         "Cairo Police Headquarters",
         "217.0",
         "United States",
         null,
         null,
         null,
         null,
         null,
         null,
         null,
         null,
         null,
         null,
         null,
         null,
         null,
         null,
         null,
         null,
         "Black Nationalists",
         null,
         null,
         null,
         null,
         null,
         "To protest the Cairo Illinois Police Deparment",
         "0.0",
         null,
         null,
         "0",
         "-99.0",
         "-99.0",
         "0.0",
         null,
         null,
         null,
         null,
         null,
         null,
         null,
         null,
         null,
         "5",
         "Firearms",
         "5.0",
         "Unknown Gun Type",
         null,
         null,
         null,
         null,
         null,
         null,
         null,
         null,
         null,
         null,
         null,
         null,
         "Several gunshots were fired.",
         "0.0",
         "0.0",
         "0.0",
         "0.0",
         "0.0",
         "0.0",
         "1",
         "3.0",
         "Minor (likely < $1 million)",
         null,
         null,
         "0.0",
         null,
         null,
         null,
         null,
         null,
         null,
         "0.0",
         null,
         null,
         null,
         null,
         null,
         null,
         null,
         null,
         "The Cairo Chief of Police, William Petersen, resigned as a result of the attack.",
         "\"\"\"Police Chief Quits",
         "\"\" Washington Post",
         " January 2",
         " 1970.\"",
         "\"\"\"Cairo Police Chief Quits; Decries Local 'Militants'",
         "\"\" Afro-American",
         " January 10",
         " 1970.\"",
         "\"Christopher Hewitt, \"\"Political Violence and Terrorism in Modern America: A Chronology"
        ],
        [
         6,
         197001020001,
         1970,
         1,
         2,
         null,
         0,
         null,
         218,
         "Uruguay",
         3,
         "South America",
         "Montevideo",
         "Montevideo",
         -34.891151,
         -56.187214,
         1.0,
         0,
         null,
         null,
         "1",
         "1",
         "1",
         "0.0",
         null,
         null,
         "0.0",
         "0",
         "0",
         "1",
         "Assassination",
         null,
         null,
         null,
         null,
         "3",
         "Police",
         "25.0",
         "Police Security Forces/Officers",
         "Uruguayan Police",
         "Juan Maria de Lucah/Chief of Directorate of info. and intell.",
         "218.0",
         "Uruguay",
         null,
         null,
         null,
         null,
         null,
         null,
         null,
         null,
         null,
         null,
         null,
         null,
         null,
         null,
         null,
         null,
         "Tupamaros (Uruguay)",
         null,
         null,
         null,
         null,
         null,
         null,
         "0.0",
         null,
         null,
         "0",
         "3.0",
         null,
         null,
         null,
         null,
         null,
         null,
         null,
         null,
         null,
         null,
         null,
         "5",
         "Firearms",
         "2.0",
         "Automatic or Semi-Automatic Rifle",
         null,
         null,
         null,
         null,
         null,
         null,
         null,
         null,
         null,
         null,
         null,
         null,
         "Automatic firearm",
         "0.0",
         null,
         null,
         "0.0",
         null,
         null,
         "0",
         null,
         null,
         null,
         null,
         "0.0",
         null,
         null,
         null,
         null,
         null,
         null,
         "0.0",
         null,
         null,
         null,
         null,
         null,
         null,
         null,
         null,
         null,
         null,
         null,
         null,
         "PGIS",
         "0",
         "0",
         "0",
         "0",
         null
        ],
        [
         7,
         197001020002,
         1970,
         1,
         2,
         null,
         0,
         null,
         217,
         "United States",
         1,
         "North America",
         "California",
         "Oakland",
         37.791927,
         -122.225906,
         1.0,
         0,
         "Edes Substation",
         "1/2/1970: Unknown perpetrators detonated explosives at the Pacific Gas & Electric Company Edes substation in Oakland, California, United States.  Three transformers were damaged costing an estimated $20,000 to $25,000.  There were no casualties.",
         "1",
         "1",
         "1",
         "1.0",
         "2.0",
         "Other Crime Type",
         "0.0",
         "1",
         "0",
         "3",
         "Bombing/Explosion",
         null,
         null,
         null,
         null,
         "21",
         "Utilities",
         "107.0",
         "Electricity",
         "Pacific Gas & Electric Company",
         "Edes Substation",
         "217.0",
         "United States",
         null,
         null,
         null,
         null,
         null,
         null,
         null,
         null,
         null,
         null,
         null,
         null,
         null,
         null,
         null,
         null,
         "Unknown",
         null,
         null,
         null,
         null,
         null,
         null,
         "0.0",
         null,
         null,
         "0",
         "-99.0",
         "-99.0",
         "0.0",
         null,
         null,
         null,
         null,
         null,
         null,
         null,
         null,
         null,
         "6",
         "Explosives",
         "16.0",
         "Unknown Explosive Type",
         null,
         null,
         null,
         null,
         null,
         null,
         null,
         null,
         null,
         null,
         null,
         null,
         null,
         "0.0",
         "0.0",
         "0.0",
         "0.0",
         "0.0",
         "0.0",
         "1",
         "3.0",
         "Minor (likely < $1 million)",
         "22500.0",
         "Three transformers were damaged.",
         "0.0",
         null,
         null,
         null,
         null,
         null,
         null,
         "0.0",
         null,
         null,
         null,
         null,
         null,
         null,
         null,
         null,
         "Damages were estimated to be between $20,000-$25,000.",
         "\"Committee on Government Operations United States Senate, \"\"Riots",
         " Civil",
         " and Criminal Disorders",
         "\"\" U.S. Government Printing Office",
         " August 6",
         " 1970.\"",
         "\"Christopher Hewitt, \"\"Political Violence and Terrorism in Modern America: A Chronology",
         "\"\" Praeger Security International",
         " 2005.\""
        ],
        [
         8,
         197001020003,
         1970,
         1,
         2,
         null,
         0,
         null,
         217,
         "United States",
         1,
         "North America",
         "Wisconsin",
         "Madison",
         43.076592,
         -89.412488,
         1.0,
         0,
         null,
         "1/2/1970: Karl Armstrong, a member of the New Years Gang, threw a firebomb at R.O.T.C. offices located within the Old Red Gym at the University of Wisconsin in Madison, Wisconsin, United States.  There were no casualties but the fire caused around $60,000 in damages to the building.",
         "1",
         "1",
         "1",
         "0.0",
         null,
         null,
         "0.0",
         "1",
         "0",
         "7",
         "Facility/Infrastructure Attack",
         null,
         null,
         null,
         null,
         "4",
         "Military",
         "28.0",
         "Military Recruiting Station/Academy",
         "R.O.T.C.",
         "R.O.T.C. offices at University of Wisconsin, Madison",
         "217.0",
         "United States",
         null,
         null,
         null,
         null,
         null,
         null,
         null,
         null,
         null,
         null,
         null,
         null,
         null,
         null,
         null,
         null,
         "New Year's Gang",
         null,
         null,
         null,
         null,
         null,
         "To protest the War in Vietnam and the draft",
         "0.0",
         null,
         null,
         "0",
         "1.0",
         "1.0",
         "1.0",
         "1.0",
         "Letter",
         null,
         null,
         null,
         null,
         null,
         null,
         null,
         "8",
         "Incendiary",
         "19.0",
         "Molotov Cocktail/Petrol Bomb",
         null,
         null,
         null,
         null,
         null,
         null,
         null,
         null,
         null,
         null,
         null,
         null,
         "Firebomb consisting of gasoline",
         "0.0",
         "0.0",
         "0.0",
         "0.0",
         "0.0",
         "0.0",
         "1",
         "3.0",
         "Minor (likely < $1 million)",
         "60000.0",
         "Basketball courts, weight room, swimming pool, gymnastic equipment, and lockers were destroyed.",
         "0.0",
         null,
         null,
         null,
         null,
         null,
         null,
         "0.0",
         null,
         null,
         null,
         null,
         null,
         null,
         null,
         null,
         "The New Years Gang issue a communiqu� to a local paper claiming that they perpetrated this attack.  The New Years Gang  previously attempted to firebomb the R.O.T.C. building a week earlier.  As a result of the attack, police increased their presence in Madison.  Karl Armstrong's girlfriend, Lynn Schultz, drove him to and from the Old Red Gym.  The next day Armstrong would attempt to set a fire in the Selective Service offices in Madison. (197001030001)  Karl Armstrong would be captured after participating in the deadly bombing of Sterling Hall at the University of Wisconsin on August 24, 1970.  (197008240001)",
         "\"Tom Bates, \"\"Rads: The 1970 Bombing of the Army Math Research Center at the University of Wisconsin and Its Aftermath",
         "\"\" HarperCollinsPublishing",
         " 1992.\"",
         "\"David Newman, Sandra Sutherland, and Jon Stewart, \"\"The Madison Bomb Story: The Death the FBI Saw",
         " Heard and Won't Talk About",
         "\"\" Mother Jones",
         " February-March",
         " 1979.\"",
         "\"The Wisconsin Cartographers' Guild, \"\"Wisconsin's Past and Present: A Historical Atlas"
        ],
        [
         9,
         197001030001,
         1970,
         1,
         3,
         null,
         0,
         null,
         217,
         "United States",
         1,
         "North America",
         "Wisconsin",
         "Madison",
         43.07295,
         -89.386694,
         1.0,
         0,
         null,
         "1/3/1970: Karl Armstrong, a member of the New Years Gang, broke into the University of Wisconsin's Primate Lab and set a fire on the first floor of the building.  Armstrong intended to set fire to the Madison, Wisconsin, United States, Selective Service Headquarters across the street but mistakenly confused the building with the Primate Lab.  The fire caused slight damages and was extinguished almost immediately.",
         "1",
         "1",
         "1",
         "0.0",
         null,
         null,
         "0.0",
         "1",
         "0",
         "7",
         "Facility/Infrastructure Attack",
         null,
         null,
         null,
         null,
         "2",
         "Government (General)",
         "21.0",
         "Government Building/Facility/Office",
         "Selective Service",
         "Selective Service Headquarters in Madison Wisconsin",
         "217.0",
         "United States",
         null,
         null,
         null,
         null,
         null,
         null,
         null,
         null,
         null,
         null,
         null,
         null,
         null,
         null,
         null,
         null,
         "New Year's Gang",
         null,
         null,
         null,
         null,
         null,
         "To protest the War in Vietnam and the draft",
         "0.0",
         null,
         null,
         "0",
         "1.0",
         "1.0",
         "0.0",
         null,
         null,
         null,
         null,
         null,
         null,
         null,
         null,
         null,
         "8",
         "Incendiary",
         "20.0",
         "Gasoline or Alcohol",
         null,
         null,
         null,
         null,
         null,
         null,
         null,
         null,
         null,
         null,
         null,
         null,
         "Poured gasoline on the floor and lit it with a match",
         "0.0",
         "0.0",
         "0.0",
         "0.0",
         "0.0",
         "0.0",
         "1",
         "3.0",
         "Minor (likely < $1 million)",
         null,
         "Slight damage",
         "0.0",
         null,
         null,
         null,
         null,
         null,
         null,
         "0.0",
         null,
         null,
         null,
         null,
         null,
         null,
         null,
         null,
         "Karl Armstrong's girlfriend, Lynn Schultz, drove him to and from the Primate Lab.  A day earlier Armstrong would firebomb the R.O.T.C. offices at the University of Wisconsin. (197001020003)  Karl Armstrong would be captured after participating in the deadly bombing of Sterling Hall at the University of Wisconsin on August 24, 1970. (197008240001)",
         "\"Committee on Government Operations United States Senate, \"\"Riots",
         " Civil",
         " and Criminal Disorders",
         "\"\" U.S. Government Printing Office",
         " August 6",
         " 1970.\"",
         "\"Tom Bates, \"\"Rads: The 1970 Bombing of the Army Math Research Center at the University of Wisconsin and Its Aftermath",
         "\"\" HarperCollinsPublishing",
         " 1992.\""
        ]
       ],
       "datasetInfos": [],
       "dbfsResultPath": null,
       "isJsonSchema": true,
       "metadata": {},
       "overflow": false,
       "plotOptions": {
        "customPlotOptions": {},
        "displayType": "table",
        "pivotAggregation": null,
        "pivotColumns": null,
        "xColumns": null,
        "yColumns": null
       },
       "removedWidgets": [],
       "schema": [
        {
         "metadata": "{}",
         "name": "_c0",
         "type": "\"integer\""
        },
        {
         "metadata": "{}",
         "name": "eventid",
         "type": "\"long\""
        },
        {
         "metadata": "{}",
         "name": "iyear",
         "type": "\"integer\""
        },
        {
         "metadata": "{}",
         "name": "imonth",
         "type": "\"integer\""
        },
        {
         "metadata": "{}",
         "name": "iday",
         "type": "\"integer\""
        },
        {
         "metadata": "{}",
         "name": "approxdate",
         "type": "\"string\""
        },
        {
         "metadata": "{}",
         "name": "extended",
         "type": "\"integer\""
        },
        {
         "metadata": "{\"__detected_date_formats\":\"M/d/yyyy\"}",
         "name": "resolution",
         "type": "\"date\""
        },
        {
         "metadata": "{}",
         "name": "country",
         "type": "\"integer\""
        },
        {
         "metadata": "{}",
         "name": "country_txt",
         "type": "\"string\""
        },
        {
         "metadata": "{}",
         "name": "region",
         "type": "\"integer\""
        },
        {
         "metadata": "{}",
         "name": "region_txt",
         "type": "\"string\""
        },
        {
         "metadata": "{}",
         "name": "provstate",
         "type": "\"string\""
        },
        {
         "metadata": "{}",
         "name": "city",
         "type": "\"string\""
        },
        {
         "metadata": "{}",
         "name": "latitude",
         "type": "\"double\""
        },
        {
         "metadata": "{}",
         "name": "longitude",
         "type": "\"double\""
        },
        {
         "metadata": "{}",
         "name": "specificity",
         "type": "\"double\""
        },
        {
         "metadata": "{}",
         "name": "vicinity",
         "type": "\"integer\""
        },
        {
         "metadata": "{}",
         "name": "location",
         "type": "\"string\""
        },
        {
         "metadata": "{}",
         "name": "summary",
         "type": "\"string\""
        },
        {
         "metadata": "{}",
         "name": "crit1",
         "type": "\"string\""
        },
        {
         "metadata": "{}",
         "name": "crit2",
         "type": "\"string\""
        },
        {
         "metadata": "{}",
         "name": "crit3",
         "type": "\"string\""
        },
        {
         "metadata": "{}",
         "name": "doubtterr",
         "type": "\"string\""
        },
        {
         "metadata": "{}",
         "name": "alternative",
         "type": "\"string\""
        },
        {
         "metadata": "{}",
         "name": "alternative_txt",
         "type": "\"string\""
        },
        {
         "metadata": "{}",
         "name": "multiple",
         "type": "\"string\""
        },
        {
         "metadata": "{}",
         "name": "success",
         "type": "\"string\""
        },
        {
         "metadata": "{}",
         "name": "suicide",
         "type": "\"string\""
        },
        {
         "metadata": "{}",
         "name": "attacktype1",
         "type": "\"string\""
        },
        {
         "metadata": "{}",
         "name": "attacktype1_txt",
         "type": "\"string\""
        },
        {
         "metadata": "{}",
         "name": "attacktype2",
         "type": "\"string\""
        },
        {
         "metadata": "{}",
         "name": "attacktype2_txt",
         "type": "\"string\""
        },
        {
         "metadata": "{}",
         "name": "attacktype3",
         "type": "\"string\""
        },
        {
         "metadata": "{}",
         "name": "attacktype3_txt",
         "type": "\"string\""
        },
        {
         "metadata": "{}",
         "name": "targtype1",
         "type": "\"string\""
        },
        {
         "metadata": "{}",
         "name": "targtype1_txt",
         "type": "\"string\""
        },
        {
         "metadata": "{}",
         "name": "targsubtype1",
         "type": "\"string\""
        },
        {
         "metadata": "{}",
         "name": "targsubtype1_txt",
         "type": "\"string\""
        },
        {
         "metadata": "{}",
         "name": "corp1",
         "type": "\"string\""
        },
        {
         "metadata": "{}",
         "name": "target1",
         "type": "\"string\""
        },
        {
         "metadata": "{}",
         "name": "natlty1",
         "type": "\"string\""
        },
        {
         "metadata": "{}",
         "name": "natlty1_txt",
         "type": "\"string\""
        },
        {
         "metadata": "{}",
         "name": "targtype2",
         "type": "\"string\""
        },
        {
         "metadata": "{}",
         "name": "targtype2_txt",
         "type": "\"string\""
        },
        {
         "metadata": "{}",
         "name": "targsubtype2",
         "type": "\"string\""
        },
        {
         "metadata": "{}",
         "name": "targsubtype2_txt",
         "type": "\"string\""
        },
        {
         "metadata": "{}",
         "name": "corp2",
         "type": "\"string\""
        },
        {
         "metadata": "{}",
         "name": "target2",
         "type": "\"string\""
        },
        {
         "metadata": "{}",
         "name": "natlty2",
         "type": "\"string\""
        },
        {
         "metadata": "{}",
         "name": "natlty2_txt",
         "type": "\"string\""
        },
        {
         "metadata": "{}",
         "name": "targtype3",
         "type": "\"string\""
        },
        {
         "metadata": "{}",
         "name": "targtype3_txt",
         "type": "\"string\""
        },
        {
         "metadata": "{}",
         "name": "targsubtype3",
         "type": "\"string\""
        },
        {
         "metadata": "{}",
         "name": "targsubtype3_txt",
         "type": "\"string\""
        },
        {
         "metadata": "{}",
         "name": "corp3",
         "type": "\"string\""
        },
        {
         "metadata": "{}",
         "name": "target3",
         "type": "\"string\""
        },
        {
         "metadata": "{}",
         "name": "natlty3",
         "type": "\"string\""
        },
        {
         "metadata": "{}",
         "name": "natlty3_txt",
         "type": "\"string\""
        },
        {
         "metadata": "{}",
         "name": "gname",
         "type": "\"string\""
        },
        {
         "metadata": "{}",
         "name": "gsubname",
         "type": "\"string\""
        },
        {
         "metadata": "{}",
         "name": "gname2",
         "type": "\"string\""
        },
        {
         "metadata": "{}",
         "name": "gsubname2",
         "type": "\"string\""
        },
        {
         "metadata": "{}",
         "name": "gname3",
         "type": "\"string\""
        },
        {
         "metadata": "{}",
         "name": "gsubname3",
         "type": "\"string\""
        },
        {
         "metadata": "{}",
         "name": "motive",
         "type": "\"string\""
        },
        {
         "metadata": "{}",
         "name": "guncertain1",
         "type": "\"string\""
        },
        {
         "metadata": "{}",
         "name": "guncertain2",
         "type": "\"string\""
        },
        {
         "metadata": "{}",
         "name": "guncertain3",
         "type": "\"string\""
        },
        {
         "metadata": "{}",
         "name": "individual",
         "type": "\"string\""
        },
        {
         "metadata": "{}",
         "name": "nperps",
         "type": "\"string\""
        },
        {
         "metadata": "{}",
         "name": "nperpcap",
         "type": "\"string\""
        },
        {
         "metadata": "{}",
         "name": "claimed",
         "type": "\"string\""
        },
        {
         "metadata": "{}",
         "name": "claimmode",
         "type": "\"string\""
        },
        {
         "metadata": "{}",
         "name": "claimmode_txt",
         "type": "\"string\""
        },
        {
         "metadata": "{}",
         "name": "claim2",
         "type": "\"string\""
        },
        {
         "metadata": "{}",
         "name": "claimmode2",
         "type": "\"string\""
        },
        {
         "metadata": "{}",
         "name": "claimmode2_txt",
         "type": "\"string\""
        },
        {
         "metadata": "{}",
         "name": "claim3",
         "type": "\"string\""
        },
        {
         "metadata": "{}",
         "name": "claimmode3",
         "type": "\"string\""
        },
        {
         "metadata": "{}",
         "name": "claimmode3_txt",
         "type": "\"string\""
        },
        {
         "metadata": "{}",
         "name": "compclaim",
         "type": "\"string\""
        },
        {
         "metadata": "{}",
         "name": "weaptype1",
         "type": "\"string\""
        },
        {
         "metadata": "{}",
         "name": "weaptype1_txt",
         "type": "\"string\""
        },
        {
         "metadata": "{}",
         "name": "weapsubtype1",
         "type": "\"string\""
        },
        {
         "metadata": "{}",
         "name": "weapsubtype1_txt",
         "type": "\"string\""
        },
        {
         "metadata": "{}",
         "name": "weaptype2",
         "type": "\"string\""
        },
        {
         "metadata": "{}",
         "name": "weaptype2_txt",
         "type": "\"string\""
        },
        {
         "metadata": "{}",
         "name": "weapsubtype2",
         "type": "\"string\""
        },
        {
         "metadata": "{}",
         "name": "weapsubtype2_txt",
         "type": "\"string\""
        },
        {
         "metadata": "{}",
         "name": "weaptype3",
         "type": "\"string\""
        },
        {
         "metadata": "{}",
         "name": "weaptype3_txt",
         "type": "\"string\""
        },
        {
         "metadata": "{}",
         "name": "weapsubtype3",
         "type": "\"string\""
        },
        {
         "metadata": "{}",
         "name": "weapsubtype3_txt",
         "type": "\"string\""
        },
        {
         "metadata": "{}",
         "name": "weaptype4",
         "type": "\"string\""
        },
        {
         "metadata": "{}",
         "name": "weaptype4_txt",
         "type": "\"string\""
        },
        {
         "metadata": "{}",
         "name": "weapsubtype4",
         "type": "\"string\""
        },
        {
         "metadata": "{}",
         "name": "weapsubtype4_txt",
         "type": "\"string\""
        },
        {
         "metadata": "{}",
         "name": "weapdetail",
         "type": "\"string\""
        },
        {
         "metadata": "{}",
         "name": "nkill",
         "type": "\"string\""
        },
        {
         "metadata": "{}",
         "name": "nkillus",
         "type": "\"string\""
        },
        {
         "metadata": "{}",
         "name": "nkillter",
         "type": "\"string\""
        },
        {
         "metadata": "{}",
         "name": "nwound",
         "type": "\"string\""
        },
        {
         "metadata": "{}",
         "name": "nwoundus",
         "type": "\"string\""
        },
        {
         "metadata": "{}",
         "name": "nwoundte",
         "type": "\"string\""
        },
        {
         "metadata": "{}",
         "name": "property",
         "type": "\"string\""
        },
        {
         "metadata": "{}",
         "name": "propextent",
         "type": "\"string\""
        },
        {
         "metadata": "{}",
         "name": "propextent_txt",
         "type": "\"string\""
        },
        {
         "metadata": "{}",
         "name": "propvalue",
         "type": "\"string\""
        },
        {
         "metadata": "{}",
         "name": "propcomment",
         "type": "\"string\""
        },
        {
         "metadata": "{}",
         "name": "ishostkid",
         "type": "\"string\""
        },
        {
         "metadata": "{}",
         "name": "nhostkid",
         "type": "\"string\""
        },
        {
         "metadata": "{}",
         "name": "nhostkidus",
         "type": "\"string\""
        },
        {
         "metadata": "{}",
         "name": "nhours",
         "type": "\"string\""
        },
        {
         "metadata": "{}",
         "name": "ndays",
         "type": "\"string\""
        },
        {
         "metadata": "{}",
         "name": "divert",
         "type": "\"string\""
        },
        {
         "metadata": "{}",
         "name": "kidhijcountry",
         "type": "\"string\""
        },
        {
         "metadata": "{}",
         "name": "ransom",
         "type": "\"string\""
        },
        {
         "metadata": "{}",
         "name": "ransomamt",
         "type": "\"string\""
        },
        {
         "metadata": "{}",
         "name": "ransomamtus",
         "type": "\"string\""
        },
        {
         "metadata": "{}",
         "name": "ransompaid",
         "type": "\"string\""
        },
        {
         "metadata": "{}",
         "name": "ransompaidus",
         "type": "\"string\""
        },
        {
         "metadata": "{}",
         "name": "ransomnote",
         "type": "\"string\""
        },
        {
         "metadata": "{}",
         "name": "hostkidoutcome",
         "type": "\"string\""
        },
        {
         "metadata": "{}",
         "name": "hostkidoutcome_txt",
         "type": "\"string\""
        },
        {
         "metadata": "{}",
         "name": "nreleased",
         "type": "\"string\""
        },
        {
         "metadata": "{}",
         "name": "addnotes",
         "type": "\"string\""
        },
        {
         "metadata": "{}",
         "name": "scite1",
         "type": "\"string\""
        },
        {
         "metadata": "{}",
         "name": "scite2",
         "type": "\"string\""
        },
        {
         "metadata": "{}",
         "name": "scite3",
         "type": "\"string\""
        },
        {
         "metadata": "{}",
         "name": "dbsource",
         "type": "\"string\""
        },
        {
         "metadata": "{}",
         "name": "INT_LOG",
         "type": "\"string\""
        },
        {
         "metadata": "{}",
         "name": "INT_IDEO",
         "type": "\"string\""
        },
        {
         "metadata": "{}",
         "name": "INT_MISC",
         "type": "\"string\""
        },
        {
         "metadata": "{}",
         "name": "INT_ANY",
         "type": "\"string\""
        },
        {
         "metadata": "{}",
         "name": "related",
         "type": "\"string\""
        }
       ],
       "type": "table"
      }
     },
     "output_type": "display_data"
    },
    {
     "output_type": "stream",
     "name": "stdout",
     "output_type": "stream",
     "text": [
      "root\n |-- _c0: integer (nullable = true)\n |-- eventid: long (nullable = true)\n |-- iyear: integer (nullable = true)\n |-- imonth: integer (nullable = true)\n |-- iday: integer (nullable = true)\n |-- approxdate: string (nullable = true)\n |-- extended: integer (nullable = true)\n |-- resolution: date (nullable = true)\n |-- country: integer (nullable = true)\n |-- country_txt: string (nullable = true)\n |-- region: integer (nullable = true)\n |-- region_txt: string (nullable = true)\n |-- provstate: string (nullable = true)\n |-- city: string (nullable = true)\n |-- latitude: double (nullable = true)\n |-- longitude: double (nullable = true)\n |-- specificity: double (nullable = true)\n |-- vicinity: integer (nullable = true)\n |-- location: string (nullable = true)\n |-- summary: string (nullable = true)\n |-- crit1: string (nullable = true)\n |-- crit2: string (nullable = true)\n |-- crit3: string (nullable = true)\n |-- doubtterr: string (nullable = true)\n |-- alternative: string (nullable = true)\n |-- alternative_txt: string (nullable = true)\n |-- multiple: string (nullable = true)\n |-- success: string (nullable = true)\n |-- suicide: string (nullable = true)\n |-- attacktype1: string (nullable = true)\n |-- attacktype1_txt: string (nullable = true)\n |-- attacktype2: string (nullable = true)\n |-- attacktype2_txt: string (nullable = true)\n |-- attacktype3: string (nullable = true)\n |-- attacktype3_txt: string (nullable = true)\n |-- targtype1: string (nullable = true)\n |-- targtype1_txt: string (nullable = true)\n |-- targsubtype1: string (nullable = true)\n |-- targsubtype1_txt: string (nullable = true)\n |-- corp1: string (nullable = true)\n |-- target1: string (nullable = true)\n |-- natlty1: string (nullable = true)\n |-- natlty1_txt: string (nullable = true)\n |-- targtype2: string (nullable = true)\n |-- targtype2_txt: string (nullable = true)\n |-- targsubtype2: string (nullable = true)\n |-- targsubtype2_txt: string (nullable = true)\n |-- corp2: string (nullable = true)\n |-- target2: string (nullable = true)\n |-- natlty2: string (nullable = true)\n |-- natlty2_txt: string (nullable = true)\n |-- targtype3: string (nullable = true)\n |-- targtype3_txt: string (nullable = true)\n |-- targsubtype3: string (nullable = true)\n |-- targsubtype3_txt: string (nullable = true)\n |-- corp3: string (nullable = true)\n |-- target3: string (nullable = true)\n |-- natlty3: string (nullable = true)\n |-- natlty3_txt: string (nullable = true)\n |-- gname: string (nullable = true)\n |-- gsubname: string (nullable = true)\n |-- gname2: string (nullable = true)\n |-- gsubname2: string (nullable = true)\n |-- gname3: string (nullable = true)\n |-- gsubname3: string (nullable = true)\n |-- motive: string (nullable = true)\n |-- guncertain1: string (nullable = true)\n |-- guncertain2: string (nullable = true)\n |-- guncertain3: string (nullable = true)\n |-- individual: string (nullable = true)\n |-- nperps: string (nullable = true)\n |-- nperpcap: string (nullable = true)\n |-- claimed: string (nullable = true)\n |-- claimmode: string (nullable = true)\n |-- claimmode_txt: string (nullable = true)\n |-- claim2: string (nullable = true)\n |-- claimmode2: string (nullable = true)\n |-- claimmode2_txt: string (nullable = true)\n |-- claim3: string (nullable = true)\n |-- claimmode3: string (nullable = true)\n |-- claimmode3_txt: string (nullable = true)\n |-- compclaim: string (nullable = true)\n |-- weaptype1: string (nullable = true)\n |-- weaptype1_txt: string (nullable = true)\n |-- weapsubtype1: string (nullable = true)\n |-- weapsubtype1_txt: string (nullable = true)\n |-- weaptype2: string (nullable = true)\n |-- weaptype2_txt: string (nullable = true)\n |-- weapsubtype2: string (nullable = true)\n |-- weapsubtype2_txt: string (nullable = true)\n |-- weaptype3: string (nullable = true)\n |-- weaptype3_txt: string (nullable = true)\n |-- weapsubtype3: string (nullable = true)\n |-- weapsubtype3_txt: string (nullable = true)\n |-- weaptype4: string (nullable = true)\n |-- weaptype4_txt: string (nullable = true)\n |-- weapsubtype4: string (nullable = true)\n |-- weapsubtype4_txt: string (nullable = true)\n |-- weapdetail: string (nullable = true)\n |-- nkill: string (nullable = true)\n |-- nkillus: string (nullable = true)\n |-- nkillter: string (nullable = true)\n |-- nwound: string (nullable = true)\n |-- nwoundus: string (nullable = true)\n |-- nwoundte: string (nullable = true)\n |-- property: string (nullable = true)\n |-- propextent: string (nullable = true)\n |-- propextent_txt: string (nullable = true)\n |-- propvalue: string (nullable = true)\n |-- propcomment: string (nullable = true)\n |-- ishostkid: string (nullable = true)\n |-- nhostkid: string (nullable = true)\n |-- nhostkidus: string (nullable = true)\n |-- nhours: string (nullable = true)\n |-- ndays: string (nullable = true)\n |-- divert: string (nullable = true)\n |-- kidhijcountry: string (nullable = true)\n |-- ransom: string (nullable = true)\n |-- ransomamt: string (nullable = true)\n |-- ransomamtus: string (nullable = true)\n |-- ransompaid: string (nullable = true)\n |-- ransompaidus: string (nullable = true)\n |-- ransomnote: string (nullable = true)\n |-- hostkidoutcome: string (nullable = true)\n |-- hostkidoutcome_txt: string (nullable = true)\n |-- nreleased: string (nullable = true)\n |-- addnotes: string (nullable = true)\n |-- scite1: string (nullable = true)\n |-- scite2: string (nullable = true)\n |-- scite3: string (nullable = true)\n |-- dbsource: string (nullable = true)\n |-- INT_LOG: string (nullable = true)\n |-- INT_IDEO: string (nullable = true)\n |-- INT_MISC: string (nullable = true)\n |-- INT_ANY: string (nullable = true)\n |-- related: string (nullable = true)\n\n"
     ]
    }
   ],
   "source": [
    "df = spark.read \\\n",
    "    .format(\"csv\") \\\n",
    "    .option(\"header\", \"true\") \\\n",
    "    .option(\"inferSchema\", \"true\") \\\n",
    "    .load(\"dbfs:/FileStore/tables/globalterrorismdb_0718dist_tar.bz2\")\n",
    "\n",
    "display(df.limit(10))\n",
    "df.printSchema()\n"
   ]
  },
  {
   "cell_type": "code",
   "execution_count": 0,
   "metadata": {
    "application/vnd.databricks.v1+cell": {
     "cellMetadata": {
      "byteLimit": 2048000,
      "rowLimit": 10000
     },
     "inputWidgets": {},
     "nuid": "3bdc0789-74a2-49a6-b1a8-f5c704c74a6a",
     "showTitle": false,
     "tableResultSettingsMap": {},
     "title": ""
    }
   },
   "outputs": [],
   "source": [
    "df = df.select(\n",
    "    \"eventid\",\n",
    "    F.col(\"iyear\").alias(\"year\"),\n",
    "    F.col(\"imonth\").alias(\"month\"),\n",
    "    F.col(\"iday\").alias(\"day\"),\n",
    "    \"country\",\n",
    "    \"country_txt\",\n",
    "    \"region\",\n",
    "    \"region_txt\",\n",
    "    \"provstate\",\n",
    "    \"city\",\n",
    "    \"latitude\",\n",
    "    \"longitude\",\n",
    "    \"success\",\n",
    "    \"suicide\",\n",
    "    \"attacktype1\",\n",
    "    \"attacktype1_txt\",\n",
    "    \"targtype1_txt\",\n",
    "    \"targsubtype1_txt\",\n",
    "    \"target1\",\n",
    "    \"natlty1_txt\",\n",
    "    \"gname\",\n",
    "    \"gsubname\",\n",
    "    \"nperps\",\n",
    "    \"weaptype1_txt\",\n",
    "    \"weapsubtype1_txt\",\n",
    "    \"nkill\",\n",
    "    \"nkillus\"\n",
    ")"
   ]
  },
  {
   "cell_type": "code",
   "execution_count": 0,
   "metadata": {
    "application/vnd.databricks.v1+cell": {
     "cellMetadata": {
      "byteLimit": 2048000,
      "rowLimit": 10000
     },
     "inputWidgets": {},
     "nuid": "b9519e2d-f191-4562-bf27-2cbd5f7d24a5",
     "showTitle": false,
     "tableResultSettingsMap": {},
     "title": ""
    }
   },
   "outputs": [
    {
     "output_type": "display_data",
     "data": {
      "text/html": [
       "<style scoped>\n",
       "  .table-result-container {\n",
       "    max-height: 300px;\n",
       "    overflow: auto;\n",
       "  }\n",
       "  table, th, td {\n",
       "    border: 1px solid black;\n",
       "    border-collapse: collapse;\n",
       "  }\n",
       "  th, td {\n",
       "    padding: 5px;\n",
       "  }\n",
       "  th {\n",
       "    text-align: left;\n",
       "  }\n",
       "</style><div class='table-result-container'><table class='table-result'><thead style='background-color: white'><tr><th>eventid</th><th>year</th><th>month</th><th>day</th><th>country</th><th>country_txt</th><th>region</th><th>region_txt</th><th>provstate</th><th>city</th><th>latitude</th><th>longitude</th><th>success</th><th>suicide</th><th>attacktype1</th><th>attacktype1_txt</th><th>targtype1_txt</th><th>targsubtype1_txt</th><th>target1</th><th>natlty1_txt</th><th>gname</th><th>gsubname</th><th>nperps</th><th>weaptype1_txt</th><th>weapsubtype1_txt</th><th>nkill</th><th>nkillus</th></tr></thead><tbody><tr><td>197000000001</td><td>1970</td><td>7</td><td>2</td><td>58</td><td>Dominican Republic</td><td>2</td><td>Central America & Caribbean</td><td>null</td><td>Santo Domingo</td><td>18.456792</td><td>-69.951164</td><td>1</td><td>0</td><td>1</td><td>Assassination</td><td>Private Citizens & Property</td><td>Named Civilian</td><td>Julio Guzman</td><td>Dominican Republic</td><td>MANO-D</td><td>null</td><td>null</td><td>Unknown</td><td>null</td><td>1.0</td><td>null</td></tr><tr><td>197000000002</td><td>1970</td><td>0</td><td>0</td><td>130</td><td>Mexico</td><td>1</td><td>North America</td><td>Federal</td><td>Mexico city</td><td>19.371887</td><td>-99.086624</td><td>1</td><td>0</td><td>6</td><td>Hostage Taking (Kidnapping)</td><td>Government (Diplomatic)</td><td>Diplomatic Personnel (outside of embassy, consulate)</td><td>Nadine Chaval, daughter</td><td>Belgium</td><td>23rd of September Communist League</td><td>null</td><td>7.0</td><td>Unknown</td><td>null</td><td>0.0</td><td>null</td></tr><tr><td>197001000001</td><td>1970</td><td>1</td><td>0</td><td>160</td><td>Philippines</td><td>5</td><td>Southeast Asia</td><td>Tarlac</td><td>Unknown</td><td>15.478598</td><td>120.599741</td><td>1</td><td>0</td><td>1</td><td>Assassination</td><td>Journalists & Media</td><td>Radio Journalist/Staff/Facility</td><td>Employee</td><td>United States</td><td>Unknown</td><td>null</td><td>null</td><td>Unknown</td><td>null</td><td>1.0</td><td>null</td></tr><tr><td>197001000002</td><td>1970</td><td>1</td><td>0</td><td>78</td><td>Greece</td><td>8</td><td>Western Europe</td><td>Attica</td><td>Athens</td><td>37.99749</td><td>23.762728</td><td>1</td><td>0</td><td>3</td><td>Bombing/Explosion</td><td>Government (Diplomatic)</td><td>Embassy/Consulate</td><td>U.S. Embassy</td><td>United States</td><td>Unknown</td><td>null</td><td>null</td><td>Explosives</td><td>Unknown Explosive Type</td><td>null</td><td>null</td></tr><tr><td>197001000003</td><td>1970</td><td>1</td><td>0</td><td>101</td><td>Japan</td><td>4</td><td>East Asia</td><td>Fukouka</td><td>Fukouka</td><td>33.580412</td><td>130.396361</td><td>1</td><td>0</td><td>7</td><td>Facility/Infrastructure Attack</td><td>Government (Diplomatic)</td><td>Embassy/Consulate</td><td>U.S. Consulate</td><td>United States</td><td>Unknown</td><td>null</td><td>null</td><td>Incendiary</td><td>null</td><td>null</td><td>null</td></tr><tr><td>197001010002</td><td>1970</td><td>1</td><td>1</td><td>217</td><td>United States</td><td>1</td><td>North America</td><td>Illinois</td><td>Cairo</td><td>37.005105</td><td>-89.176269</td><td>1</td><td>0</td><td>2</td><td>Armed Assault</td><td>Police</td><td>Police Building (headquarters, station, school)</td><td>Cairo Police Headquarters</td><td>United States</td><td>Black Nationalists</td><td>null</td><td>-99.0</td><td>Firearms</td><td>Unknown Gun Type</td><td>0.0</td><td>0.0</td></tr><tr><td>197001020001</td><td>1970</td><td>1</td><td>2</td><td>218</td><td>Uruguay</td><td>3</td><td>South America</td><td>Montevideo</td><td>Montevideo</td><td>-34.891151</td><td>-56.187214</td><td>0</td><td>0</td><td>1</td><td>Assassination</td><td>Police</td><td>Police Security Forces/Officers</td><td>Juan Maria de Lucah/Chief of Directorate of info. and intell.</td><td>Uruguay</td><td>Tupamaros (Uruguay)</td><td>null</td><td>3.0</td><td>Firearms</td><td>Automatic or Semi-Automatic Rifle</td><td>0.0</td><td>null</td></tr><tr><td>197001020002</td><td>1970</td><td>1</td><td>2</td><td>217</td><td>United States</td><td>1</td><td>North America</td><td>California</td><td>Oakland</td><td>37.791927</td><td>-122.225906</td><td>1</td><td>0</td><td>3</td><td>Bombing/Explosion</td><td>Utilities</td><td>Electricity</td><td>Edes Substation</td><td>United States</td><td>Unknown</td><td>null</td><td>-99.0</td><td>Explosives</td><td>Unknown Explosive Type</td><td>0.0</td><td>0.0</td></tr><tr><td>197001020003</td><td>1970</td><td>1</td><td>2</td><td>217</td><td>United States</td><td>1</td><td>North America</td><td>Wisconsin</td><td>Madison</td><td>43.076592</td><td>-89.412488</td><td>1</td><td>0</td><td>7</td><td>Facility/Infrastructure Attack</td><td>Military</td><td>Military Recruiting Station/Academy</td><td>R.O.T.C. offices at University of Wisconsin, Madison</td><td>United States</td><td>New Year's Gang</td><td>null</td><td>1.0</td><td>Incendiary</td><td>Molotov Cocktail/Petrol Bomb</td><td>0.0</td><td>0.0</td></tr><tr><td>197001030001</td><td>1970</td><td>1</td><td>3</td><td>217</td><td>United States</td><td>1</td><td>North America</td><td>Wisconsin</td><td>Madison</td><td>43.07295</td><td>-89.386694</td><td>1</td><td>0</td><td>7</td><td>Facility/Infrastructure Attack</td><td>Government (General)</td><td>Government Building/Facility/Office</td><td>Selective Service Headquarters in Madison Wisconsin</td><td>United States</td><td>New Year's Gang</td><td>null</td><td>1.0</td><td>Incendiary</td><td>Gasoline or Alcohol</td><td>0.0</td><td>0.0</td></tr></tbody></table></div>"
      ]
     },
     "metadata": {
      "application/vnd.databricks.v1+output": {
       "addedWidgets": {},
       "aggData": [],
       "aggError": "",
       "aggOverflow": false,
       "aggSchema": [],
       "aggSeriesLimitReached": false,
       "aggType": "",
       "arguments": {},
       "columnCustomDisplayInfos": {},
       "data": [
        [
         197000000001,
         1970,
         7,
         2,
         58,
         "Dominican Republic",
         2,
         "Central America & Caribbean",
         null,
         "Santo Domingo",
         18.456792,
         -69.951164,
         "1",
         "0",
         "1",
         "Assassination",
         "Private Citizens & Property",
         "Named Civilian",
         "Julio Guzman",
         "Dominican Republic",
         "MANO-D",
         null,
         null,
         "Unknown",
         null,
         "1.0",
         null
        ],
        [
         197000000002,
         1970,
         0,
         0,
         130,
         "Mexico",
         1,
         "North America",
         "Federal",
         "Mexico city",
         19.371887,
         -99.086624,
         "1",
         "0",
         "6",
         "Hostage Taking (Kidnapping)",
         "Government (Diplomatic)",
         "Diplomatic Personnel (outside of embassy, consulate)",
         "Nadine Chaval, daughter",
         "Belgium",
         "23rd of September Communist League",
         null,
         "7.0",
         "Unknown",
         null,
         "0.0",
         null
        ],
        [
         197001000001,
         1970,
         1,
         0,
         160,
         "Philippines",
         5,
         "Southeast Asia",
         "Tarlac",
         "Unknown",
         15.478598,
         120.599741,
         "1",
         "0",
         "1",
         "Assassination",
         "Journalists & Media",
         "Radio Journalist/Staff/Facility",
         "Employee",
         "United States",
         "Unknown",
         null,
         null,
         "Unknown",
         null,
         "1.0",
         null
        ],
        [
         197001000002,
         1970,
         1,
         0,
         78,
         "Greece",
         8,
         "Western Europe",
         "Attica",
         "Athens",
         37.99749,
         23.762728,
         "1",
         "0",
         "3",
         "Bombing/Explosion",
         "Government (Diplomatic)",
         "Embassy/Consulate",
         "U.S. Embassy",
         "United States",
         "Unknown",
         null,
         null,
         "Explosives",
         "Unknown Explosive Type",
         null,
         null
        ],
        [
         197001000003,
         1970,
         1,
         0,
         101,
         "Japan",
         4,
         "East Asia",
         "Fukouka",
         "Fukouka",
         33.580412,
         130.396361,
         "1",
         "0",
         "7",
         "Facility/Infrastructure Attack",
         "Government (Diplomatic)",
         "Embassy/Consulate",
         "U.S. Consulate",
         "United States",
         "Unknown",
         null,
         null,
         "Incendiary",
         null,
         null,
         null
        ],
        [
         197001010002,
         1970,
         1,
         1,
         217,
         "United States",
         1,
         "North America",
         "Illinois",
         "Cairo",
         37.005105,
         -89.176269,
         "1",
         "0",
         "2",
         "Armed Assault",
         "Police",
         "Police Building (headquarters, station, school)",
         "Cairo Police Headquarters",
         "United States",
         "Black Nationalists",
         null,
         "-99.0",
         "Firearms",
         "Unknown Gun Type",
         "0.0",
         "0.0"
        ],
        [
         197001020001,
         1970,
         1,
         2,
         218,
         "Uruguay",
         3,
         "South America",
         "Montevideo",
         "Montevideo",
         -34.891151,
         -56.187214,
         "0",
         "0",
         "1",
         "Assassination",
         "Police",
         "Police Security Forces/Officers",
         "Juan Maria de Lucah/Chief of Directorate of info. and intell.",
         "Uruguay",
         "Tupamaros (Uruguay)",
         null,
         "3.0",
         "Firearms",
         "Automatic or Semi-Automatic Rifle",
         "0.0",
         null
        ],
        [
         197001020002,
         1970,
         1,
         2,
         217,
         "United States",
         1,
         "North America",
         "California",
         "Oakland",
         37.791927,
         -122.225906,
         "1",
         "0",
         "3",
         "Bombing/Explosion",
         "Utilities",
         "Electricity",
         "Edes Substation",
         "United States",
         "Unknown",
         null,
         "-99.0",
         "Explosives",
         "Unknown Explosive Type",
         "0.0",
         "0.0"
        ],
        [
         197001020003,
         1970,
         1,
         2,
         217,
         "United States",
         1,
         "North America",
         "Wisconsin",
         "Madison",
         43.076592,
         -89.412488,
         "1",
         "0",
         "7",
         "Facility/Infrastructure Attack",
         "Military",
         "Military Recruiting Station/Academy",
         "R.O.T.C. offices at University of Wisconsin, Madison",
         "United States",
         "New Year's Gang",
         null,
         "1.0",
         "Incendiary",
         "Molotov Cocktail/Petrol Bomb",
         "0.0",
         "0.0"
        ],
        [
         197001030001,
         1970,
         1,
         3,
         217,
         "United States",
         1,
         "North America",
         "Wisconsin",
         "Madison",
         43.07295,
         -89.386694,
         "1",
         "0",
         "7",
         "Facility/Infrastructure Attack",
         "Government (General)",
         "Government Building/Facility/Office",
         "Selective Service Headquarters in Madison Wisconsin",
         "United States",
         "New Year's Gang",
         null,
         "1.0",
         "Incendiary",
         "Gasoline or Alcohol",
         "0.0",
         "0.0"
        ]
       ],
       "datasetInfos": [],
       "dbfsResultPath": null,
       "isJsonSchema": true,
       "metadata": {},
       "overflow": false,
       "plotOptions": {
        "customPlotOptions": {},
        "displayType": "table",
        "pivotAggregation": null,
        "pivotColumns": null,
        "xColumns": null,
        "yColumns": null
       },
       "removedWidgets": [],
       "schema": [
        {
         "metadata": "{}",
         "name": "eventid",
         "type": "\"long\""
        },
        {
         "metadata": "{}",
         "name": "year",
         "type": "\"integer\""
        },
        {
         "metadata": "{}",
         "name": "month",
         "type": "\"integer\""
        },
        {
         "metadata": "{}",
         "name": "day",
         "type": "\"integer\""
        },
        {
         "metadata": "{}",
         "name": "country",
         "type": "\"integer\""
        },
        {
         "metadata": "{}",
         "name": "country_txt",
         "type": "\"string\""
        },
        {
         "metadata": "{}",
         "name": "region",
         "type": "\"integer\""
        },
        {
         "metadata": "{}",
         "name": "region_txt",
         "type": "\"string\""
        },
        {
         "metadata": "{}",
         "name": "provstate",
         "type": "\"string\""
        },
        {
         "metadata": "{}",
         "name": "city",
         "type": "\"string\""
        },
        {
         "metadata": "{}",
         "name": "latitude",
         "type": "\"double\""
        },
        {
         "metadata": "{}",
         "name": "longitude",
         "type": "\"double\""
        },
        {
         "metadata": "{}",
         "name": "success",
         "type": "\"string\""
        },
        {
         "metadata": "{}",
         "name": "suicide",
         "type": "\"string\""
        },
        {
         "metadata": "{}",
         "name": "attacktype1",
         "type": "\"string\""
        },
        {
         "metadata": "{}",
         "name": "attacktype1_txt",
         "type": "\"string\""
        },
        {
         "metadata": "{}",
         "name": "targtype1_txt",
         "type": "\"string\""
        },
        {
         "metadata": "{}",
         "name": "targsubtype1_txt",
         "type": "\"string\""
        },
        {
         "metadata": "{}",
         "name": "target1",
         "type": "\"string\""
        },
        {
         "metadata": "{}",
         "name": "natlty1_txt",
         "type": "\"string\""
        },
        {
         "metadata": "{}",
         "name": "gname",
         "type": "\"string\""
        },
        {
         "metadata": "{}",
         "name": "gsubname",
         "type": "\"string\""
        },
        {
         "metadata": "{}",
         "name": "nperps",
         "type": "\"string\""
        },
        {
         "metadata": "{}",
         "name": "weaptype1_txt",
         "type": "\"string\""
        },
        {
         "metadata": "{}",
         "name": "weapsubtype1_txt",
         "type": "\"string\""
        },
        {
         "metadata": "{}",
         "name": "nkill",
         "type": "\"string\""
        },
        {
         "metadata": "{}",
         "name": "nkillus",
         "type": "\"string\""
        }
       ],
       "type": "table"
      }
     },
     "output_type": "display_data"
    }
   ],
   "source": [
    "display(df.limit(10))"
   ]
  },
  {
   "cell_type": "code",
   "execution_count": 0,
   "metadata": {
    "application/vnd.databricks.v1+cell": {
     "cellMetadata": {
      "byteLimit": 2048000,
      "rowLimit": 10000
     },
     "inputWidgets": {},
     "nuid": "a1f51632-42ce-4c0f-8ea7-1ed8cd4ccc04",
     "showTitle": false,
     "tableResultSettingsMap": {},
     "title": ""
    }
   },
   "outputs": [
    {
     "output_type": "stream",
     "name": "stdout",
     "output_type": "stream",
     "text": [
      "root\n |-- eventid: long (nullable = true)\n |-- year: integer (nullable = true)\n |-- month: integer (nullable = true)\n |-- day: integer (nullable = true)\n |-- country: integer (nullable = true)\n |-- country_txt: string (nullable = true)\n |-- region: integer (nullable = true)\n |-- region_txt: string (nullable = true)\n |-- provstate: string (nullable = true)\n |-- city: string (nullable = true)\n |-- latitude: double (nullable = true)\n |-- longitude: double (nullable = true)\n |-- success: string (nullable = true)\n |-- suicide: string (nullable = true)\n |-- attacktype1: string (nullable = true)\n |-- attacktype1_txt: string (nullable = true)\n |-- targtype1_txt: string (nullable = true)\n |-- targsubtype1_txt: string (nullable = true)\n |-- target1: string (nullable = true)\n |-- natlty1_txt: string (nullable = true)\n |-- gname: string (nullable = true)\n |-- gsubname: string (nullable = true)\n |-- nperps: string (nullable = true)\n |-- weaptype1_txt: string (nullable = true)\n |-- weapsubtype1_txt: string (nullable = true)\n |-- nkill: string (nullable = true)\n |-- nkillus: string (nullable = true)\n\n"
     ]
    }
   ],
   "source": [
    "df.printSchema()"
   ]
  },
  {
   "cell_type": "markdown",
   "metadata": {
    "application/vnd.databricks.v1+cell": {
     "cellMetadata": {
      "byteLimit": 2048000,
      "rowLimit": 10000
     },
     "inputWidgets": {},
     "nuid": "f026f297-7b7d-45bf-bc0f-0e60b1af6ff8",
     "showTitle": false,
     "tableResultSettingsMap": {},
     "title": ""
    }
   },
   "source": [
    "success - Success of a terrorist strike\n",
    "\n",
    "suicide - 1 = \"Yes\" The incident was a suicide attack. 0 = \"No\" There is no indication that the incident was a suicide\n",
    "\n",
    "attacktype1 - The general method of attack\n",
    "\n",
    "attacktype1_txt - The general method of attack and broad class of tactics used.\n",
    "\n",
    "targtype1_txt - The general type of target/victim\n",
    "\n",
    "targsubtype1_txt - The more specific target category\n",
    "\n",
    "target1 - The specific person, building, installation that was targeted and/or victimized\n",
    "\n",
    "natlty1_txt - The nationality of the target that was attacked\n",
    "\n",
    "gname - The name of the group that carried out the attack\n",
    "\n",
    "gsubname - Additional details about group that carried out the attack like fractions\n",
    "\n",
    "nperps - The total number of terrorists participating in the incident\n",
    "\n",
    "weaptype1_txt - General type of weapon used in the incident\n",
    "\n",
    "weapsubtype1_txt - More specific value for most of the Weapon Types\n",
    "\n",
    "nkill - The number of total confirmed fatalities for the incident\n",
    "\n",
    "nkillus - The number of U.S. citizens who died as a result of the incident"
   ]
  },
  {
   "cell_type": "markdown",
   "metadata": {
    "application/vnd.databricks.v1+cell": {
     "cellMetadata": {
      "byteLimit": 2048000,
      "rowLimit": 10000
     },
     "inputWidgets": {},
     "nuid": "4ea631b7-7195-437f-8a83-b0f1fe4972a3",
     "showTitle": false,
     "tableResultSettingsMap": {},
     "title": ""
    }
   },
   "source": [
    "#### Imagine you are a security or defense analyst. Analyze the data and draw conclusions on the distribution and nature of terrorist incidents recorded around the world. In your analysis, include maps that visualize the location of different incidents. Your analysis may also provide answers to the following questions:"
   ]
  },
  {
   "cell_type": "markdown",
   "metadata": {
    "application/vnd.databricks.v1+cell": {
     "cellMetadata": {
      "byteLimit": 2048000,
      "rowLimit": 10000
     },
     "inputWidgets": {},
     "nuid": "c14d6a67-6e8e-4927-8376-8598b41dafb2",
     "showTitle": false,
     "tableResultSettingsMap": {},
     "title": ""
    }
   },
   "source": [
    "# How has the number of terrorist activities changed over the years? Are there certain regions where this trend is different from the global averages?"
   ]
  },
  {
   "cell_type": "code",
   "execution_count": 0,
   "metadata": {
    "application/vnd.databricks.v1+cell": {
     "cellMetadata": {
      "byteLimit": 2048000,
      "rowLimit": 10000
     },
     "inputWidgets": {},
     "nuid": "a200b476-19cb-4b7c-ad26-125b70bf3f51",
     "showTitle": false,
     "tableResultSettingsMap": {},
     "title": ""
    }
   },
   "outputs": [
    {
     "output_type": "display_data",
     "data": {
      "text/html": [
       "<style scoped>\n",
       "  .table-result-container {\n",
       "    max-height: 300px;\n",
       "    overflow: auto;\n",
       "  }\n",
       "  table, th, td {\n",
       "    border: 1px solid black;\n",
       "    border-collapse: collapse;\n",
       "  }\n",
       "  th, td {\n",
       "    padding: 5px;\n",
       "  }\n",
       "  th {\n",
       "    text-align: left;\n",
       "  }\n",
       "</style><div class='table-result-container'><table class='table-result'><thead style='background-color: white'><tr><th>year</th><th>total_attacks_global</th></tr></thead><tbody><tr><td>1970</td><td>651</td></tr><tr><td>1971</td><td>471</td></tr><tr><td>1972</td><td>568</td></tr><tr><td>1973</td><td>473</td></tr><tr><td>1974</td><td>581</td></tr><tr><td>1975</td><td>740</td></tr><tr><td>1976</td><td>923</td></tr><tr><td>1977</td><td>1319</td></tr><tr><td>1978</td><td>1526</td></tr><tr><td>1979</td><td>2662</td></tr><tr><td>1980</td><td>2662</td></tr><tr><td>1981</td><td>2586</td></tr><tr><td>1982</td><td>2544</td></tr><tr><td>1983</td><td>2870</td></tr><tr><td>1984</td><td>3495</td></tr><tr><td>1985</td><td>2915</td></tr><tr><td>1986</td><td>2860</td></tr><tr><td>1987</td><td>3183</td></tr><tr><td>1988</td><td>3721</td></tr><tr><td>1989</td><td>4324</td></tr><tr><td>1990</td><td>3887</td></tr><tr><td>1991</td><td>4683</td></tr><tr><td>1992</td><td>5071</td></tr><tr><td>1994</td><td>3456</td></tr><tr><td>1995</td><td>3081</td></tr><tr><td>1996</td><td>3058</td></tr><tr><td>1997</td><td>3197</td></tr><tr><td>1998</td><td>934</td></tr><tr><td>1999</td><td>1395</td></tr><tr><td>2000</td><td>1814</td></tr><tr><td>2001</td><td>1906</td></tr><tr><td>2002</td><td>1333</td></tr><tr><td>2003</td><td>1278</td></tr><tr><td>2004</td><td>1166</td></tr><tr><td>2005</td><td>2017</td></tr><tr><td>2006</td><td>2758</td></tr><tr><td>2007</td><td>3242</td></tr><tr><td>2008</td><td>4805</td></tr><tr><td>2009</td><td>4721</td></tr><tr><td>2010</td><td>4826</td></tr><tr><td>2011</td><td>5076</td></tr><tr><td>2012</td><td>8522</td></tr><tr><td>2013</td><td>12036</td></tr><tr><td>2014</td><td>16903</td></tr><tr><td>2015</td><td>14965</td></tr><tr><td>2016</td><td>13587</td></tr><tr><td>2017</td><td>10900</td></tr></tbody></table></div>"
      ]
     },
     "metadata": {
      "application/vnd.databricks.v1+output": {
       "addedWidgets": {},
       "aggData": [],
       "aggError": "",
       "aggOverflow": false,
       "aggSchema": [],
       "aggSeriesLimitReached": false,
       "aggType": "",
       "arguments": {},
       "columnCustomDisplayInfos": {},
       "data": [
        [
         1970,
         651
        ],
        [
         1971,
         471
        ],
        [
         1972,
         568
        ],
        [
         1973,
         473
        ],
        [
         1974,
         581
        ],
        [
         1975,
         740
        ],
        [
         1976,
         923
        ],
        [
         1977,
         1319
        ],
        [
         1978,
         1526
        ],
        [
         1979,
         2662
        ],
        [
         1980,
         2662
        ],
        [
         1981,
         2586
        ],
        [
         1982,
         2544
        ],
        [
         1983,
         2870
        ],
        [
         1984,
         3495
        ],
        [
         1985,
         2915
        ],
        [
         1986,
         2860
        ],
        [
         1987,
         3183
        ],
        [
         1988,
         3721
        ],
        [
         1989,
         4324
        ],
        [
         1990,
         3887
        ],
        [
         1991,
         4683
        ],
        [
         1992,
         5071
        ],
        [
         1994,
         3456
        ],
        [
         1995,
         3081
        ],
        [
         1996,
         3058
        ],
        [
         1997,
         3197
        ],
        [
         1998,
         934
        ],
        [
         1999,
         1395
        ],
        [
         2000,
         1814
        ],
        [
         2001,
         1906
        ],
        [
         2002,
         1333
        ],
        [
         2003,
         1278
        ],
        [
         2004,
         1166
        ],
        [
         2005,
         2017
        ],
        [
         2006,
         2758
        ],
        [
         2007,
         3242
        ],
        [
         2008,
         4805
        ],
        [
         2009,
         4721
        ],
        [
         2010,
         4826
        ],
        [
         2011,
         5076
        ],
        [
         2012,
         8522
        ],
        [
         2013,
         12036
        ],
        [
         2014,
         16903
        ],
        [
         2015,
         14965
        ],
        [
         2016,
         13587
        ],
        [
         2017,
         10900
        ]
       ],
       "datasetInfos": [],
       "dbfsResultPath": null,
       "isJsonSchema": true,
       "metadata": {},
       "overflow": false,
       "plotOptions": {
        "customPlotOptions": {},
        "displayType": "table",
        "pivotAggregation": null,
        "pivotColumns": null,
        "xColumns": null,
        "yColumns": null
       },
       "removedWidgets": [],
       "schema": [
        {
         "metadata": "{}",
         "name": "year",
         "type": "\"integer\""
        },
        {
         "metadata": "{}",
         "name": "total_attacks_global",
         "type": "\"long\""
        }
       ],
       "type": "table"
      }
     },
     "output_type": "display_data"
    },
    {
     "output_type": "display_data",
     "data": {
      "text/plain": [
       "Databricks visualization. Run in Databricks to view."
      ]
     },
     "metadata": {
      "application/vnd.databricks.v1.subcommand+json": {
       "baseErrorDetails": null,
       "bindings": {},
       "collapsed": false,
       "command": "%python\n__backend_agg_display_orig = display\n__backend_agg_dfs = []\ndef __backend_agg_display_new(df):\n    __backend_agg_df_modules = [\"pandas.core.frame\", \"databricks.koalas.frame\", \"pyspark.sql.dataframe\", \"pyspark.pandas.frame\", \"pyspark.sql.connect.dataframe\"]\n    if (type(df).__module__ in __backend_agg_df_modules and type(df).__name__ == 'DataFrame') or isinstance(df, list):\n        __backend_agg_dfs.append(df)\n\ndisplay = __backend_agg_display_new\n\ndef __backend_agg_user_code_fn():\n    import base64\n    exec(base64.standard_b64decode(\"YXR0YWNrc19wZXJfeWVhciA9IGRmLmdyb3VwQnkoInllYXIiKSBcCiAgICAuYWdnKEYuY291bnQoIioiKS5hbGlhcygidG90YWxfYXR0YWNrc19nbG9iYWwiKSkgXAogICAgLm9yZGVyQnkoInllYXIiKQpkaXNwbGF5KGF0dGFja3NfcGVyX3llYXIp\").decode())\n\ntry:\n    # run user code\n    __backend_agg_user_code_fn()\n\n    #reset display function\n    display = __backend_agg_display_orig\n\n    if len(__backend_agg_dfs) > 0:\n        # create a temp view\n        if type(__backend_agg_dfs[0]).__module__ == \"databricks.koalas.frame\":\n            # koalas dataframe\n            __backend_agg_dfs[0].to_spark().createOrReplaceTempView(\"DatabricksViewfce63cf\")\n        elif type(__backend_agg_dfs[0]).__module__ == \"pandas.core.frame\" or isinstance(__backend_agg_dfs[0], list):\n            # pandas dataframe\n            spark.createDataFrame(__backend_agg_dfs[0]).createOrReplaceTempView(\"DatabricksViewfce63cf\")\n        else:\n            __backend_agg_dfs[0].createOrReplaceTempView(\"DatabricksViewfce63cf\")\n        #run backend agg\n        display(spark.sql(\"\"\"WITH q AS (select * from DatabricksViewfce63cf) SELECT `year`,SUM(`total_attacks`) `column_f9333c2952` FROM q GROUP BY `year`\"\"\"))\n    else:\n        displayHTML(\"dataframe no longer exists. If you're using dataframe.display(), use display(dataframe) instead.\")\n\n\nfinally:\n    spark.sql(\"drop view if exists DatabricksViewfce63cf\")\n    display = __backend_agg_display_orig\n    del __backend_agg_display_new\n    del __backend_agg_display_orig\n    del __backend_agg_dfs\n    del __backend_agg_user_code_fn\n\n",
       "commandTitle": "Visualization 1",
       "commandType": "auto",
       "commandVersion": 0,
       "commentThread": [],
       "commentsVisible": false,
       "contentSha256Hex": null,
       "customPlotOptions": {
        "redashChart": [
         {
          "key": "type",
          "value": "CHART"
         },
         {
          "key": "options",
          "value": {
           "alignYAxesAtZero": true,
           "coefficient": 1,
           "columnConfigurationMap": {
            "x": {
             "column": "year",
             "id": "column_f9333c2951"
            },
            "y": [
             {
              "column": "total_attacks_global",
              "id": "column_f9333c2952",
              "transform": "SUM"
             }
            ]
           },
           "dateTimeFormat": "DD/MM/YYYY HH:mm",
           "direction": {
            "type": "counterclockwise"
           },
           "error_y": {
            "type": "data",
            "visible": true
           },
           "globalSeriesType": "line",
           "isAggregationOn": true,
           "legend": {
            "traceorder": "normal"
           },
           "missingValuesAsZero": true,
           "numberFormat": "0,0.[00000]",
           "percentFormat": "0[.]00%",
           "series": {
            "error_y": {
             "type": "data",
             "visible": true
            },
            "stacking": null
           },
           "seriesOptions": {
            "column_f9333c2952": {
             "name": "total_attacks",
             "type": "line",
             "yAxis": 0
            },
            "total_attacks": {
             "color": null,
             "type": "line"
            }
           },
           "showDataLabels": false,
           "sizemode": "diameter",
           "sortX": true,
           "sortY": true,
           "swappedAxes": false,
           "textFormat": "",
           "useAggregationsUi": true,
           "valuesOptions": {},
           "version": 2,
           "xAxis": {
            "labels": {
             "enabled": true
            },
            "type": "-"
           },
           "yAxis": [
            {
             "type": "-"
            },
            {
             "opposite": true,
             "type": "-"
            }
           ]
          }
         }
        ]
       },
       "datasetPreviewNameToCmdIdMap": {},
       "diffDeletes": [],
       "diffInserts": [],
       "displayType": "redashChart",
       "error": null,
       "errorDetails": null,
       "errorSummary": null,
       "errorTraceType": null,
       "finishTime": 0,
       "globalVars": {},
       "guid": "",
       "height": "auto",
       "hideCommandCode": false,
       "hideCommandResult": false,
       "iPythonMetadata": null,
       "inputWidgets": {},
       "isLockedInExamMode": false,
       "latestUser": "a user",
       "latestUserId": null,
       "listResultMetadata": null,
       "metadata": {
        "byteLimit": 2048000,
        "rowLimit": 10000
       },
       "nuid": "ea08cb89-a672-4c63-9dc1-282f2410877e",
       "origId": 0,
       "parentHierarchy": [],
       "pivotAggregation": null,
       "pivotColumns": null,
       "position": 7.0,
       "resultDbfsErrorMessage": null,
       "resultDbfsStatus": "INLINED_IN_TREE",
       "results": null,
       "showCommandTitle": false,
       "startTime": 0,
       "state": "finished",
       "streamStates": {},
       "subcommandOptions": {
        "queryPlan": {
         "groups": [
          {
           "column": "year",
           "type": "column"
          }
         ],
         "selects": [
          {
           "column": "year",
           "type": "column"
          },
          {
           "alias": "column_f9333c2952",
           "args": [
            {
             "column": "total_attacks_global",
             "type": "column"
            }
           ],
           "function": "SUM",
           "type": "function"
          }
         ]
        }
       },
       "submitTime": 0,
       "subtype": "tableResultSubCmd.visualization",
       "tableResultIndex": 0,
       "tableResultSettingsMap": {},
       "useConsistentColors": false,
       "version": "CommandV1",
       "width": "auto",
       "workflows": [],
       "xColumns": null,
       "yColumns": null
      }
     },
     "output_type": "display_data"
    }
   ],
   "source": [
    "attacks_per_year = df.groupBy(\"year\") \\\n",
    "    .agg(F.count(\"*\").alias(\"total_attacks_global\")) \\\n",
    "    .orderBy(\"year\")\n",
    "display(attacks_per_year)"
   ]
  },
  {
   "cell_type": "code",
   "execution_count": 0,
   "metadata": {
    "application/vnd.databricks.v1+cell": {
     "cellMetadata": {
      "byteLimit": 2048000,
      "rowLimit": 10000
     },
     "inputWidgets": {},
     "nuid": "d0e2439c-4b71-411d-a058-342069613737",
     "showTitle": false,
     "tableResultSettingsMap": {},
     "title": ""
    }
   },
   "outputs": [],
   "source": [
    "attacks_per_year_region = df.groupBy(\"year\", \"region_txt\") \\\n",
    "    .agg(\n",
    "        F.count(\"*\").alias(\"total_attacks_region\"),\n",
    "    ) \\\n",
    "    .orderBy(\"year\", \"region_txt\")\n",
    "\n",
    "joined_df = attacks_per_year_region.join(attacks_per_year, on=\"year\", how=\"left\")\n",
    "joined_df = joined_df.withColumn(\n",
    "    \"region_share\",\n",
    "    F.round((F.col(\"total_attacks_region\") / F.col(\"total_attacks_global\")) * 100, 1)\n",
    ")\n"
   ]
  },
  {
   "cell_type": "code",
   "execution_count": 0,
   "metadata": {
    "application/vnd.databricks.v1+cell": {
     "cellMetadata": {
      "byteLimit": 2048000,
      "rowLimit": 10000
     },
     "inputWidgets": {},
     "nuid": "910cbe61-6833-4139-8803-1896b73c51ff",
     "showTitle": false,
     "tableResultSettingsMap": {},
     "title": ""
    }
   },
   "outputs": [
    {
     "output_type": "display_data",
     "data": {
      "text/html": [
       "<style scoped>\n",
       "  .table-result-container {\n",
       "    max-height: 300px;\n",
       "    overflow: auto;\n",
       "  }\n",
       "  table, th, td {\n",
       "    border: 1px solid black;\n",
       "    border-collapse: collapse;\n",
       "  }\n",
       "  th, td {\n",
       "    padding: 5px;\n",
       "  }\n",
       "  th {\n",
       "    text-align: left;\n",
       "  }\n",
       "</style><div class='table-result-container'><table class='table-result'><thead style='background-color: white'><tr><th>year</th><th>region_txt</th><th>total_attacks_region</th><th>total_attacks_global</th><th>region_share</th></tr></thead><tbody><tr><td>2002</td><td>Western Europe</td><td>120</td><td>1333</td><td>9.0</td></tr><tr><td>1981</td><td>Australasia & Oceania</td><td>3</td><td>2586</td><td>0.1</td></tr><tr><td>1984</td><td>South America</td><td>1492</td><td>3495</td><td>42.7</td></tr><tr><td>1975</td><td>Middle East & North Africa</td><td>44</td><td>740</td><td>5.9</td></tr><tr><td>1978</td><td>Eastern Europe</td><td>2</td><td>1526</td><td>0.1</td></tr><tr><td>1973</td><td>Western Europe</td><td>290</td><td>473</td><td>61.3</td></tr><tr><td>1980</td><td>Southeast Asia</td><td>87</td><td>2662</td><td>3.3</td></tr><tr><td>1980</td><td>Eastern Europe</td><td>1</td><td>2662</td><td>0.0</td></tr><tr><td>1982</td><td>Southeast Asia</td><td>43</td><td>2544</td><td>1.7</td></tr><tr><td>1991</td><td>Southeast Asia</td><td>206</td><td>4683</td><td>4.4</td></tr><tr><td>1976</td><td>North America</td><td>125</td><td>923</td><td>13.5</td></tr><tr><td>1979</td><td>Middle East & North Africa</td><td>455</td><td>2662</td><td>17.1</td></tr><tr><td>2000</td><td>Sub-Saharan Africa</td><td>191</td><td>1814</td><td>10.5</td></tr><tr><td>2003</td><td>East Asia</td><td>6</td><td>1278</td><td>0.5</td></tr><tr><td>1988</td><td>Sub-Saharan Africa</td><td>337</td><td>3721</td><td>9.1</td></tr><tr><td>1997</td><td>Central America & Caribbean</td><td>117</td><td>3197</td><td>3.7</td></tr><tr><td>1975</td><td>Western Europe</td><td>438</td><td>740</td><td>59.2</td></tr><tr><td>1977</td><td>Southeast Asia</td><td>8</td><td>1319</td><td>0.6</td></tr><tr><td>1978</td><td>South Asia</td><td>2</td><td>1526</td><td>0.1</td></tr><tr><td>1988</td><td>South Asia</td><td>801</td><td>3721</td><td>21.5</td></tr><tr><td>1974</td><td>South Asia</td><td>2</td><td>581</td><td>0.3</td></tr><tr><td>1977</td><td>Eastern Europe</td><td>2</td><td>1319</td><td>0.2</td></tr><tr><td>1991</td><td>Sub-Saharan Africa</td><td>271</td><td>4683</td><td>5.8</td></tr><tr><td>1992</td><td>North America</td><td>41</td><td>5071</td><td>0.8</td></tr><tr><td>1979</td><td>Australasia & Oceania</td><td>2</td><td>2662</td><td>0.1</td></tr><tr><td>1994</td><td>South America</td><td>373</td><td>3456</td><td>10.8</td></tr><tr><td>1995</td><td>Eastern Europe</td><td>68</td><td>3081</td><td>2.2</td></tr><tr><td>1997</td><td>Australasia & Oceania</td><td>7</td><td>3197</td><td>0.2</td></tr><tr><td>1984</td><td>Australasia & Oceania</td><td>11</td><td>3495</td><td>0.3</td></tr><tr><td>1990</td><td>Western Europe</td><td>390</td><td>3887</td><td>10.0</td></tr><tr><td>1997</td><td>Central Asia</td><td>49</td><td>3197</td><td>1.5</td></tr><tr><td>1997</td><td>Eastern Europe</td><td>248</td><td>3197</td><td>7.8</td></tr><tr><td>1973</td><td>Central America & Caribbean</td><td>6</td><td>473</td><td>1.3</td></tr><tr><td>1994</td><td>East Asia</td><td>34</td><td>3456</td><td>1.0</td></tr><tr><td>1971</td><td>Middle East & North Africa</td><td>55</td><td>471</td><td>11.7</td></tr><tr><td>1971</td><td>East Asia</td><td>1</td><td>471</td><td>0.2</td></tr><tr><td>1975</td><td>North America</td><td>159</td><td>740</td><td>21.5</td></tr><tr><td>1982</td><td>Middle East & North Africa</td><td>290</td><td>2544</td><td>11.4</td></tr><tr><td>1983</td><td>Middle East & North Africa</td><td>334</td><td>2870</td><td>11.6</td></tr><tr><td>1985</td><td>Western Europe</td><td>466</td><td>2915</td><td>16.0</td></tr><tr><td>1992</td><td>Central Asia</td><td>77</td><td>5071</td><td>1.5</td></tr><tr><td>1997</td><td>Southeast Asia</td><td>159</td><td>3197</td><td>5.0</td></tr><tr><td>2001</td><td>Southeast Asia</td><td>185</td><td>1906</td><td>9.7</td></tr><tr><td>1979</td><td>North America</td><td>79</td><td>2662</td><td>3.0</td></tr><tr><td>2002</td><td>Sub-Saharan Africa</td><td>121</td><td>1333</td><td>9.1</td></tr><tr><td>1992</td><td>South America</td><td>1204</td><td>5071</td><td>23.7</td></tr><tr><td>1995</td><td>Sub-Saharan Africa</td><td>239</td><td>3081</td><td>7.8</td></tr><tr><td>2001</td><td>North America</td><td>48</td><td>1906</td><td>2.5</td></tr><tr><td>2001</td><td>East Asia</td><td>19</td><td>1906</td><td>1.0</td></tr><tr><td>1988</td><td>Australasia & Oceania</td><td>12</td><td>3721</td><td>0.3</td></tr><tr><td>1989</td><td>Australasia & Oceania</td><td>29</td><td>4324</td><td>0.7</td></tr><tr><td>1997</td><td>South Asia</td><td>490</td><td>3197</td><td>15.3</td></tr><tr><td>2001</td><td>Eastern Europe</td><td>252</td><td>1906</td><td>13.2</td></tr><tr><td>1986</td><td>Middle East & North Africa</td><td>196</td><td>2860</td><td>6.9</td></tr><tr><td>1989</td><td>Middle East & North Africa</td><td>465</td><td>4324</td><td>10.8</td></tr><tr><td>1996</td><td>East Asia</td><td>89</td><td>3058</td><td>2.9</td></tr><tr><td>1974</td><td>East Asia</td><td>4</td><td>581</td><td>0.7</td></tr><tr><td>1992</td><td>Central America & Caribbean</td><td>212</td><td>5071</td><td>4.2</td></tr><tr><td>1999</td><td>Eastern Europe</td><td>138</td><td>1395</td><td>9.9</td></tr><tr><td>1979</td><td>South Asia</td><td>34</td><td>2662</td><td>1.3</td></tr><tr><td>1985</td><td>South Asia</td><td>161</td><td>2915</td><td>5.5</td></tr><tr><td>1979</td><td>East Asia</td><td>16</td><td>2662</td><td>0.6</td></tr><tr><td>1986</td><td>Sub-Saharan Africa</td><td>185</td><td>2860</td><td>6.5</td></tr><tr><td>2000</td><td>Eastern Europe</td><td>234</td><td>1814</td><td>12.9</td></tr><tr><td>2000</td><td>East Asia</td><td>19</td><td>1814</td><td>1.0</td></tr><tr><td>1995</td><td>East Asia</td><td>38</td><td>3081</td><td>1.2</td></tr><tr><td>1970</td><td>Australasia & Oceania</td><td>1</td><td>651</td><td>0.2</td></tr><tr><td>1987</td><td>Middle East & North Africa</td><td>202</td><td>3183</td><td>6.3</td></tr><tr><td>1998</td><td>Central America & Caribbean</td><td>1</td><td>934</td><td>0.1</td></tr><tr><td>1999</td><td>Central America & Caribbean</td><td>8</td><td>1395</td><td>0.6</td></tr><tr><td>1987</td><td>East Asia</td><td>10</td><td>3183</td><td>0.3</td></tr><tr><td>1984</td><td>East Asia</td><td>15</td><td>3495</td><td>0.4</td></tr><tr><td>1988</td><td>Middle East & North Africa</td><td>246</td><td>3721</td><td>6.6</td></tr><tr><td>1999</td><td>East Asia</td><td>4</td><td>1395</td><td>0.3</td></tr><tr><td>2001</td><td>Central America & Caribbean</td><td>8</td><td>1906</td><td>0.4</td></tr><tr><td>2002</td><td>Central America & Caribbean</td><td>3</td><td>1333</td><td>0.2</td></tr><tr><td>1977</td><td>Central America & Caribbean</td><td>24</td><td>1319</td><td>1.8</td></tr><tr><td>1980</td><td>North America</td><td>75</td><td>2662</td><td>2.8</td></tr><tr><td>1989</td><td>Central America & Caribbean</td><td>503</td><td>4324</td><td>11.6</td></tr><tr><td>1990</td><td>South America</td><td>1076</td><td>3887</td><td>27.7</td></tr><tr><td>1972</td><td>South America</td><td>33</td><td>568</td><td>5.8</td></tr><tr><td>1986</td><td>North America</td><td>53</td><td>2860</td><td>1.9</td></tr><tr><td>1995</td><td>Southeast Asia</td><td>168</td><td>3081</td><td>5.5</td></tr><tr><td>1999</td><td>Central Asia</td><td>24</td><td>1395</td><td>1.7</td></tr><tr><td>1972</td><td>South Asia</td><td>1</td><td>568</td><td>0.2</td></tr><tr><td>1982</td><td>Eastern Europe</td><td>3</td><td>2544</td><td>0.1</td></tr><tr><td>1992</td><td>East Asia</td><td>74</td><td>5071</td><td>1.5</td></tr><tr><td>1985</td><td>Australasia & Oceania</td><td>7</td><td>2915</td><td>0.2</td></tr><tr><td>2001</td><td>Middle East & North Africa</td><td>362</td><td>1906</td><td>19.0</td></tr><tr><td>1995</td><td>South Asia</td><td>1051</td><td>3081</td><td>34.1</td></tr><tr><td>2003</td><td>Middle East & North Africa</td><td>310</td><td>1278</td><td>24.3</td></tr><tr><td>1974</td><td>Western Europe</td><td>317</td><td>581</td><td>54.6</td></tr><tr><td>1981</td><td>South America</td><td>383</td><td>2586</td><td>14.8</td></tr><tr><td>1991</td><td>Western Europe</td><td>696</td><td>4683</td><td>14.9</td></tr><tr><td>2001</td><td>South America</td><td>229</td><td>1906</td><td>12.0</td></tr><tr><td>1975</td><td>South America</td><td>55</td><td>740</td><td>7.4</td></tr><tr><td>1978</td><td>Central America & Caribbean</td><td>199</td><td>1526</td><td>13.0</td></tr><tr><td>1983</td><td>Southeast Asia</td><td>22</td><td>2870</td><td>0.8</td></tr><tr><td>1983</td><td>Eastern Europe</td><td>2</td><td>2870</td><td>0.1</td></tr><tr><td>1988</td><td>Southeast Asia</td><td>242</td><td>3721</td><td>6.5</td></tr><tr><td>1996</td><td>South Asia</td><td>739</td><td>3058</td><td>24.2</td></tr><tr><td>1998</td><td>Australasia & Oceania</td><td>6</td><td>934</td><td>0.6</td></tr><tr><td>1985</td><td>Central America & Caribbean</td><td>780</td><td>2915</td><td>26.8</td></tr><tr><td>1979</td><td>Southeast Asia</td><td>86</td><td>2662</td><td>3.2</td></tr><tr><td>1981</td><td>Southeast Asia</td><td>50</td><td>2586</td><td>1.9</td></tr><tr><td>1970</td><td>Central America & Caribbean</td><td>7</td><td>651</td><td>1.1</td></tr><tr><td>1998</td><td>Western Europe</td><td>141</td><td>934</td><td>15.1</td></tr><tr><td>2002</td><td>Eastern Europe</td><td>112</td><td>1333</td><td>8.4</td></tr><tr><td>2002</td><td>Australasia & Oceania</td><td>2</td><td>1333</td><td>0.2</td></tr><tr><td>1992</td><td>Southeast Asia</td><td>279</td><td>5071</td><td>5.5</td></tr><tr><td>1996</td><td>Western Europe</td><td>476</td><td>3058</td><td>15.6</td></tr><tr><td>1976</td><td>Central America & Caribbean</td><td>45</td><td>923</td><td>4.9</td></tr><tr><td>1987</td><td>Western Europe</td><td>416</td><td>3183</td><td>13.1</td></tr><tr><td>1994</td><td>Eastern Europe</td><td>95</td><td>3456</td><td>2.7</td></tr><tr><td>1996</td><td>Central America & Caribbean</td><td>116</td><td>3058</td><td>3.8</td></tr><tr><td>1970</td><td>Southeast Asia</td><td>10</td><td>651</td><td>1.5</td></tr><tr><td>1994</td><td>Southeast Asia</td><td>151</td><td>3456</td><td>4.4</td></tr><tr><td>1998</td><td>South America</td><td>108</td><td>934</td><td>11.6</td></tr><tr><td>1991</td><td>Eastern Europe</td><td>84</td><td>4683</td><td>1.8</td></tr><tr><td>1994</td><td>Central Asia</td><td>65</td><td>3456</td><td>1.9</td></tr><tr><td>1996</td><td>Australasia & Oceania</td><td>19</td><td>3058</td><td>0.6</td></tr><tr><td>1974</td><td>Eastern Europe</td><td>2</td><td>581</td><td>0.3</td></tr><tr><td>1997</td><td>North America</td><td>137</td><td>3197</td><td>4.3</td></tr><tr><td>2000</td><td>Central America & Caribbean</td><td>14</td><td>1814</td><td>0.8</td></tr><tr><td>2001</td><td>Australasia & Oceania</td><td>4</td><td>1906</td><td>0.2</td></tr><tr><td>1982</td><td>South America</td><td>639</td><td>2544</td><td>25.1</td></tr><tr><td>1987</td><td>South Asia</td><td>348</td><td>3183</td><td>10.9</td></tr><tr><td>1989</td><td>Southeast Asia</td><td>203</td><td>4324</td><td>4.7</td></tr><tr><td>1999</td><td>Australasia & Oceania</td><td>4</td><td>1395</td><td>0.3</td></tr><tr><td>1980</td><td>Central America & Caribbean</td><td>1070</td><td>2662</td><td>40.2</td></tr><tr><td>1976</td><td>Western Europe</td><td>578</td><td>923</td><td>62.6</td></tr><tr><td>1981</td><td>East Asia</td><td>4</td><td>2586</td><td>0.2</td></tr><tr><td>1995</td><td>North America</td><td>94</td><td>3081</td><td>3.1</td></tr><tr><td>1982</td><td>North America</td><td>86</td><td>2544</td><td>3.4</td></tr><tr><td>1982</td><td>Central America & Caribbean</td><td>996</td><td>2544</td><td>39.2</td></tr><tr><td>1978</td><td>Southeast Asia</td><td>44</td><td>1526</td><td>2.9</td></tr><tr><td>1999</td><td>North America</td><td>56</td><td>1395</td><td>4.0</td></tr><tr><td>1980</td><td>South Asia</td><td>12</td><td>2662</td><td>0.5</td></tr><tr><td>1997</td><td>Sub-Saharan Africa</td><td>279</td><td>3197</td><td>8.7</td></tr><tr><td>1972</td><td>Eastern Europe</td><td>1</td><td>568</td><td>0.2</td></tr><tr><td>1979</td><td>Western Europe</td><td>1020</td><td>2662</td><td>38.3</td></tr><tr><td>1982</td><td>South Asia</td><td>20</td><td>2544</td><td>0.8</td></tr><tr><td>1984</td><td>Eastern Europe</td><td>4</td><td>3495</td><td>0.1</td></tr><tr><td>1986</td><td>South America</td><td>1184</td><td>2860</td><td>41.4</td></tr><tr><td>1990</td><td>Sub-Saharan Africa</td><td>450</td><td>3887</td><td>11.6</td></tr><tr><td>1987</td><td>Southeast Asia</td><td>163</td><td>3183</td><td>5.1</td></tr><tr><td>2003</td><td>Central Asia</td><td>7</td><td>1278</td><td>0.5</td></tr><tr><td>1986</td><td>Eastern Europe</td><td>3</td><td>2860</td><td>0.1</td></tr><tr><td>1976</td><td>Southeast Asia</td><td>12</td><td>923</td><td>1.3</td></tr><tr><td>1976</td><td>South Asia</td><td>4</td><td>923</td><td>0.4</td></tr><tr><td>1986</td><td>East Asia</td><td>12</td><td>2860</td><td>0.4</td></tr><tr><td>1998</td><td>Central Asia</td><td>25</td><td>934</td><td>2.7</td></tr><tr><td>2003</td><td>Eastern Europe</td><td>100</td><td>1278</td><td>7.8</td></tr><tr><td>1972</td><td>Central America & Caribbean</td><td>3</td><td>568</td><td>0.5</td></tr><tr><td>1974</td><td>Middle East & North Africa</td><td>42</td><td>581</td><td>7.2</td></tr><tr><td>1989</td><td>East Asia</td><td>18</td><td>4324</td><td>0.4</td></tr><tr><td>1999</td><td>South America</td><td>134</td><td>1395</td><td>9.6</td></tr><tr><td>1970</td><td>East Asia</td><td>2</td><td>651</td><td>0.3</td></tr><tr><td>1973</td><td>Eastern Europe</td><td>1</td><td>473</td><td>0.2</td></tr><tr><td>1994</td><td>Western Europe</td><td>584</td><td>3456</td><td>16.9</td></tr><tr><td>1998</td><td>Southeast Asia</td><td>32</td><td>934</td><td>3.4</td></tr><tr><td>2002</td><td>Central Asia</td><td>6</td><td>1333</td><td>0.5</td></tr><tr><td>2003</td><td>South America</td><td>117</td><td>1278</td><td>9.2</td></tr><tr><td>1978</td><td>North America</td><td>117</td><td>1526</td><td>7.7</td></tr><tr><td>1981</td><td>North America</td><td>77</td><td>2586</td><td>3.0</td></tr><tr><td>1973</td><td>Southeast Asia</td><td>2</td><td>473</td><td>0.4</td></tr><tr><td>1979</td><td>Central America & Caribbean</td><td>609</td><td>2662</td><td>22.9</td></tr><tr><td>1988</td><td>South America</td><td>1041</td><td>3721</td><td>28.0</td></tr><tr><td>2002</td><td>North America</td><td>33</td><td>1333</td><td>2.5</td></tr><tr><td>1974</td><td>South America</td><td>81</td><td>581</td><td>13.9</td></tr><tr><td>1999</td><td>Sub-Saharan Africa</td><td>143</td><td>1395</td><td>10.3</td></tr><tr><td>1974</td><td>Central America & Caribbean</td><td>11</td><td>581</td><td>1.9</td></tr><tr><td>1982</td><td>Australasia & Oceania</td><td>2</td><td>2544</td><td>0.1</td></tr><tr><td>1996</td><td>Central Asia</td><td>33</td><td>3058</td><td>1.1</td></tr><tr><td>2000</td><td>Southeast Asia</td><td>256</td><td>1814</td><td>14.1</td></tr><tr><td>1979</td><td>Sub-Saharan Africa</td><td>124</td><td>2662</td><td>4.7</td></tr><tr><td>1983</td><td>Central America & Caribbean</td><td>858</td><td>2870</td><td>29.9</td></tr><tr><td>1999</td><td>Middle East & North Africa</td><td>316</td><td>1395</td><td>22.7</td></tr><tr><td>2000</td><td>North America</td><td>41</td><td>1814</td><td>2.3</td></tr><tr><td>2002</td><td>South America</td><td>162</td><td>1333</td><td>12.2</td></tr><tr><td>1978</td><td>Australasia & Oceania</td><td>2</td><td>1526</td><td>0.1</td></tr><tr><td>1981</td><td>Sub-Saharan Africa</td><td>98</td><td>2586</td><td>3.8</td></tr><tr><td>1983</td><td>North America</td><td>47</td><td>2870</td><td>1.6</td></tr><tr><td>1983</td><td>South Asia</td><td>63</td><td>2870</td><td>2.2</td></tr><tr><td>1971</td><td>South America</td><td>24</td><td>471</td><td>5.1</td></tr><tr><td>1972</td><td>Southeast Asia</td><td>16</td><td>568</td><td>2.8</td></tr><tr><td>1976</td><td>Middle East & North Africa</td><td>55</td><td>923</td><td>6.0</td></tr><tr><td>1975</td><td>East Asia</td><td>12</td><td>740</td><td>1.6</td></tr><tr><td>1982</td><td>Sub-Saharan Africa</td><td>60</td><td>2544</td><td>2.4</td></tr><tr><td>1992</td><td>Western Europe</td><td>769</td><td>5071</td><td>15.2</td></tr><tr><td>1996</td><td>North America</td><td>111</td><td>3058</td><td>3.6</td></tr><tr><td>1972</td><td>Middle East & North Africa</td><td>53</td><td>568</td><td>9.3</td></tr><tr><td>1995</td><td>Central Asia</td><td>55</td><td>3081</td><td>1.8</td></tr><tr><td>1970</td><td>Eastern Europe</td><td>12</td><td>651</td><td>1.8</td></tr><tr><td>1981</td><td>Middle East & North Africa</td><td>312</td><td>2586</td><td>12.1</td></tr><tr><td>1980</td><td>South America</td><td>319</td><td>2662</td><td>12.0</td></tr><tr><td>1990</td><td>Australasia & Oceania</td><td>18</td><td>3887</td><td>0.5</td></tr><tr><td>1994</td><td>Central America & Caribbean</td><td>180</td><td>3456</td><td>5.2</td></tr><tr><td>2003</td><td>Western Europe</td><td>121</td><td>1278</td><td>9.5</td></tr><tr><td>1985</td><td>Middle East & North Africa</td><td>133</td><td>2915</td><td>4.6</td></tr><tr><td>1988</td><td>Eastern Europe</td><td>4</td><td>3721</td><td>0.1</td></tr><tr><td>1981</td><td>Central America & Caribbean</td><td>1148</td><td>2586</td><td>44.4</td></tr><tr><td>2000</td><td>Middle East & North Africa</td><td>272</td><td>1814</td><td>15.0</td></tr><tr><td>1984</td><td>Central America & Caribbean</td><td>681</td><td>3495</td><td>19.5</td></tr><tr><td>1991</td><td>Australasia & Oceania</td><td>10</td><td>4683</td><td>0.2</td></tr><tr><td>2003</td><td>North America</td><td>34</td><td>1278</td><td>2.7</td></tr><tr><td>1988</td><td>Western Europe</td><td>489</td><td>3721</td><td>13.1</td></tr><tr><td>1984</td><td>Southeast Asia</td><td>46</td><td>3495</td><td>1.3</td></tr><tr><td>1986</td><td>South Asia</td><td>273</td><td>2860</td><td>9.5</td></tr><tr><td>1996</td><td>Sub-Saharan Africa</td><td>217</td><td>3058</td><td>7.1</td></tr><tr><td>1997</td><td>East Asia</td><td>40</td><td>3197</td><td>1.3</td></tr><tr><td>2001</td><td>Central Asia</td><td>18</td><td>1906</td><td>0.9</td></tr><tr><td>1980</td><td>Sub-Saharan Africa</td><td>58</td><td>2662</td><td>2.2</td></tr><tr><td>1982</td><td>East Asia</td><td>3</td><td>2544</td><td>0.1</td></tr><tr><td>1988</td><td>Central America & Caribbean</td><td>495</td><td>3721</td><td>13.3</td></tr><tr><td>1994</td><td>North America</td><td>101</td><td>3456</td><td>2.9</td></tr><tr><td>1971</td><td>Eastern Europe</td><td>5</td><td>471</td><td>1.1</td></tr><tr><td>1972</td><td>Sub-Saharan Africa</td><td>4</td><td>568</td><td>0.7</td></tr><tr><td>1989</td><td>Eastern Europe</td><td>16</td><td>4324</td><td>0.4</td></tr><tr><td>1994</td><td>Australasia & Oceania</td><td>14</td><td>3456</td><td>0.4</td></tr><tr><td>1978</td><td>Sub-Saharan Africa</td><td>46</td><td>1526</td><td>3.0</td></tr><tr><td>1985</td><td>Southeast Asia</td><td>128</td><td>2915</td><td>4.4</td></tr><tr><td>1992</td><td>Eastern Europe</td><td>91</td><td>5071</td><td>1.8</td></tr><tr><td>1992</td><td>Middle East & North Africa</td><td>1192</td><td>5071</td><td>23.5</td></tr><tr><td>1996</td><td>South America</td><td>517</td><td>3058</td><td>16.9</td></tr><tr><td>1974</td><td>North America</td><td>111</td><td>581</td><td>19.1</td></tr><tr><td>1986</td><td>Western Europe</td><td>455</td><td>2860</td><td>15.9</td></tr><tr><td>1980</td><td>East Asia</td><td>1</td><td>2662</td><td>0.0</td></tr><tr><td>1982</td><td>Western Europe</td><td>402</td><td>2544</td><td>15.8</td></tr><tr><td>1977</td><td>North America</td><td>149</td><td>1319</td><td>11.3</td></tr><tr><td>1985</td><td>Sub-Saharan Africa</td><td>141</td><td>2915</td><td>4.8</td></tr><tr><td>1998</td><td>North America</td><td>37</td><td>934</td><td>4.0</td></tr><tr><td>1991</td><td>South Asia</td><td>677</td><td>4683</td><td>14.5</td></tr><tr><td>1995</td><td>Western Europe</td><td>337</td><td>3081</td><td>10.9</td></tr><tr><td>2002</td><td>East Asia</td><td>4</td><td>1333</td><td>0.3</td></tr><tr><td>1984</td><td>Middle East & North Africa</td><td>268</td><td>3495</td><td>7.7</td></tr><tr><td>1989</td><td>South Asia</td><td>926</td><td>4324</td><td>21.4</td></tr><tr><td>1977</td><td>South America</td><td>119</td><td>1319</td><td>9.0</td></tr><tr><td>1992</td><td>Australasia & Oceania</td><td>17</td><td>5071</td><td>0.3</td></tr><tr><td>1975</td><td>South Asia</td><td>4</td><td>740</td><td>0.5</td></tr><tr><td>1987</td><td>Central America & Caribbean</td><td>566</td><td>3183</td><td>17.8</td></tr><tr><td>1996</td><td>Middle East & North Africa</td><td>373</td><td>3058</td><td>12.2</td></tr><tr><td>1999</td><td>Southeast Asia</td><td>107</td><td>1395</td><td>7.7</td></tr><tr><td>1973</td><td>South Asia</td><td>1</td><td>473</td><td>0.2</td></tr><tr><td>1983</td><td>Sub-Saharan Africa</td><td>106</td><td>2870</td><td>3.7</td></tr><tr><td>2001</td><td>Western Europe</td><td>234</td><td>1906</td><td>12.3</td></tr><tr><td>1972</td><td>Western Europe</td><td>376</td><td>568</td><td>66.2</td></tr><tr><td>1985</td><td>East Asia</td><td>10</td><td>2915</td><td>0.3</td></tr><tr><td>1990</td><td>South Asia</td><td>601</td><td>3887</td><td>15.5</td></tr><tr><td>1971</td><td>Southeast Asia</td><td>6</td><td>471</td><td>1.3</td></tr><tr><td>1989</td><td>North America</td><td>44</td><td>4324</td><td>1.0</td></tr><tr><td>1985</td><td>North America</td><td>44</td><td>2915</td><td>1.5</td></tr><tr><td>1974</td><td>Sub-Saharan Africa</td><td>7</td><td>581</td><td>1.2</td></tr><tr><td>2001</td><td>South Asia</td><td>385</td><td>1906</td><td>20.2</td></tr><tr><td>1999</td><td>Western Europe</td><td>236</td><td>1395</td><td>16.9</td></tr><tr><td>1989</td><td>South America</td><td>1385</td><td>4324</td><td>32.0</td></tr><tr><td>1978</td><td>South America</td><td>222</td><td>1526</td><td>14.5</td></tr><tr><td>1991</td><td>East Asia</td><td>29</td><td>4683</td><td>0.6</td></tr><tr><td>1970</td><td>South Asia</td><td>1</td><td>651</td><td>0.2</td></tr><tr><td>1977</td><td>Middle East & North Africa</td><td>211</td><td>1319</td><td>16.0</td></tr><tr><td>1992</td><td>Sub-Saharan Africa</td><td>570</td><td>5071</td><td>11.2</td></tr><tr><td>1996</td><td>Southeast Asia</td><td>193</td><td>3058</td><td>6.3</td></tr><tr><td>1972</td><td>Australasia & Oceania</td><td>8</td><td>568</td><td>1.4</td></tr><tr><td>1974</td><td>Australasia & Oceania</td><td>1</td><td>581</td><td>0.2</td></tr><tr><td>1991</td><td>North America</td><td>40</td><td>4683</td><td>0.9</td></tr><tr><td>2000</td><td>Australasia & Oceania</td><td>6</td><td>1814</td><td>0.3</td></tr><tr><td>1977</td><td>Western Europe</td><td>771</td><td>1319</td><td>58.5</td></tr><tr><td>1989</td><td>Western Europe</td><td>444</td><td>4324</td><td>10.3</td></tr><tr><td>1997</td><td>Western Europe</td><td>349</td><td>3197</td><td>10.9</td></tr><tr><td>1970</td><td>South America</td><td>65</td><td>651</td><td>10.0</td></tr><tr><td>1974</td><td>Southeast Asia</td><td>3</td><td>581</td><td>0.5</td></tr><tr><td>1994</td><td>South Asia</td><td>376</td><td>3456</td><td>10.9</td></tr><tr><td>2003</td><td>Southeast Asia</td><td>145</td><td>1278</td><td>11.3</td></tr><tr><td>1975</td><td>Central America & Caribbean</td><td>9</td><td>740</td><td>1.2</td></tr><tr><td>1971</td><td>North America</td><td>247</td><td>471</td><td>52.4</td></tr><tr><td>1987</td><td>Eastern Europe</td><td>1</td><td>3183</td><td>0.0</td></tr><tr><td>1991</td><td>Central America & Caribbean</td><td>729</td><td>4683</td><td>15.6</td></tr><tr><td>1995</td><td>Middle East & North Africa</td><td>590</td><td>3081</td><td>19.1</td></tr><tr><td>1991</td><td>South America</td><td>1322</td><td>4683</td><td>28.2</td></tr><tr><td>1988</td><td>East Asia</td><td>24</td><td>3721</td><td>0.6</td></tr><tr><td>1970</td><td>Western Europe</td><td>50</td><td>651</td><td>7.7</td></tr><tr><td>1973</td><td>East Asia</td><td>2</td><td>473</td><td>0.4</td></tr><tr><td>1977</td><td>South Asia</td><td>2</td><td>1319</td><td>0.2</td></tr><tr><td>1981</td><td>South Asia</td><td>23</td><td>2586</td><td>0.9</td></tr><tr><td>1985</td><td>South America</td><td>1040</td><td>2915</td><td>35.7</td></tr><tr><td>1997</td><td>Middle East & North Africa</td><td>548</td><td>3197</td><td>17.1</td></tr><tr><td>1991</td><td>Middle East & North Africa</td><td>612</td><td>4683</td><td>13.1</td></tr><tr><td>1972</td><td>North America</td><td>73</td><td>568</td><td>12.9</td></tr><tr><td>1997</td><td>South America</td><td>774</td><td>3197</td><td>24.2</td></tr><tr><td>2002</td><td>Middle East & North Africa</td><td>326</td><td>1333</td><td>24.5</td></tr><tr><td>1971</td><td>Australasia & Oceania</td><td>1</td><td>471</td><td>0.2</td></tr><tr><td>1975</td><td>Southeast Asia</td><td>7</td><td>740</td><td>0.9</td></tr><tr><td>1995</td><td>Central America & Caribbean</td><td>168</td><td>3081</td><td>5.5</td></tr><tr><td>1971</td><td>Central America & Caribbean</td><td>5</td><td>471</td><td>1.1</td></tr><tr><td>1971</td><td>Western Europe</td><td>125</td><td>471</td><td>26.5</td></tr><tr><td>1975</td><td>Sub-Saharan Africa</td><td>12</td><td>740</td><td>1.6</td></tr><tr><td>1985</td><td>Eastern Europe</td><td>5</td><td>2915</td><td>0.2</td></tr><tr><td>1998</td><td>Sub-Saharan Africa</td><td>87</td><td>934</td><td>9.3</td></tr><tr><td>1978</td><td>East Asia</td><td>35</td><td>1526</td><td>2.3</td></tr><tr><td>1987</td><td>Sub-Saharan Africa</td><td>174</td><td>3183</td><td>5.5</td></tr><tr><td>1981</td><td>Eastern Europe</td><td>4</td><td>2586</td><td>0.2</td></tr><tr><td>1990</td><td>Southeast Asia</td><td>348</td><td>3887</td><td>9.0</td></tr><tr><td>1996</td><td>Eastern Europe</td><td>175</td><td>3058</td><td>5.7</td></tr><tr><td>2000</td><td>South America</td><td>150</td><td>1814</td><td>8.3</td></tr><tr><td>2002</td><td>South Asia</td><td>334</td><td>1333</td><td>25.1</td></tr><tr><td>1976</td><td>East Asia</td><td>2</td><td>923</td><td>0.2</td></tr><tr><td>1986</td><td>Australasia & Oceania</td><td>4</td><td>2860</td><td>0.1</td></tr><tr><td>1998</td><td>Middle East & North Africa</td><td>247</td><td>934</td><td>26.4</td></tr><tr><td>1999</td><td>South Asia</td><td>225</td><td>1395</td><td>16.1</td></tr><tr><td>1995</td><td>Australasia & Oceania</td><td>18</td><td>3081</td><td>0.6</td></tr><tr><td>1977</td><td>Sub-Saharan Africa</td><td>29</td><td>1319</td><td>2.2</td></tr><tr><td>1988</td><td>North America</td><td>30</td><td>3721</td><td>0.8</td></tr><tr><td>1998</td><td>Eastern Europe</td><td>105</td><td>934</td><td>11.2</td></tr><tr><td>1990</td><td>North America</td><td>37</td><td>3887</td><td>1.0</td></tr><tr><td>1970</td><td>North America</td><td>472</td><td>651</td><td>72.5</td></tr><tr><td>1979</td><td>Eastern Europe</td><td>1</td><td>2662</td><td>0.0</td></tr><tr><td>2000</td><td>South Asia</td><td>357</td><td>1814</td><td>19.7</td></tr><tr><td>2002</td><td>Southeast Asia</td><td>110</td><td>1333</td><td>8.3</td></tr><tr><td>1978</td><td>Western Europe</td><td>729</td><td>1526</td><td>47.8</td></tr><tr><td>1980</td><td>Middle East & North Africa</td><td>437</td><td>2662</td><td>16.4</td></tr><tr><td>1998</td><td>East Asia</td><td>9</td><td>934</td><td>1.0</td></tr><tr><td>1978</td><td>Middle East & North Africa</td><td>128</td><td>1526</td><td>8.4</td></tr><tr><td>1983</td><td>South America</td><td>950</td><td>2870</td><td>33.1</td></tr><tr><td>1994</td><td>Middle East & North Africa</td><td>1051</td><td>3456</td><td>30.4</td></tr><tr><td>2003</td><td>South Asia</td><td>353</td><td>1278</td><td>27.6</td></tr><tr><td>2000</td><td>Central Asia</td><td>21</td><td>1814</td><td>1.2</td></tr><tr><td>1976</td><td>South America</td><td>91</td><td>923</td><td>9.9</td></tr><tr><td>1979</td><td>South America</td><td>236</td><td>2662</td><td>8.9</td></tr><tr><td>1990</td><td>East Asia</td><td>99</td><td>3887</td><td>2.5</td></tr><tr><td>1987</td><td>South America</td><td>1265</td><td>3183</td><td>39.7</td></tr><tr><td>1987</td><td>Australasia & Oceania</td><td>3</td><td>3183</td><td>0.1</td></tr><tr><td>1990</td><td>Eastern Europe</td><td>58</td><td>3887</td><td>1.5</td></tr><tr><td>2003</td><td>Central America & Caribbean</td><td>8</td><td>1278</td><td>0.6</td></tr><tr><td>2003</td><td>Sub-Saharan Africa</td><td>73</td><td>1278</td><td>5.7</td></tr><tr><td>1989</td><td>Sub-Saharan Africa</td><td>291</td><td>4324</td><td>6.7</td></tr><tr><td>1973</td><td>Sub-Saharan Africa</td><td>4</td><td>473</td><td>0.8</td></tr><tr><td>1973</td><td>Australasia & Oceania</td><td>1</td><td>473</td><td>0.2</td></tr><tr><td>1976</td><td>Sub-Saharan Africa</td><td>11</td><td>923</td><td>1.2</td></tr><tr><td>1987</td><td>North America</td><td>35</td><td>3183</td><td>1.1</td></tr><tr><td>1992</td><td>South Asia</td><td>545</td><td>5071</td><td>10.7</td></tr><tr><td>2001</td><td>Sub-Saharan Africa</td><td>162</td><td>1906</td><td>8.5</td></tr><tr><td>1984</td><td>Sub-Saharan Africa</td><td>126</td><td>3495</td><td>3.6</td></tr><tr><td>1991</td><td>Central Asia</td><td>7</td><td>4683</td><td>0.1</td></tr><tr><td>1970</td><td>Sub-Saharan Africa</td><td>3</td><td>651</td><td>0.5</td></tr><tr><td>1973</td><td>North America</td><td>64</td><td>473</td><td>13.5</td></tr><tr><td>1994</td><td>Sub-Saharan Africa</td><td>432</td><td>3456</td><td>12.5</td></tr><tr><td>1973</td><td>South America</td><td>83</td><td>473</td><td>17.5</td></tr><tr><td>1977</td><td>East Asia</td><td>4</td><td>1319</td><td>0.3</td></tr><tr><td>1984</td><td>Western Europe</td><td>541</td><td>3495</td><td>15.5</td></tr><tr><td>1986</td><td>Central America & Caribbean</td><td>393</td><td>2860</td><td>13.7</td></tr><tr><td>1986</td><td>Southeast Asia</td><td>102</td><td>2860</td><td>3.6</td></tr><tr><td>1983</td><td>Western Europe</td><td>475</td><td>2870</td><td>16.6</td></tr><tr><td>1980</td><td>Australasia & Oceania</td><td>7</td><td>2662</td><td>0.3</td></tr><tr><td>1990</td><td>Central America & Caribbean</td><td>316</td><td>3887</td><td>8.1</td></tr><tr><td>1995</td><td>South America</td><td>255</td><td>3081</td><td>8.3</td></tr><tr><td>1970</td><td>Middle East & North Africa</td><td>28</td><td>651</td><td>4.3</td></tr><tr><td>1980</td><td>Western Europe</td><td>595</td><td>2662</td><td>22.4</td></tr><tr><td>1971</td><td>Sub-Saharan Africa</td><td>2</td><td>471</td><td>0.4</td></tr><tr><td>1973</td><td>Middle East & North Africa</td><td>19</td><td>473</td><td>4.0</td></tr><tr><td>1990</td><td>Middle East & North Africa</td><td>494</td><td>3887</td><td>12.7</td></tr><tr><td>1983</td><td>East Asia</td><td>13</td><td>2870</td><td>0.5</td></tr><tr><td>1984</td><td>North America</td><td>67</td><td>3495</td><td>1.9</td></tr><tr><td>1998</td><td>South Asia</td><td>136</td><td>934</td><td>14.6</td></tr><tr><td>1984</td><td>South Asia</td><td>244</td><td>3495</td><td>7.0</td></tr><tr><td>1981</td><td>Western Europe</td><td>484</td><td>2586</td><td>18.7</td></tr><tr><td>2000</td><td>Western Europe</td><td>253</td><td>1814</td><td>13.9</td></tr><tr><td>2006</td><td>Sub-Saharan Africa</td><td>114</td><td>2758</td><td>4.1</td></tr><tr><td>2010</td><td>Sub-Saharan Africa</td><td>331</td><td>4826</td><td>6.9</td></tr><tr><td>2009</td><td>Central Asia</td><td>31</td><td>4721</td><td>0.7</td></tr><tr><td>2006</td><td>Middle East & North Africa</td><td>1187</td><td>2758</td><td>43.0</td></tr><tr><td>2009</td><td>South Asia</td><td>1945</td><td>4721</td><td>41.2</td></tr><tr><td>2005</td><td>Sub-Saharan Africa</td><td>60</td><td>2017</td><td>3.0</td></tr><tr><td>2010</td><td>Western Europe</td><td>133</td><td>4826</td><td>2.8</td></tr><tr><td>2009</td><td>Australasia & Oceania</td><td>1</td><td>4721</td><td>0.0</td></tr><tr><td>2004</td><td>East Asia</td><td>4</td><td>1166</td><td>0.3</td></tr><tr><td>2010</td><td>South Asia</td><td>1981</td><td>4826</td><td>41.0</td></tr><tr><td>2006</td><td>Southeast Asia</td><td>272</td><td>2758</td><td>9.9</td></tr><tr><td>2004</td><td>Central America & Caribbean</td><td>5</td><td>1166</td><td>0.4</td></tr><tr><td>2008</td><td>South Asia</td><td>1759</td><td>4805</td><td>36.6</td></tr><tr><td>2005</td><td>Southeast Asia</td><td>204</td><td>2017</td><td>10.1</td></tr><tr><td>2006</td><td>South Asia</td><td>938</td><td>2758</td><td>34.0</td></tr><tr><td>2005</td><td>South Asia</td><td>604</td><td>2017</td><td>29.9</td></tr><tr><td>2010</td><td>Southeast Asia</td><td>473</td><td>4826</td><td>9.8</td></tr><tr><td>2006</td><td>North America</td><td>15</td><td>2758</td><td>0.5</td></tr><tr><td>2005</td><td>Central America & Caribbean</td><td>3</td><td>2017</td><td>0.1</td></tr><tr><td>2003</td><td>Australasia & Oceania</td><td>4</td><td>1278</td><td>0.3</td></tr><tr><td>2009</td><td>Central America & Caribbean</td><td>9</td><td>4721</td><td>0.2</td></tr><tr><td>2008</td><td>Middle East & North Africa</td><td>1536</td><td>4805</td><td>32.0</td></tr><tr><td>2010</td><td>North America</td><td>24</td><td>4826</td><td>0.5</td></tr><tr><td>2008</td><td>Eastern Europe</td><td>209</td><td>4805</td><td>4.3</td></tr><tr><td>2007</td><td>South Asia</td><td>982</td><td>3242</td><td>30.3</td></tr><tr><td>2005</td><td>North America</td><td>22</td><td>2017</td><td>1.1</td></tr><tr><td>2007</td><td>Southeast Asia</td><td>365</td><td>3242</td><td>11.3</td></tr><tr><td>2005</td><td>South America</td><td>49</td><td>2017</td><td>2.4</td></tr><tr><td>2008</td><td>Sub-Saharan Africa</td><td>380</td><td>4805</td><td>7.9</td></tr><tr><td>2006</td><td>Australasia & Oceania</td><td>2</td><td>2758</td><td>0.1</td></tr><tr><td>2007</td><td>Eastern Europe</td><td>62</td><td>3242</td><td>1.9</td></tr><tr><td>2007</td><td>Middle East & North Africa</td><td>1385</td><td>3242</td><td>42.7</td></tr><tr><td>2008</td><td>South America</td><td>144</td><td>4805</td><td>3.0</td></tr><tr><td>2009</td><td>Southeast Asia</td><td>561</td><td>4721</td><td>11.9</td></tr><tr><td>2006</td><td>South America</td><td>50</td><td>2758</td><td>1.8</td></tr><tr><td>2008</td><td>East Asia</td><td>25</td><td>4805</td><td>0.5</td></tr><tr><td>2008</td><td>Central Asia</td><td>36</td><td>4805</td><td>0.7</td></tr><tr><td>2007</td><td>Australasia & Oceania</td><td>1</td><td>3242</td><td>0.0</td></tr><tr><td>2010</td><td>Australasia & Oceania</td><td>1</td><td>4826</td><td>0.0</td></tr><tr><td>2004</td><td>Western Europe</td><td>59</td><td>1166</td><td>5.1</td></tr><tr><td>2009</td><td>Sub-Saharan Africa</td><td>283</td><td>4721</td><td>6.0</td></tr><tr><td>2010</td><td>Central America & Caribbean</td><td>1</td><td>4826</td><td>0.0</td></tr><tr><td>2007</td><td>Sub-Saharan Africa</td><td>302</td><td>3242</td><td>9.3</td></tr><tr><td>2005</td><td>Central Asia</td><td>11</td><td>2017</td><td>0.5</td></tr><tr><td>2007</td><td>North America</td><td>18</td><td>3242</td><td>0.6</td></tr><tr><td>2010</td><td>Eastern Europe</td><td>261</td><td>4826</td><td>5.4</td></tr><tr><td>2005</td><td>East Asia</td><td>2</td><td>2017</td><td>0.1</td></tr><tr><td>2004</td><td>South America</td><td>42</td><td>1166</td><td>3.6</td></tr><tr><td>2008</td><td>Australasia & Oceania</td><td>8</td><td>4805</td><td>0.2</td></tr><tr><td>2007</td><td>Central America & Caribbean</td><td>4</td><td>3242</td><td>0.1</td></tr><tr><td>2006</td><td>Central America & Caribbean</td><td>5</td><td>2758</td><td>0.2</td></tr><tr><td>2008</td><td>Southeast Asia</td><td>514</td><td>4805</td><td>10.7</td></tr><tr><td>2008</td><td>North America</td><td>31</td><td>4805</td><td>0.6</td></tr><tr><td>2006</td><td>Eastern Europe</td><td>70</td><td>2758</td><td>2.5</td></tr><tr><td>2010</td><td>South America</td><td>148</td><td>4826</td><td>3.1</td></tr><tr><td>2010</td><td>Middle East & North Africa</td><td>1463</td><td>4826</td><td>30.3</td></tr><tr><td>2007</td><td>Western Europe</td><td>72</td><td>3242</td><td>2.2</td></tr><tr><td>2009</td><td>Eastern Europe</td><td>165</td><td>4721</td><td>3.5</td></tr><tr><td>2006</td><td>East Asia</td><td>1</td><td>2758</td><td>0.0</td></tr><tr><td>2005</td><td>Eastern Europe</td><td>76</td><td>2017</td><td>3.8</td></tr><tr><td>2004</td><td>Central Asia</td><td>8</td><td>1166</td><td>0.7</td></tr><tr><td>2009</td><td>East Asia</td><td>8</td><td>4721</td><td>0.2</td></tr><tr><td>2004</td><td>North America</td><td>12</td><td>1166</td><td>1.0</td></tr><tr><td>2010</td><td>East Asia</td><td>1</td><td>4826</td><td>0.0</td></tr><tr><td>2007</td><td>South America</td><td>47</td><td>3242</td><td>1.4</td></tr><tr><td>2004</td><td>Southeast Asia</td><td>95</td><td>1166</td><td>8.1</td></tr><tr><td>2008</td><td>Western Europe</td><td>163</td><td>4805</td><td>3.4</td></tr><tr><td>2009</td><td>North America</td><td>16</td><td>4721</td><td>0.3</td></tr><tr><td>2005</td><td>Western Europe</td><td>104</td><td>2017</td><td>5.2</td></tr><tr><td>2007</td><td>Central Asia</td><td>4</td><td>3242</td><td>0.1</td></tr><tr><td>2004</td><td>Eastern Europe</td><td>46</td><td>1166</td><td>3.9</td></tr><tr><td>2009</td><td>Middle East & North Africa</td><td>1361</td><td>4721</td><td>28.8</td></tr><tr><td>2006</td><td>Central Asia</td><td>6</td><td>2758</td><td>0.2</td></tr><tr><td>2005</td><td>Middle East & North Africa</td><td>882</td><td>2017</td><td>43.7</td></tr><tr><td>2004</td><td>Middle East & North Africa</td><td>492</td><td>1166</td><td>42.2</td></tr><tr><td>2010</td><td>Central Asia</td><td>9</td><td>4826</td><td>0.2</td></tr><tr><td>2009</td><td>South America</td><td>159</td><td>4721</td><td>3.4</td></tr><tr><td>2009</td><td>Western Europe</td><td>182</td><td>4721</td><td>3.9</td></tr><tr><td>2006</td><td>Western Europe</td><td>98</td><td>2758</td><td>3.6</td></tr><tr><td>2004</td><td>Sub-Saharan Africa</td><td>34</td><td>1166</td><td>2.9</td></tr><tr><td>2004</td><td>South Asia</td><td>369</td><td>1166</td><td>31.6</td></tr><tr><td>2012</td><td>East Asia</td><td>4</td><td>8522</td><td>0.0</td></tr><tr><td>2011</td><td>Middle East & North Africa</td><td>1663</td><td>5076</td><td>32.8</td></tr><tr><td>2011</td><td>Western Europe</td><td>95</td><td>5076</td><td>1.9</td></tr><tr><td>2013</td><td>Sub-Saharan Africa</td><td>999</td><td>12036</td><td>8.3</td></tr><tr><td>2013</td><td>Central Asia</td><td>7</td><td>12036</td><td>0.1</td></tr><tr><td>2012</td><td>Central Asia</td><td>12</td><td>8522</td><td>0.1</td></tr><tr><td>2011</td><td>Central America & Caribbean</td><td>1</td><td>5076</td><td>0.0</td></tr><tr><td>2013</td><td>Southeast Asia</td><td>1188</td><td>12036</td><td>9.9</td></tr><tr><td>2014</td><td>Southeast Asia</td><td>1082</td><td>16903</td><td>6.4</td></tr><tr><td>2013</td><td>Central America & Caribbean</td><td>14</td><td>12036</td><td>0.1</td></tr><tr><td>2011</td><td>East Asia</td><td>4</td><td>5076</td><td>0.1</td></tr><tr><td>2011</td><td>Southeast Asia</td><td>356</td><td>5076</td><td>7.0</td></tr><tr><td>2012</td><td>South America</td><td>133</td><td>8522</td><td>1.6</td></tr><tr><td>2012</td><td>Central America & Caribbean</td><td>1</td><td>8522</td><td>0.0</td></tr><tr><td>2013</td><td>Western Europe</td><td>261</td><td>12036</td><td>2.2</td></tr><tr><td>2014</td><td>South America</td><td>283</td><td>16903</td><td>1.7</td></tr><tr><td>2013</td><td>East Asia</td><td>15</td><td>12036</td><td>0.1</td></tr><tr><td>2014</td><td>Australasia & Oceania</td><td>9</td><td>16903</td><td>0.1</td></tr><tr><td>2013</td><td>North America</td><td>32</td><td>12036</td><td>0.3</td></tr><tr><td>2012</td><td>Sub-Saharan Africa</td><td>1168</td><td>8522</td><td>13.7</td></tr><tr><td>2014</td><td>Eastern Europe</td><td>962</td><td>16903</td><td>5.7</td></tr><tr><td>2011</td><td>Sub-Saharan Africa</td><td>494</td><td>5076</td><td>9.7</td></tr><tr><td>2012</td><td>Middle East & North Africa</td><td>2409</td><td>8522</td><td>28.3</td></tr><tr><td>2011</td><td>Eastern Europe</td><td>198</td><td>5076</td><td>3.9</td></tr><tr><td>2012</td><td>Western Europe</td><td>193</td><td>8522</td><td>2.3</td></tr><tr><td>2014</td><td>Central Asia</td><td>9</td><td>16903</td><td>0.1</td></tr><tr><td>2011</td><td>North America</td><td>12</td><td>5076</td><td>0.2</td></tr><tr><td>2013</td><td>South Asia</td><td>4612</td><td>12036</td><td>38.3</td></tr><tr><td>2013</td><td>South America</td><td>182</td><td>12036</td><td>1.5</td></tr><tr><td>2012</td><td>North America</td><td>39</td><td>8522</td><td>0.5</td></tr><tr><td>2014</td><td>South Asia</td><td>4998</td><td>16903</td><td>29.6</td></tr><tr><td>2011</td><td>South Asia</td><td>2138</td><td>5076</td><td>42.1</td></tr><tr><td>2012</td><td>Eastern Europe</td><td>173</td><td>8522</td><td>2.0</td></tr><tr><td>2013</td><td>Eastern Europe</td><td>165</td><td>12036</td><td>1.4</td></tr><tr><td>2014</td><td>North America</td><td>37</td><td>16903</td><td>0.2</td></tr><tr><td>2014</td><td>Middle East & North Africa</td><td>6939</td><td>16903</td><td>41.1</td></tr><tr><td>2014</td><td>Western Europe</td><td>215</td><td>16903</td><td>1.3</td></tr><tr><td>2012</td><td>Southeast Asia</td><td>587</td><td>8522</td><td>6.9</td></tr><tr><td>2014</td><td>Sub-Saharan Africa</td><td>2321</td><td>16903</td><td>13.7</td></tr><tr><td>2011</td><td>Central Asia</td><td>9</td><td>5076</td><td>0.2</td></tr><tr><td>2013</td><td>Middle East & North Africa</td><td>4560</td><td>12036</td><td>37.9</td></tr><tr><td>2014</td><td>Central America & Caribbean</td><td>5</td><td>16903</td><td>0.0</td></tr><tr><td>2011</td><td>South America</td><td>106</td><td>5076</td><td>2.1</td></tr><tr><td>2013</td><td>Australasia & Oceania</td><td>1</td><td>12036</td><td>0.0</td></tr><tr><td>2014</td><td>East Asia</td><td>43</td><td>16903</td><td>0.3</td></tr><tr><td>2012</td><td>South Asia</td><td>3803</td><td>8522</td><td>44.6</td></tr><tr><td>2016</td><td>Australasia & Oceania</td><td>10</td><td>13587</td><td>0.1</td></tr><tr><td>2016</td><td>Sub-Saharan Africa</td><td>2077</td><td>13587</td><td>15.3</td></tr><tr><td>2015</td><td>Australasia & Oceania</td><td>14</td><td>14965</td><td>0.1</td></tr><tr><td>2016</td><td>Western Europe</td><td>273</td><td>13587</td><td>2.0</td></tr><tr><td>2015</td><td>East Asia</td><td>28</td><td>14965</td><td>0.2</td></tr><tr><td>2016</td><td>South America</td><td>159</td><td>13587</td><td>1.2</td></tr><tr><td>2015</td><td>Central Asia</td><td>10</td><td>14965</td><td>0.1</td></tr><tr><td>2015</td><td>Western Europe</td><td>333</td><td>14965</td><td>2.2</td></tr><tr><td>2015</td><td>Middle East & North Africa</td><td>6036</td><td>14965</td><td>40.3</td></tr><tr><td>2016</td><td>Central Asia</td><td>17</td><td>13587</td><td>0.1</td></tr><tr><td>2016</td><td>East Asia</td><td>8</td><td>13587</td><td>0.1</td></tr><tr><td>2016</td><td>Southeast Asia</td><td>1077</td><td>13587</td><td>7.9</td></tr><tr><td>2016</td><td>Eastern Europe</td><td>134</td><td>13587</td><td>1.0</td></tr><tr><td>2015</td><td>Eastern Europe</td><td>684</td><td>14965</td><td>4.6</td></tr><tr><td>2016</td><td>Middle East & North Africa</td><td>6115</td><td>13587</td><td>45.0</td></tr><tr><td>2015</td><td>South America</td><td>176</td><td>14965</td><td>1.2</td></tr><tr><td>2015</td><td>Central America & Caribbean</td><td>1</td><td>14965</td><td>0.0</td></tr><tr><td>2016</td><td>North America</td><td>75</td><td>13587</td><td>0.6</td></tr><tr><td>2016</td><td>Central America & Caribbean</td><td>3</td><td>13587</td><td>0.0</td></tr><tr><td>2015</td><td>Sub-Saharan Africa</td><td>1964</td><td>14965</td><td>13.1</td></tr><tr><td>2015</td><td>North America</td><td>62</td><td>14965</td><td>0.4</td></tr><tr><td>2015</td><td>Southeast Asia</td><td>1072</td><td>14965</td><td>7.2</td></tr><tr><td>2015</td><td>South Asia</td><td>4585</td><td>14965</td><td>30.6</td></tr><tr><td>2016</td><td>South Asia</td><td>3639</td><td>13587</td><td>26.8</td></tr><tr><td>2017</td><td>South America</td><td>172</td><td>10900</td><td>1.6</td></tr><tr><td>2017</td><td>North America</td><td>97</td><td>10900</td><td>0.9</td></tr><tr><td>2017</td><td>Central America & Caribbean</td><td>4</td><td>10900</td><td>0.0</td></tr><tr><td>2017</td><td>Sub-Saharan Africa</td><td>1970</td><td>10900</td><td>18.1</td></tr><tr><td>2017</td><td>East Asia</td><td>7</td><td>10900</td><td>0.1</td></tr><tr><td>2017</td><td>Southeast Asia</td><td>1020</td><td>10900</td><td>9.4</td></tr><tr><td>2017</td><td>Eastern Europe</td><td>110</td><td>10900</td><td>1.0</td></tr><tr><td>2017</td><td>South Asia</td><td>3430</td><td>10900</td><td>31.5</td></tr><tr><td>2017</td><td>Middle East & North Africa</td><td>3780</td><td>10900</td><td>34.7</td></tr><tr><td>2017</td><td>Central Asia</td><td>7</td><td>10900</td><td>0.1</td></tr><tr><td>2017</td><td>Australasia & Oceania</td><td>12</td><td>10900</td><td>0.1</td></tr><tr><td>2017</td><td>Western Europe</td><td>291</td><td>10900</td><td>2.7</td></tr></tbody></table></div>"
      ]
     },
     "metadata": {
      "application/vnd.databricks.v1+output": {
       "addedWidgets": {},
       "aggData": [],
       "aggError": "",
       "aggOverflow": false,
       "aggSchema": [],
       "aggSeriesLimitReached": false,
       "aggType": "",
       "arguments": {},
       "columnCustomDisplayInfos": {},
       "data": [
        [
         2002,
         "Western Europe",
         120,
         1333,
         9.0
        ],
        [
         1981,
         "Australasia & Oceania",
         3,
         2586,
         0.1
        ],
        [
         1984,
         "South America",
         1492,
         3495,
         42.7
        ],
        [
         1975,
         "Middle East & North Africa",
         44,
         740,
         5.9
        ],
        [
         1978,
         "Eastern Europe",
         2,
         1526,
         0.1
        ],
        [
         1973,
         "Western Europe",
         290,
         473,
         61.3
        ],
        [
         1980,
         "Southeast Asia",
         87,
         2662,
         3.3
        ],
        [
         1980,
         "Eastern Europe",
         1,
         2662,
         0.0
        ],
        [
         1982,
         "Southeast Asia",
         43,
         2544,
         1.7
        ],
        [
         1991,
         "Southeast Asia",
         206,
         4683,
         4.4
        ],
        [
         1976,
         "North America",
         125,
         923,
         13.5
        ],
        [
         1979,
         "Middle East & North Africa",
         455,
         2662,
         17.1
        ],
        [
         2000,
         "Sub-Saharan Africa",
         191,
         1814,
         10.5
        ],
        [
         2003,
         "East Asia",
         6,
         1278,
         0.5
        ],
        [
         1988,
         "Sub-Saharan Africa",
         337,
         3721,
         9.1
        ],
        [
         1997,
         "Central America & Caribbean",
         117,
         3197,
         3.7
        ],
        [
         1975,
         "Western Europe",
         438,
         740,
         59.2
        ],
        [
         1977,
         "Southeast Asia",
         8,
         1319,
         0.6
        ],
        [
         1978,
         "South Asia",
         2,
         1526,
         0.1
        ],
        [
         1988,
         "South Asia",
         801,
         3721,
         21.5
        ],
        [
         1974,
         "South Asia",
         2,
         581,
         0.3
        ],
        [
         1977,
         "Eastern Europe",
         2,
         1319,
         0.2
        ],
        [
         1991,
         "Sub-Saharan Africa",
         271,
         4683,
         5.8
        ],
        [
         1992,
         "North America",
         41,
         5071,
         0.8
        ],
        [
         1979,
         "Australasia & Oceania",
         2,
         2662,
         0.1
        ],
        [
         1994,
         "South America",
         373,
         3456,
         10.8
        ],
        [
         1995,
         "Eastern Europe",
         68,
         3081,
         2.2
        ],
        [
         1997,
         "Australasia & Oceania",
         7,
         3197,
         0.2
        ],
        [
         1984,
         "Australasia & Oceania",
         11,
         3495,
         0.3
        ],
        [
         1990,
         "Western Europe",
         390,
         3887,
         10.0
        ],
        [
         1997,
         "Central Asia",
         49,
         3197,
         1.5
        ],
        [
         1997,
         "Eastern Europe",
         248,
         3197,
         7.8
        ],
        [
         1973,
         "Central America & Caribbean",
         6,
         473,
         1.3
        ],
        [
         1994,
         "East Asia",
         34,
         3456,
         1.0
        ],
        [
         1971,
         "Middle East & North Africa",
         55,
         471,
         11.7
        ],
        [
         1971,
         "East Asia",
         1,
         471,
         0.2
        ],
        [
         1975,
         "North America",
         159,
         740,
         21.5
        ],
        [
         1982,
         "Middle East & North Africa",
         290,
         2544,
         11.4
        ],
        [
         1983,
         "Middle East & North Africa",
         334,
         2870,
         11.6
        ],
        [
         1985,
         "Western Europe",
         466,
         2915,
         16.0
        ],
        [
         1992,
         "Central Asia",
         77,
         5071,
         1.5
        ],
        [
         1997,
         "Southeast Asia",
         159,
         3197,
         5.0
        ],
        [
         2001,
         "Southeast Asia",
         185,
         1906,
         9.7
        ],
        [
         1979,
         "North America",
         79,
         2662,
         3.0
        ],
        [
         2002,
         "Sub-Saharan Africa",
         121,
         1333,
         9.1
        ],
        [
         1992,
         "South America",
         1204,
         5071,
         23.7
        ],
        [
         1995,
         "Sub-Saharan Africa",
         239,
         3081,
         7.8
        ],
        [
         2001,
         "North America",
         48,
         1906,
         2.5
        ],
        [
         2001,
         "East Asia",
         19,
         1906,
         1.0
        ],
        [
         1988,
         "Australasia & Oceania",
         12,
         3721,
         0.3
        ],
        [
         1989,
         "Australasia & Oceania",
         29,
         4324,
         0.7
        ],
        [
         1997,
         "South Asia",
         490,
         3197,
         15.3
        ],
        [
         2001,
         "Eastern Europe",
         252,
         1906,
         13.2
        ],
        [
         1986,
         "Middle East & North Africa",
         196,
         2860,
         6.9
        ],
        [
         1989,
         "Middle East & North Africa",
         465,
         4324,
         10.8
        ],
        [
         1996,
         "East Asia",
         89,
         3058,
         2.9
        ],
        [
         1974,
         "East Asia",
         4,
         581,
         0.7
        ],
        [
         1992,
         "Central America & Caribbean",
         212,
         5071,
         4.2
        ],
        [
         1999,
         "Eastern Europe",
         138,
         1395,
         9.9
        ],
        [
         1979,
         "South Asia",
         34,
         2662,
         1.3
        ],
        [
         1985,
         "South Asia",
         161,
         2915,
         5.5
        ],
        [
         1979,
         "East Asia",
         16,
         2662,
         0.6
        ],
        [
         1986,
         "Sub-Saharan Africa",
         185,
         2860,
         6.5
        ],
        [
         2000,
         "Eastern Europe",
         234,
         1814,
         12.9
        ],
        [
         2000,
         "East Asia",
         19,
         1814,
         1.0
        ],
        [
         1995,
         "East Asia",
         38,
         3081,
         1.2
        ],
        [
         1970,
         "Australasia & Oceania",
         1,
         651,
         0.2
        ],
        [
         1987,
         "Middle East & North Africa",
         202,
         3183,
         6.3
        ],
        [
         1998,
         "Central America & Caribbean",
         1,
         934,
         0.1
        ],
        [
         1999,
         "Central America & Caribbean",
         8,
         1395,
         0.6
        ],
        [
         1987,
         "East Asia",
         10,
         3183,
         0.3
        ],
        [
         1984,
         "East Asia",
         15,
         3495,
         0.4
        ],
        [
         1988,
         "Middle East & North Africa",
         246,
         3721,
         6.6
        ],
        [
         1999,
         "East Asia",
         4,
         1395,
         0.3
        ],
        [
         2001,
         "Central America & Caribbean",
         8,
         1906,
         0.4
        ],
        [
         2002,
         "Central America & Caribbean",
         3,
         1333,
         0.2
        ],
        [
         1977,
         "Central America & Caribbean",
         24,
         1319,
         1.8
        ],
        [
         1980,
         "North America",
         75,
         2662,
         2.8
        ],
        [
         1989,
         "Central America & Caribbean",
         503,
         4324,
         11.6
        ],
        [
         1990,
         "South America",
         1076,
         3887,
         27.7
        ],
        [
         1972,
         "South America",
         33,
         568,
         5.8
        ],
        [
         1986,
         "North America",
         53,
         2860,
         1.9
        ],
        [
         1995,
         "Southeast Asia",
         168,
         3081,
         5.5
        ],
        [
         1999,
         "Central Asia",
         24,
         1395,
         1.7
        ],
        [
         1972,
         "South Asia",
         1,
         568,
         0.2
        ],
        [
         1982,
         "Eastern Europe",
         3,
         2544,
         0.1
        ],
        [
         1992,
         "East Asia",
         74,
         5071,
         1.5
        ],
        [
         1985,
         "Australasia & Oceania",
         7,
         2915,
         0.2
        ],
        [
         2001,
         "Middle East & North Africa",
         362,
         1906,
         19.0
        ],
        [
         1995,
         "South Asia",
         1051,
         3081,
         34.1
        ],
        [
         2003,
         "Middle East & North Africa",
         310,
         1278,
         24.3
        ],
        [
         1974,
         "Western Europe",
         317,
         581,
         54.6
        ],
        [
         1981,
         "South America",
         383,
         2586,
         14.8
        ],
        [
         1991,
         "Western Europe",
         696,
         4683,
         14.9
        ],
        [
         2001,
         "South America",
         229,
         1906,
         12.0
        ],
        [
         1975,
         "South America",
         55,
         740,
         7.4
        ],
        [
         1978,
         "Central America & Caribbean",
         199,
         1526,
         13.0
        ],
        [
         1983,
         "Southeast Asia",
         22,
         2870,
         0.8
        ],
        [
         1983,
         "Eastern Europe",
         2,
         2870,
         0.1
        ],
        [
         1988,
         "Southeast Asia",
         242,
         3721,
         6.5
        ],
        [
         1996,
         "South Asia",
         739,
         3058,
         24.2
        ],
        [
         1998,
         "Australasia & Oceania",
         6,
         934,
         0.6
        ],
        [
         1985,
         "Central America & Caribbean",
         780,
         2915,
         26.8
        ],
        [
         1979,
         "Southeast Asia",
         86,
         2662,
         3.2
        ],
        [
         1981,
         "Southeast Asia",
         50,
         2586,
         1.9
        ],
        [
         1970,
         "Central America & Caribbean",
         7,
         651,
         1.1
        ],
        [
         1998,
         "Western Europe",
         141,
         934,
         15.1
        ],
        [
         2002,
         "Eastern Europe",
         112,
         1333,
         8.4
        ],
        [
         2002,
         "Australasia & Oceania",
         2,
         1333,
         0.2
        ],
        [
         1992,
         "Southeast Asia",
         279,
         5071,
         5.5
        ],
        [
         1996,
         "Western Europe",
         476,
         3058,
         15.6
        ],
        [
         1976,
         "Central America & Caribbean",
         45,
         923,
         4.9
        ],
        [
         1987,
         "Western Europe",
         416,
         3183,
         13.1
        ],
        [
         1994,
         "Eastern Europe",
         95,
         3456,
         2.7
        ],
        [
         1996,
         "Central America & Caribbean",
         116,
         3058,
         3.8
        ],
        [
         1970,
         "Southeast Asia",
         10,
         651,
         1.5
        ],
        [
         1994,
         "Southeast Asia",
         151,
         3456,
         4.4
        ],
        [
         1998,
         "South America",
         108,
         934,
         11.6
        ],
        [
         1991,
         "Eastern Europe",
         84,
         4683,
         1.8
        ],
        [
         1994,
         "Central Asia",
         65,
         3456,
         1.9
        ],
        [
         1996,
         "Australasia & Oceania",
         19,
         3058,
         0.6
        ],
        [
         1974,
         "Eastern Europe",
         2,
         581,
         0.3
        ],
        [
         1997,
         "North America",
         137,
         3197,
         4.3
        ],
        [
         2000,
         "Central America & Caribbean",
         14,
         1814,
         0.8
        ],
        [
         2001,
         "Australasia & Oceania",
         4,
         1906,
         0.2
        ],
        [
         1982,
         "South America",
         639,
         2544,
         25.1
        ],
        [
         1987,
         "South Asia",
         348,
         3183,
         10.9
        ],
        [
         1989,
         "Southeast Asia",
         203,
         4324,
         4.7
        ],
        [
         1999,
         "Australasia & Oceania",
         4,
         1395,
         0.3
        ],
        [
         1980,
         "Central America & Caribbean",
         1070,
         2662,
         40.2
        ],
        [
         1976,
         "Western Europe",
         578,
         923,
         62.6
        ],
        [
         1981,
         "East Asia",
         4,
         2586,
         0.2
        ],
        [
         1995,
         "North America",
         94,
         3081,
         3.1
        ],
        [
         1982,
         "North America",
         86,
         2544,
         3.4
        ],
        [
         1982,
         "Central America & Caribbean",
         996,
         2544,
         39.2
        ],
        [
         1978,
         "Southeast Asia",
         44,
         1526,
         2.9
        ],
        [
         1999,
         "North America",
         56,
         1395,
         4.0
        ],
        [
         1980,
         "South Asia",
         12,
         2662,
         0.5
        ],
        [
         1997,
         "Sub-Saharan Africa",
         279,
         3197,
         8.7
        ],
        [
         1972,
         "Eastern Europe",
         1,
         568,
         0.2
        ],
        [
         1979,
         "Western Europe",
         1020,
         2662,
         38.3
        ],
        [
         1982,
         "South Asia",
         20,
         2544,
         0.8
        ],
        [
         1984,
         "Eastern Europe",
         4,
         3495,
         0.1
        ],
        [
         1986,
         "South America",
         1184,
         2860,
         41.4
        ],
        [
         1990,
         "Sub-Saharan Africa",
         450,
         3887,
         11.6
        ],
        [
         1987,
         "Southeast Asia",
         163,
         3183,
         5.1
        ],
        [
         2003,
         "Central Asia",
         7,
         1278,
         0.5
        ],
        [
         1986,
         "Eastern Europe",
         3,
         2860,
         0.1
        ],
        [
         1976,
         "Southeast Asia",
         12,
         923,
         1.3
        ],
        [
         1976,
         "South Asia",
         4,
         923,
         0.4
        ],
        [
         1986,
         "East Asia",
         12,
         2860,
         0.4
        ],
        [
         1998,
         "Central Asia",
         25,
         934,
         2.7
        ],
        [
         2003,
         "Eastern Europe",
         100,
         1278,
         7.8
        ],
        [
         1972,
         "Central America & Caribbean",
         3,
         568,
         0.5
        ],
        [
         1974,
         "Middle East & North Africa",
         42,
         581,
         7.2
        ],
        [
         1989,
         "East Asia",
         18,
         4324,
         0.4
        ],
        [
         1999,
         "South America",
         134,
         1395,
         9.6
        ],
        [
         1970,
         "East Asia",
         2,
         651,
         0.3
        ],
        [
         1973,
         "Eastern Europe",
         1,
         473,
         0.2
        ],
        [
         1994,
         "Western Europe",
         584,
         3456,
         16.9
        ],
        [
         1998,
         "Southeast Asia",
         32,
         934,
         3.4
        ],
        [
         2002,
         "Central Asia",
         6,
         1333,
         0.5
        ],
        [
         2003,
         "South America",
         117,
         1278,
         9.2
        ],
        [
         1978,
         "North America",
         117,
         1526,
         7.7
        ],
        [
         1981,
         "North America",
         77,
         2586,
         3.0
        ],
        [
         1973,
         "Southeast Asia",
         2,
         473,
         0.4
        ],
        [
         1979,
         "Central America & Caribbean",
         609,
         2662,
         22.9
        ],
        [
         1988,
         "South America",
         1041,
         3721,
         28.0
        ],
        [
         2002,
         "North America",
         33,
         1333,
         2.5
        ],
        [
         1974,
         "South America",
         81,
         581,
         13.9
        ],
        [
         1999,
         "Sub-Saharan Africa",
         143,
         1395,
         10.3
        ],
        [
         1974,
         "Central America & Caribbean",
         11,
         581,
         1.9
        ],
        [
         1982,
         "Australasia & Oceania",
         2,
         2544,
         0.1
        ],
        [
         1996,
         "Central Asia",
         33,
         3058,
         1.1
        ],
        [
         2000,
         "Southeast Asia",
         256,
         1814,
         14.1
        ],
        [
         1979,
         "Sub-Saharan Africa",
         124,
         2662,
         4.7
        ],
        [
         1983,
         "Central America & Caribbean",
         858,
         2870,
         29.9
        ],
        [
         1999,
         "Middle East & North Africa",
         316,
         1395,
         22.7
        ],
        [
         2000,
         "North America",
         41,
         1814,
         2.3
        ],
        [
         2002,
         "South America",
         162,
         1333,
         12.2
        ],
        [
         1978,
         "Australasia & Oceania",
         2,
         1526,
         0.1
        ],
        [
         1981,
         "Sub-Saharan Africa",
         98,
         2586,
         3.8
        ],
        [
         1983,
         "North America",
         47,
         2870,
         1.6
        ],
        [
         1983,
         "South Asia",
         63,
         2870,
         2.2
        ],
        [
         1971,
         "South America",
         24,
         471,
         5.1
        ],
        [
         1972,
         "Southeast Asia",
         16,
         568,
         2.8
        ],
        [
         1976,
         "Middle East & North Africa",
         55,
         923,
         6.0
        ],
        [
         1975,
         "East Asia",
         12,
         740,
         1.6
        ],
        [
         1982,
         "Sub-Saharan Africa",
         60,
         2544,
         2.4
        ],
        [
         1992,
         "Western Europe",
         769,
         5071,
         15.2
        ],
        [
         1996,
         "North America",
         111,
         3058,
         3.6
        ],
        [
         1972,
         "Middle East & North Africa",
         53,
         568,
         9.3
        ],
        [
         1995,
         "Central Asia",
         55,
         3081,
         1.8
        ],
        [
         1970,
         "Eastern Europe",
         12,
         651,
         1.8
        ],
        [
         1981,
         "Middle East & North Africa",
         312,
         2586,
         12.1
        ],
        [
         1980,
         "South America",
         319,
         2662,
         12.0
        ],
        [
         1990,
         "Australasia & Oceania",
         18,
         3887,
         0.5
        ],
        [
         1994,
         "Central America & Caribbean",
         180,
         3456,
         5.2
        ],
        [
         2003,
         "Western Europe",
         121,
         1278,
         9.5
        ],
        [
         1985,
         "Middle East & North Africa",
         133,
         2915,
         4.6
        ],
        [
         1988,
         "Eastern Europe",
         4,
         3721,
         0.1
        ],
        [
         1981,
         "Central America & Caribbean",
         1148,
         2586,
         44.4
        ],
        [
         2000,
         "Middle East & North Africa",
         272,
         1814,
         15.0
        ],
        [
         1984,
         "Central America & Caribbean",
         681,
         3495,
         19.5
        ],
        [
         1991,
         "Australasia & Oceania",
         10,
         4683,
         0.2
        ],
        [
         2003,
         "North America",
         34,
         1278,
         2.7
        ],
        [
         1988,
         "Western Europe",
         489,
         3721,
         13.1
        ],
        [
         1984,
         "Southeast Asia",
         46,
         3495,
         1.3
        ],
        [
         1986,
         "South Asia",
         273,
         2860,
         9.5
        ],
        [
         1996,
         "Sub-Saharan Africa",
         217,
         3058,
         7.1
        ],
        [
         1997,
         "East Asia",
         40,
         3197,
         1.3
        ],
        [
         2001,
         "Central Asia",
         18,
         1906,
         0.9
        ],
        [
         1980,
         "Sub-Saharan Africa",
         58,
         2662,
         2.2
        ],
        [
         1982,
         "East Asia",
         3,
         2544,
         0.1
        ],
        [
         1988,
         "Central America & Caribbean",
         495,
         3721,
         13.3
        ],
        [
         1994,
         "North America",
         101,
         3456,
         2.9
        ],
        [
         1971,
         "Eastern Europe",
         5,
         471,
         1.1
        ],
        [
         1972,
         "Sub-Saharan Africa",
         4,
         568,
         0.7
        ],
        [
         1989,
         "Eastern Europe",
         16,
         4324,
         0.4
        ],
        [
         1994,
         "Australasia & Oceania",
         14,
         3456,
         0.4
        ],
        [
         1978,
         "Sub-Saharan Africa",
         46,
         1526,
         3.0
        ],
        [
         1985,
         "Southeast Asia",
         128,
         2915,
         4.4
        ],
        [
         1992,
         "Eastern Europe",
         91,
         5071,
         1.8
        ],
        [
         1992,
         "Middle East & North Africa",
         1192,
         5071,
         23.5
        ],
        [
         1996,
         "South America",
         517,
         3058,
         16.9
        ],
        [
         1974,
         "North America",
         111,
         581,
         19.1
        ],
        [
         1986,
         "Western Europe",
         455,
         2860,
         15.9
        ],
        [
         1980,
         "East Asia",
         1,
         2662,
         0.0
        ],
        [
         1982,
         "Western Europe",
         402,
         2544,
         15.8
        ],
        [
         1977,
         "North America",
         149,
         1319,
         11.3
        ],
        [
         1985,
         "Sub-Saharan Africa",
         141,
         2915,
         4.8
        ],
        [
         1998,
         "North America",
         37,
         934,
         4.0
        ],
        [
         1991,
         "South Asia",
         677,
         4683,
         14.5
        ],
        [
         1995,
         "Western Europe",
         337,
         3081,
         10.9
        ],
        [
         2002,
         "East Asia",
         4,
         1333,
         0.3
        ],
        [
         1984,
         "Middle East & North Africa",
         268,
         3495,
         7.7
        ],
        [
         1989,
         "South Asia",
         926,
         4324,
         21.4
        ],
        [
         1977,
         "South America",
         119,
         1319,
         9.0
        ],
        [
         1992,
         "Australasia & Oceania",
         17,
         5071,
         0.3
        ],
        [
         1975,
         "South Asia",
         4,
         740,
         0.5
        ],
        [
         1987,
         "Central America & Caribbean",
         566,
         3183,
         17.8
        ],
        [
         1996,
         "Middle East & North Africa",
         373,
         3058,
         12.2
        ],
        [
         1999,
         "Southeast Asia",
         107,
         1395,
         7.7
        ],
        [
         1973,
         "South Asia",
         1,
         473,
         0.2
        ],
        [
         1983,
         "Sub-Saharan Africa",
         106,
         2870,
         3.7
        ],
        [
         2001,
         "Western Europe",
         234,
         1906,
         12.3
        ],
        [
         1972,
         "Western Europe",
         376,
         568,
         66.2
        ],
        [
         1985,
         "East Asia",
         10,
         2915,
         0.3
        ],
        [
         1990,
         "South Asia",
         601,
         3887,
         15.5
        ],
        [
         1971,
         "Southeast Asia",
         6,
         471,
         1.3
        ],
        [
         1989,
         "North America",
         44,
         4324,
         1.0
        ],
        [
         1985,
         "North America",
         44,
         2915,
         1.5
        ],
        [
         1974,
         "Sub-Saharan Africa",
         7,
         581,
         1.2
        ],
        [
         2001,
         "South Asia",
         385,
         1906,
         20.2
        ],
        [
         1999,
         "Western Europe",
         236,
         1395,
         16.9
        ],
        [
         1989,
         "South America",
         1385,
         4324,
         32.0
        ],
        [
         1978,
         "South America",
         222,
         1526,
         14.5
        ],
        [
         1991,
         "East Asia",
         29,
         4683,
         0.6
        ],
        [
         1970,
         "South Asia",
         1,
         651,
         0.2
        ],
        [
         1977,
         "Middle East & North Africa",
         211,
         1319,
         16.0
        ],
        [
         1992,
         "Sub-Saharan Africa",
         570,
         5071,
         11.2
        ],
        [
         1996,
         "Southeast Asia",
         193,
         3058,
         6.3
        ],
        [
         1972,
         "Australasia & Oceania",
         8,
         568,
         1.4
        ],
        [
         1974,
         "Australasia & Oceania",
         1,
         581,
         0.2
        ],
        [
         1991,
         "North America",
         40,
         4683,
         0.9
        ],
        [
         2000,
         "Australasia & Oceania",
         6,
         1814,
         0.3
        ],
        [
         1977,
         "Western Europe",
         771,
         1319,
         58.5
        ],
        [
         1989,
         "Western Europe",
         444,
         4324,
         10.3
        ],
        [
         1997,
         "Western Europe",
         349,
         3197,
         10.9
        ],
        [
         1970,
         "South America",
         65,
         651,
         10.0
        ],
        [
         1974,
         "Southeast Asia",
         3,
         581,
         0.5
        ],
        [
         1994,
         "South Asia",
         376,
         3456,
         10.9
        ],
        [
         2003,
         "Southeast Asia",
         145,
         1278,
         11.3
        ],
        [
         1975,
         "Central America & Caribbean",
         9,
         740,
         1.2
        ],
        [
         1971,
         "North America",
         247,
         471,
         52.4
        ],
        [
         1987,
         "Eastern Europe",
         1,
         3183,
         0.0
        ],
        [
         1991,
         "Central America & Caribbean",
         729,
         4683,
         15.6
        ],
        [
         1995,
         "Middle East & North Africa",
         590,
         3081,
         19.1
        ],
        [
         1991,
         "South America",
         1322,
         4683,
         28.2
        ],
        [
         1988,
         "East Asia",
         24,
         3721,
         0.6
        ],
        [
         1970,
         "Western Europe",
         50,
         651,
         7.7
        ],
        [
         1973,
         "East Asia",
         2,
         473,
         0.4
        ],
        [
         1977,
         "South Asia",
         2,
         1319,
         0.2
        ],
        [
         1981,
         "South Asia",
         23,
         2586,
         0.9
        ],
        [
         1985,
         "South America",
         1040,
         2915,
         35.7
        ],
        [
         1997,
         "Middle East & North Africa",
         548,
         3197,
         17.1
        ],
        [
         1991,
         "Middle East & North Africa",
         612,
         4683,
         13.1
        ],
        [
         1972,
         "North America",
         73,
         568,
         12.9
        ],
        [
         1997,
         "South America",
         774,
         3197,
         24.2
        ],
        [
         2002,
         "Middle East & North Africa",
         326,
         1333,
         24.5
        ],
        [
         1971,
         "Australasia & Oceania",
         1,
         471,
         0.2
        ],
        [
         1975,
         "Southeast Asia",
         7,
         740,
         0.9
        ],
        [
         1995,
         "Central America & Caribbean",
         168,
         3081,
         5.5
        ],
        [
         1971,
         "Central America & Caribbean",
         5,
         471,
         1.1
        ],
        [
         1971,
         "Western Europe",
         125,
         471,
         26.5
        ],
        [
         1975,
         "Sub-Saharan Africa",
         12,
         740,
         1.6
        ],
        [
         1985,
         "Eastern Europe",
         5,
         2915,
         0.2
        ],
        [
         1998,
         "Sub-Saharan Africa",
         87,
         934,
         9.3
        ],
        [
         1978,
         "East Asia",
         35,
         1526,
         2.3
        ],
        [
         1987,
         "Sub-Saharan Africa",
         174,
         3183,
         5.5
        ],
        [
         1981,
         "Eastern Europe",
         4,
         2586,
         0.2
        ],
        [
         1990,
         "Southeast Asia",
         348,
         3887,
         9.0
        ],
        [
         1996,
         "Eastern Europe",
         175,
         3058,
         5.7
        ],
        [
         2000,
         "South America",
         150,
         1814,
         8.3
        ],
        [
         2002,
         "South Asia",
         334,
         1333,
         25.1
        ],
        [
         1976,
         "East Asia",
         2,
         923,
         0.2
        ],
        [
         1986,
         "Australasia & Oceania",
         4,
         2860,
         0.1
        ],
        [
         1998,
         "Middle East & North Africa",
         247,
         934,
         26.4
        ],
        [
         1999,
         "South Asia",
         225,
         1395,
         16.1
        ],
        [
         1995,
         "Australasia & Oceania",
         18,
         3081,
         0.6
        ],
        [
         1977,
         "Sub-Saharan Africa",
         29,
         1319,
         2.2
        ],
        [
         1988,
         "North America",
         30,
         3721,
         0.8
        ],
        [
         1998,
         "Eastern Europe",
         105,
         934,
         11.2
        ],
        [
         1990,
         "North America",
         37,
         3887,
         1.0
        ],
        [
         1970,
         "North America",
         472,
         651,
         72.5
        ],
        [
         1979,
         "Eastern Europe",
         1,
         2662,
         0.0
        ],
        [
         2000,
         "South Asia",
         357,
         1814,
         19.7
        ],
        [
         2002,
         "Southeast Asia",
         110,
         1333,
         8.3
        ],
        [
         1978,
         "Western Europe",
         729,
         1526,
         47.8
        ],
        [
         1980,
         "Middle East & North Africa",
         437,
         2662,
         16.4
        ],
        [
         1998,
         "East Asia",
         9,
         934,
         1.0
        ],
        [
         1978,
         "Middle East & North Africa",
         128,
         1526,
         8.4
        ],
        [
         1983,
         "South America",
         950,
         2870,
         33.1
        ],
        [
         1994,
         "Middle East & North Africa",
         1051,
         3456,
         30.4
        ],
        [
         2003,
         "South Asia",
         353,
         1278,
         27.6
        ],
        [
         2000,
         "Central Asia",
         21,
         1814,
         1.2
        ],
        [
         1976,
         "South America",
         91,
         923,
         9.9
        ],
        [
         1979,
         "South America",
         236,
         2662,
         8.9
        ],
        [
         1990,
         "East Asia",
         99,
         3887,
         2.5
        ],
        [
         1987,
         "South America",
         1265,
         3183,
         39.7
        ],
        [
         1987,
         "Australasia & Oceania",
         3,
         3183,
         0.1
        ],
        [
         1990,
         "Eastern Europe",
         58,
         3887,
         1.5
        ],
        [
         2003,
         "Central America & Caribbean",
         8,
         1278,
         0.6
        ],
        [
         2003,
         "Sub-Saharan Africa",
         73,
         1278,
         5.7
        ],
        [
         1989,
         "Sub-Saharan Africa",
         291,
         4324,
         6.7
        ],
        [
         1973,
         "Sub-Saharan Africa",
         4,
         473,
         0.8
        ],
        [
         1973,
         "Australasia & Oceania",
         1,
         473,
         0.2
        ],
        [
         1976,
         "Sub-Saharan Africa",
         11,
         923,
         1.2
        ],
        [
         1987,
         "North America",
         35,
         3183,
         1.1
        ],
        [
         1992,
         "South Asia",
         545,
         5071,
         10.7
        ],
        [
         2001,
         "Sub-Saharan Africa",
         162,
         1906,
         8.5
        ],
        [
         1984,
         "Sub-Saharan Africa",
         126,
         3495,
         3.6
        ],
        [
         1991,
         "Central Asia",
         7,
         4683,
         0.1
        ],
        [
         1970,
         "Sub-Saharan Africa",
         3,
         651,
         0.5
        ],
        [
         1973,
         "North America",
         64,
         473,
         13.5
        ],
        [
         1994,
         "Sub-Saharan Africa",
         432,
         3456,
         12.5
        ],
        [
         1973,
         "South America",
         83,
         473,
         17.5
        ],
        [
         1977,
         "East Asia",
         4,
         1319,
         0.3
        ],
        [
         1984,
         "Western Europe",
         541,
         3495,
         15.5
        ],
        [
         1986,
         "Central America & Caribbean",
         393,
         2860,
         13.7
        ],
        [
         1986,
         "Southeast Asia",
         102,
         2860,
         3.6
        ],
        [
         1983,
         "Western Europe",
         475,
         2870,
         16.6
        ],
        [
         1980,
         "Australasia & Oceania",
         7,
         2662,
         0.3
        ],
        [
         1990,
         "Central America & Caribbean",
         316,
         3887,
         8.1
        ],
        [
         1995,
         "South America",
         255,
         3081,
         8.3
        ],
        [
         1970,
         "Middle East & North Africa",
         28,
         651,
         4.3
        ],
        [
         1980,
         "Western Europe",
         595,
         2662,
         22.4
        ],
        [
         1971,
         "Sub-Saharan Africa",
         2,
         471,
         0.4
        ],
        [
         1973,
         "Middle East & North Africa",
         19,
         473,
         4.0
        ],
        [
         1990,
         "Middle East & North Africa",
         494,
         3887,
         12.7
        ],
        [
         1983,
         "East Asia",
         13,
         2870,
         0.5
        ],
        [
         1984,
         "North America",
         67,
         3495,
         1.9
        ],
        [
         1998,
         "South Asia",
         136,
         934,
         14.6
        ],
        [
         1984,
         "South Asia",
         244,
         3495,
         7.0
        ],
        [
         1981,
         "Western Europe",
         484,
         2586,
         18.7
        ],
        [
         2000,
         "Western Europe",
         253,
         1814,
         13.9
        ],
        [
         2006,
         "Sub-Saharan Africa",
         114,
         2758,
         4.1
        ],
        [
         2010,
         "Sub-Saharan Africa",
         331,
         4826,
         6.9
        ],
        [
         2009,
         "Central Asia",
         31,
         4721,
         0.7
        ],
        [
         2006,
         "Middle East & North Africa",
         1187,
         2758,
         43.0
        ],
        [
         2009,
         "South Asia",
         1945,
         4721,
         41.2
        ],
        [
         2005,
         "Sub-Saharan Africa",
         60,
         2017,
         3.0
        ],
        [
         2010,
         "Western Europe",
         133,
         4826,
         2.8
        ],
        [
         2009,
         "Australasia & Oceania",
         1,
         4721,
         0.0
        ],
        [
         2004,
         "East Asia",
         4,
         1166,
         0.3
        ],
        [
         2010,
         "South Asia",
         1981,
         4826,
         41.0
        ],
        [
         2006,
         "Southeast Asia",
         272,
         2758,
         9.9
        ],
        [
         2004,
         "Central America & Caribbean",
         5,
         1166,
         0.4
        ],
        [
         2008,
         "South Asia",
         1759,
         4805,
         36.6
        ],
        [
         2005,
         "Southeast Asia",
         204,
         2017,
         10.1
        ],
        [
         2006,
         "South Asia",
         938,
         2758,
         34.0
        ],
        [
         2005,
         "South Asia",
         604,
         2017,
         29.9
        ],
        [
         2010,
         "Southeast Asia",
         473,
         4826,
         9.8
        ],
        [
         2006,
         "North America",
         15,
         2758,
         0.5
        ],
        [
         2005,
         "Central America & Caribbean",
         3,
         2017,
         0.1
        ],
        [
         2003,
         "Australasia & Oceania",
         4,
         1278,
         0.3
        ],
        [
         2009,
         "Central America & Caribbean",
         9,
         4721,
         0.2
        ],
        [
         2008,
         "Middle East & North Africa",
         1536,
         4805,
         32.0
        ],
        [
         2010,
         "North America",
         24,
         4826,
         0.5
        ],
        [
         2008,
         "Eastern Europe",
         209,
         4805,
         4.3
        ],
        [
         2007,
         "South Asia",
         982,
         3242,
         30.3
        ],
        [
         2005,
         "North America",
         22,
         2017,
         1.1
        ],
        [
         2007,
         "Southeast Asia",
         365,
         3242,
         11.3
        ],
        [
         2005,
         "South America",
         49,
         2017,
         2.4
        ],
        [
         2008,
         "Sub-Saharan Africa",
         380,
         4805,
         7.9
        ],
        [
         2006,
         "Australasia & Oceania",
         2,
         2758,
         0.1
        ],
        [
         2007,
         "Eastern Europe",
         62,
         3242,
         1.9
        ],
        [
         2007,
         "Middle East & North Africa",
         1385,
         3242,
         42.7
        ],
        [
         2008,
         "South America",
         144,
         4805,
         3.0
        ],
        [
         2009,
         "Southeast Asia",
         561,
         4721,
         11.9
        ],
        [
         2006,
         "South America",
         50,
         2758,
         1.8
        ],
        [
         2008,
         "East Asia",
         25,
         4805,
         0.5
        ],
        [
         2008,
         "Central Asia",
         36,
         4805,
         0.7
        ],
        [
         2007,
         "Australasia & Oceania",
         1,
         3242,
         0.0
        ],
        [
         2010,
         "Australasia & Oceania",
         1,
         4826,
         0.0
        ],
        [
         2004,
         "Western Europe",
         59,
         1166,
         5.1
        ],
        [
         2009,
         "Sub-Saharan Africa",
         283,
         4721,
         6.0
        ],
        [
         2010,
         "Central America & Caribbean",
         1,
         4826,
         0.0
        ],
        [
         2007,
         "Sub-Saharan Africa",
         302,
         3242,
         9.3
        ],
        [
         2005,
         "Central Asia",
         11,
         2017,
         0.5
        ],
        [
         2007,
         "North America",
         18,
         3242,
         0.6
        ],
        [
         2010,
         "Eastern Europe",
         261,
         4826,
         5.4
        ],
        [
         2005,
         "East Asia",
         2,
         2017,
         0.1
        ],
        [
         2004,
         "South America",
         42,
         1166,
         3.6
        ],
        [
         2008,
         "Australasia & Oceania",
         8,
         4805,
         0.2
        ],
        [
         2007,
         "Central America & Caribbean",
         4,
         3242,
         0.1
        ],
        [
         2006,
         "Central America & Caribbean",
         5,
         2758,
         0.2
        ],
        [
         2008,
         "Southeast Asia",
         514,
         4805,
         10.7
        ],
        [
         2008,
         "North America",
         31,
         4805,
         0.6
        ],
        [
         2006,
         "Eastern Europe",
         70,
         2758,
         2.5
        ],
        [
         2010,
         "South America",
         148,
         4826,
         3.1
        ],
        [
         2010,
         "Middle East & North Africa",
         1463,
         4826,
         30.3
        ],
        [
         2007,
         "Western Europe",
         72,
         3242,
         2.2
        ],
        [
         2009,
         "Eastern Europe",
         165,
         4721,
         3.5
        ],
        [
         2006,
         "East Asia",
         1,
         2758,
         0.0
        ],
        [
         2005,
         "Eastern Europe",
         76,
         2017,
         3.8
        ],
        [
         2004,
         "Central Asia",
         8,
         1166,
         0.7
        ],
        [
         2009,
         "East Asia",
         8,
         4721,
         0.2
        ],
        [
         2004,
         "North America",
         12,
         1166,
         1.0
        ],
        [
         2010,
         "East Asia",
         1,
         4826,
         0.0
        ],
        [
         2007,
         "South America",
         47,
         3242,
         1.4
        ],
        [
         2004,
         "Southeast Asia",
         95,
         1166,
         8.1
        ],
        [
         2008,
         "Western Europe",
         163,
         4805,
         3.4
        ],
        [
         2009,
         "North America",
         16,
         4721,
         0.3
        ],
        [
         2005,
         "Western Europe",
         104,
         2017,
         5.2
        ],
        [
         2007,
         "Central Asia",
         4,
         3242,
         0.1
        ],
        [
         2004,
         "Eastern Europe",
         46,
         1166,
         3.9
        ],
        [
         2009,
         "Middle East & North Africa",
         1361,
         4721,
         28.8
        ],
        [
         2006,
         "Central Asia",
         6,
         2758,
         0.2
        ],
        [
         2005,
         "Middle East & North Africa",
         882,
         2017,
         43.7
        ],
        [
         2004,
         "Middle East & North Africa",
         492,
         1166,
         42.2
        ],
        [
         2010,
         "Central Asia",
         9,
         4826,
         0.2
        ],
        [
         2009,
         "South America",
         159,
         4721,
         3.4
        ],
        [
         2009,
         "Western Europe",
         182,
         4721,
         3.9
        ],
        [
         2006,
         "Western Europe",
         98,
         2758,
         3.6
        ],
        [
         2004,
         "Sub-Saharan Africa",
         34,
         1166,
         2.9
        ],
        [
         2004,
         "South Asia",
         369,
         1166,
         31.6
        ],
        [
         2012,
         "East Asia",
         4,
         8522,
         0.0
        ],
        [
         2011,
         "Middle East & North Africa",
         1663,
         5076,
         32.8
        ],
        [
         2011,
         "Western Europe",
         95,
         5076,
         1.9
        ],
        [
         2013,
         "Sub-Saharan Africa",
         999,
         12036,
         8.3
        ],
        [
         2013,
         "Central Asia",
         7,
         12036,
         0.1
        ],
        [
         2012,
         "Central Asia",
         12,
         8522,
         0.1
        ],
        [
         2011,
         "Central America & Caribbean",
         1,
         5076,
         0.0
        ],
        [
         2013,
         "Southeast Asia",
         1188,
         12036,
         9.9
        ],
        [
         2014,
         "Southeast Asia",
         1082,
         16903,
         6.4
        ],
        [
         2013,
         "Central America & Caribbean",
         14,
         12036,
         0.1
        ],
        [
         2011,
         "East Asia",
         4,
         5076,
         0.1
        ],
        [
         2011,
         "Southeast Asia",
         356,
         5076,
         7.0
        ],
        [
         2012,
         "South America",
         133,
         8522,
         1.6
        ],
        [
         2012,
         "Central America & Caribbean",
         1,
         8522,
         0.0
        ],
        [
         2013,
         "Western Europe",
         261,
         12036,
         2.2
        ],
        [
         2014,
         "South America",
         283,
         16903,
         1.7
        ],
        [
         2013,
         "East Asia",
         15,
         12036,
         0.1
        ],
        [
         2014,
         "Australasia & Oceania",
         9,
         16903,
         0.1
        ],
        [
         2013,
         "North America",
         32,
         12036,
         0.3
        ],
        [
         2012,
         "Sub-Saharan Africa",
         1168,
         8522,
         13.7
        ],
        [
         2014,
         "Eastern Europe",
         962,
         16903,
         5.7
        ],
        [
         2011,
         "Sub-Saharan Africa",
         494,
         5076,
         9.7
        ],
        [
         2012,
         "Middle East & North Africa",
         2409,
         8522,
         28.3
        ],
        [
         2011,
         "Eastern Europe",
         198,
         5076,
         3.9
        ],
        [
         2012,
         "Western Europe",
         193,
         8522,
         2.3
        ],
        [
         2014,
         "Central Asia",
         9,
         16903,
         0.1
        ],
        [
         2011,
         "North America",
         12,
         5076,
         0.2
        ],
        [
         2013,
         "South Asia",
         4612,
         12036,
         38.3
        ],
        [
         2013,
         "South America",
         182,
         12036,
         1.5
        ],
        [
         2012,
         "North America",
         39,
         8522,
         0.5
        ],
        [
         2014,
         "South Asia",
         4998,
         16903,
         29.6
        ],
        [
         2011,
         "South Asia",
         2138,
         5076,
         42.1
        ],
        [
         2012,
         "Eastern Europe",
         173,
         8522,
         2.0
        ],
        [
         2013,
         "Eastern Europe",
         165,
         12036,
         1.4
        ],
        [
         2014,
         "North America",
         37,
         16903,
         0.2
        ],
        [
         2014,
         "Middle East & North Africa",
         6939,
         16903,
         41.1
        ],
        [
         2014,
         "Western Europe",
         215,
         16903,
         1.3
        ],
        [
         2012,
         "Southeast Asia",
         587,
         8522,
         6.9
        ],
        [
         2014,
         "Sub-Saharan Africa",
         2321,
         16903,
         13.7
        ],
        [
         2011,
         "Central Asia",
         9,
         5076,
         0.2
        ],
        [
         2013,
         "Middle East & North Africa",
         4560,
         12036,
         37.9
        ],
        [
         2014,
         "Central America & Caribbean",
         5,
         16903,
         0.0
        ],
        [
         2011,
         "South America",
         106,
         5076,
         2.1
        ],
        [
         2013,
         "Australasia & Oceania",
         1,
         12036,
         0.0
        ],
        [
         2014,
         "East Asia",
         43,
         16903,
         0.3
        ],
        [
         2012,
         "South Asia",
         3803,
         8522,
         44.6
        ],
        [
         2016,
         "Australasia & Oceania",
         10,
         13587,
         0.1
        ],
        [
         2016,
         "Sub-Saharan Africa",
         2077,
         13587,
         15.3
        ],
        [
         2015,
         "Australasia & Oceania",
         14,
         14965,
         0.1
        ],
        [
         2016,
         "Western Europe",
         273,
         13587,
         2.0
        ],
        [
         2015,
         "East Asia",
         28,
         14965,
         0.2
        ],
        [
         2016,
         "South America",
         159,
         13587,
         1.2
        ],
        [
         2015,
         "Central Asia",
         10,
         14965,
         0.1
        ],
        [
         2015,
         "Western Europe",
         333,
         14965,
         2.2
        ],
        [
         2015,
         "Middle East & North Africa",
         6036,
         14965,
         40.3
        ],
        [
         2016,
         "Central Asia",
         17,
         13587,
         0.1
        ],
        [
         2016,
         "East Asia",
         8,
         13587,
         0.1
        ],
        [
         2016,
         "Southeast Asia",
         1077,
         13587,
         7.9
        ],
        [
         2016,
         "Eastern Europe",
         134,
         13587,
         1.0
        ],
        [
         2015,
         "Eastern Europe",
         684,
         14965,
         4.6
        ],
        [
         2016,
         "Middle East & North Africa",
         6115,
         13587,
         45.0
        ],
        [
         2015,
         "South America",
         176,
         14965,
         1.2
        ],
        [
         2015,
         "Central America & Caribbean",
         1,
         14965,
         0.0
        ],
        [
         2016,
         "North America",
         75,
         13587,
         0.6
        ],
        [
         2016,
         "Central America & Caribbean",
         3,
         13587,
         0.0
        ],
        [
         2015,
         "Sub-Saharan Africa",
         1964,
         14965,
         13.1
        ],
        [
         2015,
         "North America",
         62,
         14965,
         0.4
        ],
        [
         2015,
         "Southeast Asia",
         1072,
         14965,
         7.2
        ],
        [
         2015,
         "South Asia",
         4585,
         14965,
         30.6
        ],
        [
         2016,
         "South Asia",
         3639,
         13587,
         26.8
        ],
        [
         2017,
         "South America",
         172,
         10900,
         1.6
        ],
        [
         2017,
         "North America",
         97,
         10900,
         0.9
        ],
        [
         2017,
         "Central America & Caribbean",
         4,
         10900,
         0.0
        ],
        [
         2017,
         "Sub-Saharan Africa",
         1970,
         10900,
         18.1
        ],
        [
         2017,
         "East Asia",
         7,
         10900,
         0.1
        ],
        [
         2017,
         "Southeast Asia",
         1020,
         10900,
         9.4
        ],
        [
         2017,
         "Eastern Europe",
         110,
         10900,
         1.0
        ],
        [
         2017,
         "South Asia",
         3430,
         10900,
         31.5
        ],
        [
         2017,
         "Middle East & North Africa",
         3780,
         10900,
         34.7
        ],
        [
         2017,
         "Central Asia",
         7,
         10900,
         0.1
        ],
        [
         2017,
         "Australasia & Oceania",
         12,
         10900,
         0.1
        ],
        [
         2017,
         "Western Europe",
         291,
         10900,
         2.7
        ]
       ],
       "datasetInfos": [],
       "dbfsResultPath": null,
       "isJsonSchema": true,
       "metadata": {},
       "overflow": false,
       "plotOptions": {
        "customPlotOptions": {},
        "displayType": "table",
        "pivotAggregation": null,
        "pivotColumns": null,
        "xColumns": null,
        "yColumns": null
       },
       "removedWidgets": [],
       "schema": [
        {
         "metadata": "{}",
         "name": "year",
         "type": "\"integer\""
        },
        {
         "metadata": "{}",
         "name": "region_txt",
         "type": "\"string\""
        },
        {
         "metadata": "{}",
         "name": "total_attacks_region",
         "type": "\"long\""
        },
        {
         "metadata": "{}",
         "name": "total_attacks_global",
         "type": "\"long\""
        },
        {
         "metadata": "{}",
         "name": "region_share",
         "type": "\"double\""
        }
       ],
       "type": "table"
      }
     },
     "output_type": "display_data"
    },
    {
     "output_type": "display_data",
     "data": {
      "text/plain": [
       "Databricks visualization. Run in Databricks to view."
      ]
     },
     "metadata": {
      "application/vnd.databricks.v1.subcommand+json": {
       "baseErrorDetails": null,
       "bindings": {},
       "collapsed": false,
       "command": "%python\n__backend_agg_display_orig = display\n__backend_agg_dfs = []\ndef __backend_agg_display_new(df):\n    __backend_agg_df_modules = [\"pandas.core.frame\", \"databricks.koalas.frame\", \"pyspark.sql.dataframe\", \"pyspark.pandas.frame\", \"pyspark.sql.connect.dataframe\"]\n    if (type(df).__module__ in __backend_agg_df_modules and type(df).__name__ == 'DataFrame') or isinstance(df, list):\n        __backend_agg_dfs.append(df)\n\ndisplay = __backend_agg_display_new\n\ndef __backend_agg_user_code_fn():\n    import base64\n    exec(base64.standard_b64decode(\"ZGlzcGxheShqb2luZWRfZGYp\").decode())\n\ntry:\n    # run user code\n    __backend_agg_user_code_fn()\n\n    #reset display function\n    display = __backend_agg_display_orig\n\n    if len(__backend_agg_dfs) > 0:\n        # create a temp view\n        if type(__backend_agg_dfs[0]).__module__ == \"databricks.koalas.frame\":\n            # koalas dataframe\n            __backend_agg_dfs[0].to_spark().createOrReplaceTempView(\"DatabricksView4a0d45c\")\n        elif type(__backend_agg_dfs[0]).__module__ == \"pandas.core.frame\" or isinstance(__backend_agg_dfs[0], list):\n            # pandas dataframe\n            spark.createDataFrame(__backend_agg_dfs[0]).createOrReplaceTempView(\"DatabricksView4a0d45c\")\n        else:\n            __backend_agg_dfs[0].createOrReplaceTempView(\"DatabricksView4a0d45c\")\n        #run backend agg\n        display(spark.sql(\"\"\"WITH q AS (select * from DatabricksView4a0d45c) SELECT `year`,SUM(`region_share`) `column_b1c907f9162`,`region_txt` FROM q GROUP BY `region_txt`,`year`\"\"\"))\n    else:\n        displayHTML(\"dataframe no longer exists. If you're using dataframe.display(), use display(dataframe) instead.\")\n\n\nfinally:\n    spark.sql(\"drop view if exists DatabricksView4a0d45c\")\n    display = __backend_agg_display_orig\n    del __backend_agg_display_new\n    del __backend_agg_display_orig\n    del __backend_agg_dfs\n    del __backend_agg_user_code_fn\n\n",
       "commandTitle": "Visualization 1",
       "commandType": "auto",
       "commandVersion": 0,
       "commentThread": [],
       "commentsVisible": false,
       "contentSha256Hex": null,
       "customPlotOptions": {
        "redashChart": [
         {
          "key": "type",
          "value": "CHART"
         },
         {
          "key": "options",
          "value": {
           "alignYAxesAtZero": true,
           "coefficient": 1,
           "columnConfigurationMap": {
            "series": {
             "column": "region_txt",
             "id": "column_b1c907f9164"
            },
            "x": {
             "column": "year",
             "id": "column_b1c907f9160"
            },
            "y": [
             {
              "column": "region_share",
              "id": "column_b1c907f9162",
              "transform": "SUM"
             }
            ]
           },
           "dateTimeFormat": "DD/MM/YYYY HH:mm",
           "direction": {
            "type": "counterclockwise"
           },
           "error_y": {
            "type": "data",
            "visible": true
           },
           "globalSeriesType": "line",
           "isAggregationOn": true,
           "legend": {
            "traceorder": "normal"
           },
           "missingValuesAsZero": true,
           "numberFormat": "0,0.[00000]",
           "percentFormat": "0[.]00%",
           "series": {
            "error_y": {
             "type": "data",
             "visible": true
            },
            "stacking": null
           },
           "seriesOptions": {
            "column_b1c907f9162": {
             "type": "line",
             "yAxis": 0
            }
           },
           "showDataLabels": false,
           "sizemode": "diameter",
           "sortX": true,
           "sortY": true,
           "swappedAxes": false,
           "textFormat": "",
           "useAggregationsUi": true,
           "valuesOptions": {},
           "version": 2,
           "xAxis": {
            "labels": {
             "enabled": true
            },
            "type": "-"
           },
           "yAxis": [
            {
             "type": "-"
            },
            {
             "opposite": true,
             "type": "-"
            }
           ]
          }
         }
        ]
       },
       "datasetPreviewNameToCmdIdMap": {},
       "diffDeletes": [],
       "diffInserts": [],
       "displayType": "redashChart",
       "error": null,
       "errorDetails": null,
       "errorSummary": null,
       "errorTraceType": null,
       "finishTime": 0,
       "globalVars": {},
       "guid": "",
       "height": "auto",
       "hideCommandCode": false,
       "hideCommandResult": false,
       "iPythonMetadata": null,
       "inputWidgets": {},
       "isLockedInExamMode": false,
       "latestUser": "a user",
       "latestUserId": null,
       "listResultMetadata": null,
       "metadata": {},
       "nuid": "991b076b-ab15-41c7-a594-10bab4951f3d",
       "origId": 0,
       "parentHierarchy": [],
       "pivotAggregation": null,
       "pivotColumns": null,
       "position": 8.5,
       "resultDbfsErrorMessage": null,
       "resultDbfsStatus": "INLINED_IN_TREE",
       "results": null,
       "showCommandTitle": false,
       "startTime": 0,
       "state": "input",
       "streamStates": {},
       "subcommandOptions": {
        "queryPlan": {
         "groups": [
          {
           "column": "year",
           "type": "column"
          },
          {
           "column": "region_txt",
           "type": "column"
          }
         ],
         "selects": [
          {
           "column": "year",
           "type": "column"
          },
          {
           "alias": "column_b1c907f9162",
           "args": [
            {
             "column": "region_share",
             "type": "column"
            }
           ],
           "function": "SUM",
           "type": "function"
          },
          {
           "column": "region_txt",
           "type": "column"
          }
         ]
        }
       },
       "submitTime": 0,
       "subtype": "tableResultSubCmd.visualization",
       "tableResultIndex": 0,
       "tableResultSettingsMap": {},
       "useConsistentColors": false,
       "version": "CommandV1",
       "width": "auto",
       "workflows": [],
       "xColumns": null,
       "yColumns": null
      }
     },
     "output_type": "display_data"
    }
   ],
   "source": [
    "display(joined_df)"
   ]
  },
  {
   "cell_type": "code",
   "execution_count": 0,
   "metadata": {
    "application/vnd.databricks.v1+cell": {
     "cellMetadata": {
      "byteLimit": 2048000,
      "rowLimit": 10000
     },
     "inputWidgets": {},
     "nuid": "de158a74-578c-454a-87d1-e5ee7a51607e",
     "showTitle": false,
     "tableResultSettingsMap": {},
     "title": ""
    }
   },
   "outputs": [
    {
     "output_type": "display_data",
     "data": {
      "text/html": [
       "<style scoped>\n",
       "  .table-result-container {\n",
       "    max-height: 300px;\n",
       "    overflow: auto;\n",
       "  }\n",
       "  table, th, td {\n",
       "    border: 1px solid black;\n",
       "    border-collapse: collapse;\n",
       "  }\n",
       "  th, td {\n",
       "    padding: 5px;\n",
       "  }\n",
       "  th {\n",
       "    text-align: left;\n",
       "  }\n",
       "</style><div class='table-result-container'><table class='table-result'><thead style='background-color: white'><tr><th>year</th><th>region_txt</th><th>total_attacks_region</th><th>total_attacks_global</th><th>region_share</th></tr></thead><tbody><tr><td>2002</td><td>Western Europe</td><td>120</td><td>1333</td><td>9.0</td></tr><tr><td>1984</td><td>South America</td><td>1492</td><td>3495</td><td>42.7</td></tr><tr><td>1975</td><td>Middle East & North Africa</td><td>44</td><td>740</td><td>5.9</td></tr><tr><td>1973</td><td>Western Europe</td><td>290</td><td>473</td><td>61.3</td></tr><tr><td>1979</td><td>Middle East & North Africa</td><td>455</td><td>2662</td><td>17.1</td></tr><tr><td>2000</td><td>Sub-Saharan Africa</td><td>191</td><td>1814</td><td>10.5</td></tr><tr><td>1988</td><td>Sub-Saharan Africa</td><td>337</td><td>3721</td><td>9.1</td></tr><tr><td>1975</td><td>Western Europe</td><td>438</td><td>740</td><td>59.2</td></tr><tr><td>1978</td><td>South Asia</td><td>2</td><td>1526</td><td>0.1</td></tr><tr><td>1988</td><td>South Asia</td><td>801</td><td>3721</td><td>21.5</td></tr><tr><td>1974</td><td>South Asia</td><td>2</td><td>581</td><td>0.3</td></tr><tr><td>1991</td><td>Sub-Saharan Africa</td><td>271</td><td>4683</td><td>5.8</td></tr><tr><td>1994</td><td>South America</td><td>373</td><td>3456</td><td>10.8</td></tr><tr><td>1990</td><td>Western Europe</td><td>390</td><td>3887</td><td>10.0</td></tr><tr><td>1971</td><td>Middle East & North Africa</td><td>55</td><td>471</td><td>11.7</td></tr><tr><td>1982</td><td>Middle East & North Africa</td><td>290</td><td>2544</td><td>11.4</td></tr><tr><td>1983</td><td>Middle East & North Africa</td><td>334</td><td>2870</td><td>11.6</td></tr><tr><td>1985</td><td>Western Europe</td><td>466</td><td>2915</td><td>16.0</td></tr><tr><td>2002</td><td>Sub-Saharan Africa</td><td>121</td><td>1333</td><td>9.1</td></tr><tr><td>1992</td><td>South America</td><td>1204</td><td>5071</td><td>23.7</td></tr><tr><td>1995</td><td>Sub-Saharan Africa</td><td>239</td><td>3081</td><td>7.8</td></tr><tr><td>1997</td><td>South Asia</td><td>490</td><td>3197</td><td>15.3</td></tr><tr><td>1986</td><td>Middle East & North Africa</td><td>196</td><td>2860</td><td>6.9</td></tr><tr><td>1989</td><td>Middle East & North Africa</td><td>465</td><td>4324</td><td>10.8</td></tr><tr><td>1979</td><td>South Asia</td><td>34</td><td>2662</td><td>1.3</td></tr><tr><td>1985</td><td>South Asia</td><td>161</td><td>2915</td><td>5.5</td></tr><tr><td>1986</td><td>Sub-Saharan Africa</td><td>185</td><td>2860</td><td>6.5</td></tr><tr><td>1987</td><td>Middle East & North Africa</td><td>202</td><td>3183</td><td>6.3</td></tr><tr><td>1988</td><td>Middle East & North Africa</td><td>246</td><td>3721</td><td>6.6</td></tr><tr><td>1990</td><td>South America</td><td>1076</td><td>3887</td><td>27.7</td></tr><tr><td>1972</td><td>South America</td><td>33</td><td>568</td><td>5.8</td></tr><tr><td>1972</td><td>South Asia</td><td>1</td><td>568</td><td>0.2</td></tr><tr><td>2001</td><td>Middle East & North Africa</td><td>362</td><td>1906</td><td>19.0</td></tr><tr><td>1995</td><td>South Asia</td><td>1051</td><td>3081</td><td>34.1</td></tr><tr><td>2003</td><td>Middle East & North Africa</td><td>310</td><td>1278</td><td>24.3</td></tr><tr><td>1974</td><td>Western Europe</td><td>317</td><td>581</td><td>54.6</td></tr><tr><td>1981</td><td>South America</td><td>383</td><td>2586</td><td>14.8</td></tr><tr><td>1991</td><td>Western Europe</td><td>696</td><td>4683</td><td>14.9</td></tr><tr><td>2001</td><td>South America</td><td>229</td><td>1906</td><td>12.0</td></tr><tr><td>1975</td><td>South America</td><td>55</td><td>740</td><td>7.4</td></tr><tr><td>1996</td><td>South Asia</td><td>739</td><td>3058</td><td>24.2</td></tr><tr><td>1998</td><td>Western Europe</td><td>141</td><td>934</td><td>15.1</td></tr><tr><td>1996</td><td>Western Europe</td><td>476</td><td>3058</td><td>15.6</td></tr><tr><td>1987</td><td>Western Europe</td><td>416</td><td>3183</td><td>13.1</td></tr><tr><td>1998</td><td>South America</td><td>108</td><td>934</td><td>11.6</td></tr><tr><td>1982</td><td>South America</td><td>639</td><td>2544</td><td>25.1</td></tr><tr><td>1987</td><td>South Asia</td><td>348</td><td>3183</td><td>10.9</td></tr><tr><td>1976</td><td>Western Europe</td><td>578</td><td>923</td><td>62.6</td></tr><tr><td>1980</td><td>South Asia</td><td>12</td><td>2662</td><td>0.5</td></tr><tr><td>1997</td><td>Sub-Saharan Africa</td><td>279</td><td>3197</td><td>8.7</td></tr><tr><td>1979</td><td>Western Europe</td><td>1020</td><td>2662</td><td>38.3</td></tr><tr><td>1982</td><td>South Asia</td><td>20</td><td>2544</td><td>0.8</td></tr><tr><td>1986</td><td>South America</td><td>1184</td><td>2860</td><td>41.4</td></tr><tr><td>1990</td><td>Sub-Saharan Africa</td><td>450</td><td>3887</td><td>11.6</td></tr><tr><td>1976</td><td>South Asia</td><td>4</td><td>923</td><td>0.4</td></tr><tr><td>1974</td><td>Middle East & North Africa</td><td>42</td><td>581</td><td>7.2</td></tr><tr><td>1999</td><td>South America</td><td>134</td><td>1395</td><td>9.6</td></tr><tr><td>1994</td><td>Western Europe</td><td>584</td><td>3456</td><td>16.9</td></tr><tr><td>2003</td><td>South America</td><td>117</td><td>1278</td><td>9.2</td></tr><tr><td>1988</td><td>South America</td><td>1041</td><td>3721</td><td>28.0</td></tr><tr><td>1974</td><td>South America</td><td>81</td><td>581</td><td>13.9</td></tr><tr><td>1999</td><td>Sub-Saharan Africa</td><td>143</td><td>1395</td><td>10.3</td></tr><tr><td>1979</td><td>Sub-Saharan Africa</td><td>124</td><td>2662</td><td>4.7</td></tr><tr><td>1999</td><td>Middle East & North Africa</td><td>316</td><td>1395</td><td>22.7</td></tr><tr><td>2002</td><td>South America</td><td>162</td><td>1333</td><td>12.2</td></tr><tr><td>1981</td><td>Sub-Saharan Africa</td><td>98</td><td>2586</td><td>3.8</td></tr><tr><td>1983</td><td>South Asia</td><td>63</td><td>2870</td><td>2.2</td></tr><tr><td>1971</td><td>South America</td><td>24</td><td>471</td><td>5.1</td></tr><tr><td>1976</td><td>Middle East & North Africa</td><td>55</td><td>923</td><td>6.0</td></tr><tr><td>1982</td><td>Sub-Saharan Africa</td><td>60</td><td>2544</td><td>2.4</td></tr><tr><td>1992</td><td>Western Europe</td><td>769</td><td>5071</td><td>15.2</td></tr><tr><td>1972</td><td>Middle East & North Africa</td><td>53</td><td>568</td><td>9.3</td></tr><tr><td>1981</td><td>Middle East & North Africa</td><td>312</td><td>2586</td><td>12.1</td></tr><tr><td>1980</td><td>South America</td><td>319</td><td>2662</td><td>12.0</td></tr><tr><td>2003</td><td>Western Europe</td><td>121</td><td>1278</td><td>9.5</td></tr><tr><td>1985</td><td>Middle East & North Africa</td><td>133</td><td>2915</td><td>4.6</td></tr><tr><td>2000</td><td>Middle East & North Africa</td><td>272</td><td>1814</td><td>15.0</td></tr><tr><td>1988</td><td>Western Europe</td><td>489</td><td>3721</td><td>13.1</td></tr><tr><td>1986</td><td>South Asia</td><td>273</td><td>2860</td><td>9.5</td></tr><tr><td>1996</td><td>Sub-Saharan Africa</td><td>217</td><td>3058</td><td>7.1</td></tr><tr><td>1980</td><td>Sub-Saharan Africa</td><td>58</td><td>2662</td><td>2.2</td></tr><tr><td>1972</td><td>Sub-Saharan Africa</td><td>4</td><td>568</td><td>0.7</td></tr><tr><td>1978</td><td>Sub-Saharan Africa</td><td>46</td><td>1526</td><td>3.0</td></tr><tr><td>1992</td><td>Middle East & North Africa</td><td>1192</td><td>5071</td><td>23.5</td></tr><tr><td>1996</td><td>South America</td><td>517</td><td>3058</td><td>16.9</td></tr><tr><td>1986</td><td>Western Europe</td><td>455</td><td>2860</td><td>15.9</td></tr><tr><td>1982</td><td>Western Europe</td><td>402</td><td>2544</td><td>15.8</td></tr><tr><td>1985</td><td>Sub-Saharan Africa</td><td>141</td><td>2915</td><td>4.8</td></tr><tr><td>1991</td><td>South Asia</td><td>677</td><td>4683</td><td>14.5</td></tr><tr><td>1995</td><td>Western Europe</td><td>337</td><td>3081</td><td>10.9</td></tr><tr><td>1984</td><td>Middle East & North Africa</td><td>268</td><td>3495</td><td>7.7</td></tr><tr><td>1989</td><td>South Asia</td><td>926</td><td>4324</td><td>21.4</td></tr><tr><td>1977</td><td>South America</td><td>119</td><td>1319</td><td>9.0</td></tr><tr><td>1975</td><td>South Asia</td><td>4</td><td>740</td><td>0.5</td></tr><tr><td>1996</td><td>Middle East & North Africa</td><td>373</td><td>3058</td><td>12.2</td></tr><tr><td>1973</td><td>South Asia</td><td>1</td><td>473</td><td>0.2</td></tr><tr><td>1983</td><td>Sub-Saharan Africa</td><td>106</td><td>2870</td><td>3.7</td></tr><tr><td>2001</td><td>Western Europe</td><td>234</td><td>1906</td><td>12.3</td></tr><tr><td>1972</td><td>Western Europe</td><td>376</td><td>568</td><td>66.2</td></tr><tr><td>1990</td><td>South Asia</td><td>601</td><td>3887</td><td>15.5</td></tr><tr><td>1974</td><td>Sub-Saharan Africa</td><td>7</td><td>581</td><td>1.2</td></tr><tr><td>2001</td><td>South Asia</td><td>385</td><td>1906</td><td>20.2</td></tr><tr><td>1999</td><td>Western Europe</td><td>236</td><td>1395</td><td>16.9</td></tr><tr><td>1989</td><td>South America</td><td>1385</td><td>4324</td><td>32.0</td></tr><tr><td>1978</td><td>South America</td><td>222</td><td>1526</td><td>14.5</td></tr><tr><td>1970</td><td>South Asia</td><td>1</td><td>651</td><td>0.2</td></tr><tr><td>1977</td><td>Middle East & North Africa</td><td>211</td><td>1319</td><td>16.0</td></tr><tr><td>1992</td><td>Sub-Saharan Africa</td><td>570</td><td>5071</td><td>11.2</td></tr><tr><td>1977</td><td>Western Europe</td><td>771</td><td>1319</td><td>58.5</td></tr><tr><td>1989</td><td>Western Europe</td><td>444</td><td>4324</td><td>10.3</td></tr><tr><td>1997</td><td>Western Europe</td><td>349</td><td>3197</td><td>10.9</td></tr><tr><td>1970</td><td>South America</td><td>65</td><td>651</td><td>10.0</td></tr><tr><td>1994</td><td>South Asia</td><td>376</td><td>3456</td><td>10.9</td></tr><tr><td>1995</td><td>Middle East & North Africa</td><td>590</td><td>3081</td><td>19.1</td></tr><tr><td>1991</td><td>South America</td><td>1322</td><td>4683</td><td>28.2</td></tr><tr><td>1970</td><td>Western Europe</td><td>50</td><td>651</td><td>7.7</td></tr><tr><td>1977</td><td>South Asia</td><td>2</td><td>1319</td><td>0.2</td></tr><tr><td>1981</td><td>South Asia</td><td>23</td><td>2586</td><td>0.9</td></tr><tr><td>1985</td><td>South America</td><td>1040</td><td>2915</td><td>35.7</td></tr><tr><td>1997</td><td>Middle East & North Africa</td><td>548</td><td>3197</td><td>17.1</td></tr><tr><td>1991</td><td>Middle East & North Africa</td><td>612</td><td>4683</td><td>13.1</td></tr><tr><td>1997</td><td>South America</td><td>774</td><td>3197</td><td>24.2</td></tr><tr><td>2002</td><td>Middle East & North Africa</td><td>326</td><td>1333</td><td>24.5</td></tr><tr><td>1971</td><td>Western Europe</td><td>125</td><td>471</td><td>26.5</td></tr><tr><td>1975</td><td>Sub-Saharan Africa</td><td>12</td><td>740</td><td>1.6</td></tr><tr><td>1998</td><td>Sub-Saharan Africa</td><td>87</td><td>934</td><td>9.3</td></tr><tr><td>1987</td><td>Sub-Saharan Africa</td><td>174</td><td>3183</td><td>5.5</td></tr><tr><td>2000</td><td>South America</td><td>150</td><td>1814</td><td>8.3</td></tr><tr><td>2002</td><td>South Asia</td><td>334</td><td>1333</td><td>25.1</td></tr><tr><td>1998</td><td>Middle East & North Africa</td><td>247</td><td>934</td><td>26.4</td></tr><tr><td>1999</td><td>South Asia</td><td>225</td><td>1395</td><td>16.1</td></tr><tr><td>1977</td><td>Sub-Saharan Africa</td><td>29</td><td>1319</td><td>2.2</td></tr><tr><td>2000</td><td>South Asia</td><td>357</td><td>1814</td><td>19.7</td></tr><tr><td>1978</td><td>Western Europe</td><td>729</td><td>1526</td><td>47.8</td></tr><tr><td>1980</td><td>Middle East & North Africa</td><td>437</td><td>2662</td><td>16.4</td></tr><tr><td>1978</td><td>Middle East & North Africa</td><td>128</td><td>1526</td><td>8.4</td></tr><tr><td>1983</td><td>South America</td><td>950</td><td>2870</td><td>33.1</td></tr><tr><td>1994</td><td>Middle East & North Africa</td><td>1051</td><td>3456</td><td>30.4</td></tr><tr><td>2003</td><td>South Asia</td><td>353</td><td>1278</td><td>27.6</td></tr><tr><td>1976</td><td>South America</td><td>91</td><td>923</td><td>9.9</td></tr><tr><td>1979</td><td>South America</td><td>236</td><td>2662</td><td>8.9</td></tr><tr><td>1987</td><td>South America</td><td>1265</td><td>3183</td><td>39.7</td></tr><tr><td>2003</td><td>Sub-Saharan Africa</td><td>73</td><td>1278</td><td>5.7</td></tr><tr><td>1989</td><td>Sub-Saharan Africa</td><td>291</td><td>4324</td><td>6.7</td></tr><tr><td>1973</td><td>Sub-Saharan Africa</td><td>4</td><td>473</td><td>0.8</td></tr><tr><td>1976</td><td>Sub-Saharan Africa</td><td>11</td><td>923</td><td>1.2</td></tr><tr><td>1992</td><td>South Asia</td><td>545</td><td>5071</td><td>10.7</td></tr><tr><td>2001</td><td>Sub-Saharan Africa</td><td>162</td><td>1906</td><td>8.5</td></tr><tr><td>1984</td><td>Sub-Saharan Africa</td><td>126</td><td>3495</td><td>3.6</td></tr><tr><td>1970</td><td>Sub-Saharan Africa</td><td>3</td><td>651</td><td>0.5</td></tr><tr><td>1994</td><td>Sub-Saharan Africa</td><td>432</td><td>3456</td><td>12.5</td></tr><tr><td>1973</td><td>South America</td><td>83</td><td>473</td><td>17.5</td></tr><tr><td>1984</td><td>Western Europe</td><td>541</td><td>3495</td><td>15.5</td></tr><tr><td>1983</td><td>Western Europe</td><td>475</td><td>2870</td><td>16.6</td></tr><tr><td>1995</td><td>South America</td><td>255</td><td>3081</td><td>8.3</td></tr><tr><td>1970</td><td>Middle East & North Africa</td><td>28</td><td>651</td><td>4.3</td></tr><tr><td>1980</td><td>Western Europe</td><td>595</td><td>2662</td><td>22.4</td></tr><tr><td>1971</td><td>Sub-Saharan Africa</td><td>2</td><td>471</td><td>0.4</td></tr><tr><td>1973</td><td>Middle East & North Africa</td><td>19</td><td>473</td><td>4.0</td></tr><tr><td>1990</td><td>Middle East & North Africa</td><td>494</td><td>3887</td><td>12.7</td></tr><tr><td>1998</td><td>South Asia</td><td>136</td><td>934</td><td>14.6</td></tr><tr><td>1984</td><td>South Asia</td><td>244</td><td>3495</td><td>7.0</td></tr><tr><td>1981</td><td>Western Europe</td><td>484</td><td>2586</td><td>18.7</td></tr><tr><td>2000</td><td>Western Europe</td><td>253</td><td>1814</td><td>13.9</td></tr><tr><td>2006</td><td>Sub-Saharan Africa</td><td>114</td><td>2758</td><td>4.1</td></tr><tr><td>2010</td><td>Sub-Saharan Africa</td><td>331</td><td>4826</td><td>6.9</td></tr><tr><td>2006</td><td>Middle East & North Africa</td><td>1187</td><td>2758</td><td>43.0</td></tr><tr><td>2009</td><td>South Asia</td><td>1945</td><td>4721</td><td>41.2</td></tr><tr><td>2005</td><td>Sub-Saharan Africa</td><td>60</td><td>2017</td><td>3.0</td></tr><tr><td>2010</td><td>Western Europe</td><td>133</td><td>4826</td><td>2.8</td></tr><tr><td>2010</td><td>South Asia</td><td>1981</td><td>4826</td><td>41.0</td></tr><tr><td>2008</td><td>South Asia</td><td>1759</td><td>4805</td><td>36.6</td></tr><tr><td>2006</td><td>South Asia</td><td>938</td><td>2758</td><td>34.0</td></tr><tr><td>2005</td><td>South Asia</td><td>604</td><td>2017</td><td>29.9</td></tr><tr><td>2008</td><td>Middle East & North Africa</td><td>1536</td><td>4805</td><td>32.0</td></tr><tr><td>2007</td><td>South Asia</td><td>982</td><td>3242</td><td>30.3</td></tr><tr><td>2005</td><td>South America</td><td>49</td><td>2017</td><td>2.4</td></tr><tr><td>2008</td><td>Sub-Saharan Africa</td><td>380</td><td>4805</td><td>7.9</td></tr><tr><td>2007</td><td>Middle East & North Africa</td><td>1385</td><td>3242</td><td>42.7</td></tr><tr><td>2008</td><td>South America</td><td>144</td><td>4805</td><td>3.0</td></tr><tr><td>2006</td><td>South America</td><td>50</td><td>2758</td><td>1.8</td></tr><tr><td>2004</td><td>Western Europe</td><td>59</td><td>1166</td><td>5.1</td></tr><tr><td>2009</td><td>Sub-Saharan Africa</td><td>283</td><td>4721</td><td>6.0</td></tr><tr><td>2007</td><td>Sub-Saharan Africa</td><td>302</td><td>3242</td><td>9.3</td></tr><tr><td>2004</td><td>South America</td><td>42</td><td>1166</td><td>3.6</td></tr><tr><td>2010</td><td>South America</td><td>148</td><td>4826</td><td>3.1</td></tr><tr><td>2010</td><td>Middle East & North Africa</td><td>1463</td><td>4826</td><td>30.3</td></tr><tr><td>2007</td><td>Western Europe</td><td>72</td><td>3242</td><td>2.2</td></tr><tr><td>2007</td><td>South America</td><td>47</td><td>3242</td><td>1.4</td></tr><tr><td>2008</td><td>Western Europe</td><td>163</td><td>4805</td><td>3.4</td></tr><tr><td>2005</td><td>Western Europe</td><td>104</td><td>2017</td><td>5.2</td></tr><tr><td>2009</td><td>Middle East & North Africa</td><td>1361</td><td>4721</td><td>28.8</td></tr><tr><td>2005</td><td>Middle East & North Africa</td><td>882</td><td>2017</td><td>43.7</td></tr><tr><td>2004</td><td>Middle East & North Africa</td><td>492</td><td>1166</td><td>42.2</td></tr><tr><td>2009</td><td>South America</td><td>159</td><td>4721</td><td>3.4</td></tr><tr><td>2009</td><td>Western Europe</td><td>182</td><td>4721</td><td>3.9</td></tr><tr><td>2006</td><td>Western Europe</td><td>98</td><td>2758</td><td>3.6</td></tr><tr><td>2004</td><td>Sub-Saharan Africa</td><td>34</td><td>1166</td><td>2.9</td></tr><tr><td>2004</td><td>South Asia</td><td>369</td><td>1166</td><td>31.6</td></tr><tr><td>2011</td><td>Middle East & North Africa</td><td>1663</td><td>5076</td><td>32.8</td></tr><tr><td>2011</td><td>Western Europe</td><td>95</td><td>5076</td><td>1.9</td></tr><tr><td>2013</td><td>Sub-Saharan Africa</td><td>999</td><td>12036</td><td>8.3</td></tr><tr><td>2012</td><td>South America</td><td>133</td><td>8522</td><td>1.6</td></tr><tr><td>2013</td><td>Western Europe</td><td>261</td><td>12036</td><td>2.2</td></tr><tr><td>2014</td><td>South America</td><td>283</td><td>16903</td><td>1.7</td></tr><tr><td>2012</td><td>Sub-Saharan Africa</td><td>1168</td><td>8522</td><td>13.7</td></tr><tr><td>2011</td><td>Sub-Saharan Africa</td><td>494</td><td>5076</td><td>9.7</td></tr><tr><td>2012</td><td>Middle East & North Africa</td><td>2409</td><td>8522</td><td>28.3</td></tr><tr><td>2012</td><td>Western Europe</td><td>193</td><td>8522</td><td>2.3</td></tr><tr><td>2013</td><td>South Asia</td><td>4612</td><td>12036</td><td>38.3</td></tr><tr><td>2013</td><td>South America</td><td>182</td><td>12036</td><td>1.5</td></tr><tr><td>2014</td><td>South Asia</td><td>4998</td><td>16903</td><td>29.6</td></tr><tr><td>2011</td><td>South Asia</td><td>2138</td><td>5076</td><td>42.1</td></tr><tr><td>2014</td><td>Middle East & North Africa</td><td>6939</td><td>16903</td><td>41.1</td></tr><tr><td>2014</td><td>Western Europe</td><td>215</td><td>16903</td><td>1.3</td></tr><tr><td>2014</td><td>Sub-Saharan Africa</td><td>2321</td><td>16903</td><td>13.7</td></tr><tr><td>2013</td><td>Middle East & North Africa</td><td>4560</td><td>12036</td><td>37.9</td></tr><tr><td>2011</td><td>South America</td><td>106</td><td>5076</td><td>2.1</td></tr><tr><td>2012</td><td>South Asia</td><td>3803</td><td>8522</td><td>44.6</td></tr><tr><td>2016</td><td>Sub-Saharan Africa</td><td>2077</td><td>13587</td><td>15.3</td></tr><tr><td>2016</td><td>Western Europe</td><td>273</td><td>13587</td><td>2.0</td></tr><tr><td>2016</td><td>South America</td><td>159</td><td>13587</td><td>1.2</td></tr><tr><td>2015</td><td>Western Europe</td><td>333</td><td>14965</td><td>2.2</td></tr><tr><td>2015</td><td>Middle East & North Africa</td><td>6036</td><td>14965</td><td>40.3</td></tr><tr><td>2016</td><td>Middle East & North Africa</td><td>6115</td><td>13587</td><td>45.0</td></tr><tr><td>2015</td><td>South America</td><td>176</td><td>14965</td><td>1.2</td></tr><tr><td>2015</td><td>Sub-Saharan Africa</td><td>1964</td><td>14965</td><td>13.1</td></tr><tr><td>2015</td><td>South Asia</td><td>4585</td><td>14965</td><td>30.6</td></tr><tr><td>2016</td><td>South Asia</td><td>3639</td><td>13587</td><td>26.8</td></tr><tr><td>2017</td><td>South America</td><td>172</td><td>10900</td><td>1.6</td></tr><tr><td>2017</td><td>Sub-Saharan Africa</td><td>1970</td><td>10900</td><td>18.1</td></tr><tr><td>2017</td><td>South Asia</td><td>3430</td><td>10900</td><td>31.5</td></tr><tr><td>2017</td><td>Middle East & North Africa</td><td>3780</td><td>10900</td><td>34.7</td></tr><tr><td>2017</td><td>Western Europe</td><td>291</td><td>10900</td><td>2.7</td></tr></tbody></table></div>"
      ]
     },
     "metadata": {
      "application/vnd.databricks.v1+output": {
       "addedWidgets": {},
       "aggData": [],
       "aggError": "",
       "aggOverflow": false,
       "aggSchema": [],
       "aggSeriesLimitReached": false,
       "aggType": "",
       "arguments": {},
       "columnCustomDisplayInfos": {},
       "data": [
        [
         2002,
         "Western Europe",
         120,
         1333,
         9.0
        ],
        [
         1984,
         "South America",
         1492,
         3495,
         42.7
        ],
        [
         1975,
         "Middle East & North Africa",
         44,
         740,
         5.9
        ],
        [
         1973,
         "Western Europe",
         290,
         473,
         61.3
        ],
        [
         1979,
         "Middle East & North Africa",
         455,
         2662,
         17.1
        ],
        [
         2000,
         "Sub-Saharan Africa",
         191,
         1814,
         10.5
        ],
        [
         1988,
         "Sub-Saharan Africa",
         337,
         3721,
         9.1
        ],
        [
         1975,
         "Western Europe",
         438,
         740,
         59.2
        ],
        [
         1978,
         "South Asia",
         2,
         1526,
         0.1
        ],
        [
         1988,
         "South Asia",
         801,
         3721,
         21.5
        ],
        [
         1974,
         "South Asia",
         2,
         581,
         0.3
        ],
        [
         1991,
         "Sub-Saharan Africa",
         271,
         4683,
         5.8
        ],
        [
         1994,
         "South America",
         373,
         3456,
         10.8
        ],
        [
         1990,
         "Western Europe",
         390,
         3887,
         10.0
        ],
        [
         1971,
         "Middle East & North Africa",
         55,
         471,
         11.7
        ],
        [
         1982,
         "Middle East & North Africa",
         290,
         2544,
         11.4
        ],
        [
         1983,
         "Middle East & North Africa",
         334,
         2870,
         11.6
        ],
        [
         1985,
         "Western Europe",
         466,
         2915,
         16.0
        ],
        [
         2002,
         "Sub-Saharan Africa",
         121,
         1333,
         9.1
        ],
        [
         1992,
         "South America",
         1204,
         5071,
         23.7
        ],
        [
         1995,
         "Sub-Saharan Africa",
         239,
         3081,
         7.8
        ],
        [
         1997,
         "South Asia",
         490,
         3197,
         15.3
        ],
        [
         1986,
         "Middle East & North Africa",
         196,
         2860,
         6.9
        ],
        [
         1989,
         "Middle East & North Africa",
         465,
         4324,
         10.8
        ],
        [
         1979,
         "South Asia",
         34,
         2662,
         1.3
        ],
        [
         1985,
         "South Asia",
         161,
         2915,
         5.5
        ],
        [
         1986,
         "Sub-Saharan Africa",
         185,
         2860,
         6.5
        ],
        [
         1987,
         "Middle East & North Africa",
         202,
         3183,
         6.3
        ],
        [
         1988,
         "Middle East & North Africa",
         246,
         3721,
         6.6
        ],
        [
         1990,
         "South America",
         1076,
         3887,
         27.7
        ],
        [
         1972,
         "South America",
         33,
         568,
         5.8
        ],
        [
         1972,
         "South Asia",
         1,
         568,
         0.2
        ],
        [
         2001,
         "Middle East & North Africa",
         362,
         1906,
         19.0
        ],
        [
         1995,
         "South Asia",
         1051,
         3081,
         34.1
        ],
        [
         2003,
         "Middle East & North Africa",
         310,
         1278,
         24.3
        ],
        [
         1974,
         "Western Europe",
         317,
         581,
         54.6
        ],
        [
         1981,
         "South America",
         383,
         2586,
         14.8
        ],
        [
         1991,
         "Western Europe",
         696,
         4683,
         14.9
        ],
        [
         2001,
         "South America",
         229,
         1906,
         12.0
        ],
        [
         1975,
         "South America",
         55,
         740,
         7.4
        ],
        [
         1996,
         "South Asia",
         739,
         3058,
         24.2
        ],
        [
         1998,
         "Western Europe",
         141,
         934,
         15.1
        ],
        [
         1996,
         "Western Europe",
         476,
         3058,
         15.6
        ],
        [
         1987,
         "Western Europe",
         416,
         3183,
         13.1
        ],
        [
         1998,
         "South America",
         108,
         934,
         11.6
        ],
        [
         1982,
         "South America",
         639,
         2544,
         25.1
        ],
        [
         1987,
         "South Asia",
         348,
         3183,
         10.9
        ],
        [
         1976,
         "Western Europe",
         578,
         923,
         62.6
        ],
        [
         1980,
         "South Asia",
         12,
         2662,
         0.5
        ],
        [
         1997,
         "Sub-Saharan Africa",
         279,
         3197,
         8.7
        ],
        [
         1979,
         "Western Europe",
         1020,
         2662,
         38.3
        ],
        [
         1982,
         "South Asia",
         20,
         2544,
         0.8
        ],
        [
         1986,
         "South America",
         1184,
         2860,
         41.4
        ],
        [
         1990,
         "Sub-Saharan Africa",
         450,
         3887,
         11.6
        ],
        [
         1976,
         "South Asia",
         4,
         923,
         0.4
        ],
        [
         1974,
         "Middle East & North Africa",
         42,
         581,
         7.2
        ],
        [
         1999,
         "South America",
         134,
         1395,
         9.6
        ],
        [
         1994,
         "Western Europe",
         584,
         3456,
         16.9
        ],
        [
         2003,
         "South America",
         117,
         1278,
         9.2
        ],
        [
         1988,
         "South America",
         1041,
         3721,
         28.0
        ],
        [
         1974,
         "South America",
         81,
         581,
         13.9
        ],
        [
         1999,
         "Sub-Saharan Africa",
         143,
         1395,
         10.3
        ],
        [
         1979,
         "Sub-Saharan Africa",
         124,
         2662,
         4.7
        ],
        [
         1999,
         "Middle East & North Africa",
         316,
         1395,
         22.7
        ],
        [
         2002,
         "South America",
         162,
         1333,
         12.2
        ],
        [
         1981,
         "Sub-Saharan Africa",
         98,
         2586,
         3.8
        ],
        [
         1983,
         "South Asia",
         63,
         2870,
         2.2
        ],
        [
         1971,
         "South America",
         24,
         471,
         5.1
        ],
        [
         1976,
         "Middle East & North Africa",
         55,
         923,
         6.0
        ],
        [
         1982,
         "Sub-Saharan Africa",
         60,
         2544,
         2.4
        ],
        [
         1992,
         "Western Europe",
         769,
         5071,
         15.2
        ],
        [
         1972,
         "Middle East & North Africa",
         53,
         568,
         9.3
        ],
        [
         1981,
         "Middle East & North Africa",
         312,
         2586,
         12.1
        ],
        [
         1980,
         "South America",
         319,
         2662,
         12.0
        ],
        [
         2003,
         "Western Europe",
         121,
         1278,
         9.5
        ],
        [
         1985,
         "Middle East & North Africa",
         133,
         2915,
         4.6
        ],
        [
         2000,
         "Middle East & North Africa",
         272,
         1814,
         15.0
        ],
        [
         1988,
         "Western Europe",
         489,
         3721,
         13.1
        ],
        [
         1986,
         "South Asia",
         273,
         2860,
         9.5
        ],
        [
         1996,
         "Sub-Saharan Africa",
         217,
         3058,
         7.1
        ],
        [
         1980,
         "Sub-Saharan Africa",
         58,
         2662,
         2.2
        ],
        [
         1972,
         "Sub-Saharan Africa",
         4,
         568,
         0.7
        ],
        [
         1978,
         "Sub-Saharan Africa",
         46,
         1526,
         3.0
        ],
        [
         1992,
         "Middle East & North Africa",
         1192,
         5071,
         23.5
        ],
        [
         1996,
         "South America",
         517,
         3058,
         16.9
        ],
        [
         1986,
         "Western Europe",
         455,
         2860,
         15.9
        ],
        [
         1982,
         "Western Europe",
         402,
         2544,
         15.8
        ],
        [
         1985,
         "Sub-Saharan Africa",
         141,
         2915,
         4.8
        ],
        [
         1991,
         "South Asia",
         677,
         4683,
         14.5
        ],
        [
         1995,
         "Western Europe",
         337,
         3081,
         10.9
        ],
        [
         1984,
         "Middle East & North Africa",
         268,
         3495,
         7.7
        ],
        [
         1989,
         "South Asia",
         926,
         4324,
         21.4
        ],
        [
         1977,
         "South America",
         119,
         1319,
         9.0
        ],
        [
         1975,
         "South Asia",
         4,
         740,
         0.5
        ],
        [
         1996,
         "Middle East & North Africa",
         373,
         3058,
         12.2
        ],
        [
         1973,
         "South Asia",
         1,
         473,
         0.2
        ],
        [
         1983,
         "Sub-Saharan Africa",
         106,
         2870,
         3.7
        ],
        [
         2001,
         "Western Europe",
         234,
         1906,
         12.3
        ],
        [
         1972,
         "Western Europe",
         376,
         568,
         66.2
        ],
        [
         1990,
         "South Asia",
         601,
         3887,
         15.5
        ],
        [
         1974,
         "Sub-Saharan Africa",
         7,
         581,
         1.2
        ],
        [
         2001,
         "South Asia",
         385,
         1906,
         20.2
        ],
        [
         1999,
         "Western Europe",
         236,
         1395,
         16.9
        ],
        [
         1989,
         "South America",
         1385,
         4324,
         32.0
        ],
        [
         1978,
         "South America",
         222,
         1526,
         14.5
        ],
        [
         1970,
         "South Asia",
         1,
         651,
         0.2
        ],
        [
         1977,
         "Middle East & North Africa",
         211,
         1319,
         16.0
        ],
        [
         1992,
         "Sub-Saharan Africa",
         570,
         5071,
         11.2
        ],
        [
         1977,
         "Western Europe",
         771,
         1319,
         58.5
        ],
        [
         1989,
         "Western Europe",
         444,
         4324,
         10.3
        ],
        [
         1997,
         "Western Europe",
         349,
         3197,
         10.9
        ],
        [
         1970,
         "South America",
         65,
         651,
         10.0
        ],
        [
         1994,
         "South Asia",
         376,
         3456,
         10.9
        ],
        [
         1995,
         "Middle East & North Africa",
         590,
         3081,
         19.1
        ],
        [
         1991,
         "South America",
         1322,
         4683,
         28.2
        ],
        [
         1970,
         "Western Europe",
         50,
         651,
         7.7
        ],
        [
         1977,
         "South Asia",
         2,
         1319,
         0.2
        ],
        [
         1981,
         "South Asia",
         23,
         2586,
         0.9
        ],
        [
         1985,
         "South America",
         1040,
         2915,
         35.7
        ],
        [
         1997,
         "Middle East & North Africa",
         548,
         3197,
         17.1
        ],
        [
         1991,
         "Middle East & North Africa",
         612,
         4683,
         13.1
        ],
        [
         1997,
         "South America",
         774,
         3197,
         24.2
        ],
        [
         2002,
         "Middle East & North Africa",
         326,
         1333,
         24.5
        ],
        [
         1971,
         "Western Europe",
         125,
         471,
         26.5
        ],
        [
         1975,
         "Sub-Saharan Africa",
         12,
         740,
         1.6
        ],
        [
         1998,
         "Sub-Saharan Africa",
         87,
         934,
         9.3
        ],
        [
         1987,
         "Sub-Saharan Africa",
         174,
         3183,
         5.5
        ],
        [
         2000,
         "South America",
         150,
         1814,
         8.3
        ],
        [
         2002,
         "South Asia",
         334,
         1333,
         25.1
        ],
        [
         1998,
         "Middle East & North Africa",
         247,
         934,
         26.4
        ],
        [
         1999,
         "South Asia",
         225,
         1395,
         16.1
        ],
        [
         1977,
         "Sub-Saharan Africa",
         29,
         1319,
         2.2
        ],
        [
         2000,
         "South Asia",
         357,
         1814,
         19.7
        ],
        [
         1978,
         "Western Europe",
         729,
         1526,
         47.8
        ],
        [
         1980,
         "Middle East & North Africa",
         437,
         2662,
         16.4
        ],
        [
         1978,
         "Middle East & North Africa",
         128,
         1526,
         8.4
        ],
        [
         1983,
         "South America",
         950,
         2870,
         33.1
        ],
        [
         1994,
         "Middle East & North Africa",
         1051,
         3456,
         30.4
        ],
        [
         2003,
         "South Asia",
         353,
         1278,
         27.6
        ],
        [
         1976,
         "South America",
         91,
         923,
         9.9
        ],
        [
         1979,
         "South America",
         236,
         2662,
         8.9
        ],
        [
         1987,
         "South America",
         1265,
         3183,
         39.7
        ],
        [
         2003,
         "Sub-Saharan Africa",
         73,
         1278,
         5.7
        ],
        [
         1989,
         "Sub-Saharan Africa",
         291,
         4324,
         6.7
        ],
        [
         1973,
         "Sub-Saharan Africa",
         4,
         473,
         0.8
        ],
        [
         1976,
         "Sub-Saharan Africa",
         11,
         923,
         1.2
        ],
        [
         1992,
         "South Asia",
         545,
         5071,
         10.7
        ],
        [
         2001,
         "Sub-Saharan Africa",
         162,
         1906,
         8.5
        ],
        [
         1984,
         "Sub-Saharan Africa",
         126,
         3495,
         3.6
        ],
        [
         1970,
         "Sub-Saharan Africa",
         3,
         651,
         0.5
        ],
        [
         1994,
         "Sub-Saharan Africa",
         432,
         3456,
         12.5
        ],
        [
         1973,
         "South America",
         83,
         473,
         17.5
        ],
        [
         1984,
         "Western Europe",
         541,
         3495,
         15.5
        ],
        [
         1983,
         "Western Europe",
         475,
         2870,
         16.6
        ],
        [
         1995,
         "South America",
         255,
         3081,
         8.3
        ],
        [
         1970,
         "Middle East & North Africa",
         28,
         651,
         4.3
        ],
        [
         1980,
         "Western Europe",
         595,
         2662,
         22.4
        ],
        [
         1971,
         "Sub-Saharan Africa",
         2,
         471,
         0.4
        ],
        [
         1973,
         "Middle East & North Africa",
         19,
         473,
         4.0
        ],
        [
         1990,
         "Middle East & North Africa",
         494,
         3887,
         12.7
        ],
        [
         1998,
         "South Asia",
         136,
         934,
         14.6
        ],
        [
         1984,
         "South Asia",
         244,
         3495,
         7.0
        ],
        [
         1981,
         "Western Europe",
         484,
         2586,
         18.7
        ],
        [
         2000,
         "Western Europe",
         253,
         1814,
         13.9
        ],
        [
         2006,
         "Sub-Saharan Africa",
         114,
         2758,
         4.1
        ],
        [
         2010,
         "Sub-Saharan Africa",
         331,
         4826,
         6.9
        ],
        [
         2006,
         "Middle East & North Africa",
         1187,
         2758,
         43.0
        ],
        [
         2009,
         "South Asia",
         1945,
         4721,
         41.2
        ],
        [
         2005,
         "Sub-Saharan Africa",
         60,
         2017,
         3.0
        ],
        [
         2010,
         "Western Europe",
         133,
         4826,
         2.8
        ],
        [
         2010,
         "South Asia",
         1981,
         4826,
         41.0
        ],
        [
         2008,
         "South Asia",
         1759,
         4805,
         36.6
        ],
        [
         2006,
         "South Asia",
         938,
         2758,
         34.0
        ],
        [
         2005,
         "South Asia",
         604,
         2017,
         29.9
        ],
        [
         2008,
         "Middle East & North Africa",
         1536,
         4805,
         32.0
        ],
        [
         2007,
         "South Asia",
         982,
         3242,
         30.3
        ],
        [
         2005,
         "South America",
         49,
         2017,
         2.4
        ],
        [
         2008,
         "Sub-Saharan Africa",
         380,
         4805,
         7.9
        ],
        [
         2007,
         "Middle East & North Africa",
         1385,
         3242,
         42.7
        ],
        [
         2008,
         "South America",
         144,
         4805,
         3.0
        ],
        [
         2006,
         "South America",
         50,
         2758,
         1.8
        ],
        [
         2004,
         "Western Europe",
         59,
         1166,
         5.1
        ],
        [
         2009,
         "Sub-Saharan Africa",
         283,
         4721,
         6.0
        ],
        [
         2007,
         "Sub-Saharan Africa",
         302,
         3242,
         9.3
        ],
        [
         2004,
         "South America",
         42,
         1166,
         3.6
        ],
        [
         2010,
         "South America",
         148,
         4826,
         3.1
        ],
        [
         2010,
         "Middle East & North Africa",
         1463,
         4826,
         30.3
        ],
        [
         2007,
         "Western Europe",
         72,
         3242,
         2.2
        ],
        [
         2007,
         "South America",
         47,
         3242,
         1.4
        ],
        [
         2008,
         "Western Europe",
         163,
         4805,
         3.4
        ],
        [
         2005,
         "Western Europe",
         104,
         2017,
         5.2
        ],
        [
         2009,
         "Middle East & North Africa",
         1361,
         4721,
         28.8
        ],
        [
         2005,
         "Middle East & North Africa",
         882,
         2017,
         43.7
        ],
        [
         2004,
         "Middle East & North Africa",
         492,
         1166,
         42.2
        ],
        [
         2009,
         "South America",
         159,
         4721,
         3.4
        ],
        [
         2009,
         "Western Europe",
         182,
         4721,
         3.9
        ],
        [
         2006,
         "Western Europe",
         98,
         2758,
         3.6
        ],
        [
         2004,
         "Sub-Saharan Africa",
         34,
         1166,
         2.9
        ],
        [
         2004,
         "South Asia",
         369,
         1166,
         31.6
        ],
        [
         2011,
         "Middle East & North Africa",
         1663,
         5076,
         32.8
        ],
        [
         2011,
         "Western Europe",
         95,
         5076,
         1.9
        ],
        [
         2013,
         "Sub-Saharan Africa",
         999,
         12036,
         8.3
        ],
        [
         2012,
         "South America",
         133,
         8522,
         1.6
        ],
        [
         2013,
         "Western Europe",
         261,
         12036,
         2.2
        ],
        [
         2014,
         "South America",
         283,
         16903,
         1.7
        ],
        [
         2012,
         "Sub-Saharan Africa",
         1168,
         8522,
         13.7
        ],
        [
         2011,
         "Sub-Saharan Africa",
         494,
         5076,
         9.7
        ],
        [
         2012,
         "Middle East & North Africa",
         2409,
         8522,
         28.3
        ],
        [
         2012,
         "Western Europe",
         193,
         8522,
         2.3
        ],
        [
         2013,
         "South Asia",
         4612,
         12036,
         38.3
        ],
        [
         2013,
         "South America",
         182,
         12036,
         1.5
        ],
        [
         2014,
         "South Asia",
         4998,
         16903,
         29.6
        ],
        [
         2011,
         "South Asia",
         2138,
         5076,
         42.1
        ],
        [
         2014,
         "Middle East & North Africa",
         6939,
         16903,
         41.1
        ],
        [
         2014,
         "Western Europe",
         215,
         16903,
         1.3
        ],
        [
         2014,
         "Sub-Saharan Africa",
         2321,
         16903,
         13.7
        ],
        [
         2013,
         "Middle East & North Africa",
         4560,
         12036,
         37.9
        ],
        [
         2011,
         "South America",
         106,
         5076,
         2.1
        ],
        [
         2012,
         "South Asia",
         3803,
         8522,
         44.6
        ],
        [
         2016,
         "Sub-Saharan Africa",
         2077,
         13587,
         15.3
        ],
        [
         2016,
         "Western Europe",
         273,
         13587,
         2.0
        ],
        [
         2016,
         "South America",
         159,
         13587,
         1.2
        ],
        [
         2015,
         "Western Europe",
         333,
         14965,
         2.2
        ],
        [
         2015,
         "Middle East & North Africa",
         6036,
         14965,
         40.3
        ],
        [
         2016,
         "Middle East & North Africa",
         6115,
         13587,
         45.0
        ],
        [
         2015,
         "South America",
         176,
         14965,
         1.2
        ],
        [
         2015,
         "Sub-Saharan Africa",
         1964,
         14965,
         13.1
        ],
        [
         2015,
         "South Asia",
         4585,
         14965,
         30.6
        ],
        [
         2016,
         "South Asia",
         3639,
         13587,
         26.8
        ],
        [
         2017,
         "South America",
         172,
         10900,
         1.6
        ],
        [
         2017,
         "Sub-Saharan Africa",
         1970,
         10900,
         18.1
        ],
        [
         2017,
         "South Asia",
         3430,
         10900,
         31.5
        ],
        [
         2017,
         "Middle East & North Africa",
         3780,
         10900,
         34.7
        ],
        [
         2017,
         "Western Europe",
         291,
         10900,
         2.7
        ]
       ],
       "datasetInfos": [],
       "dbfsResultPath": null,
       "isJsonSchema": true,
       "metadata": {},
       "overflow": false,
       "plotOptions": {
        "customPlotOptions": {},
        "displayType": "table",
        "pivotAggregation": null,
        "pivotColumns": null,
        "xColumns": null,
        "yColumns": null
       },
       "removedWidgets": [],
       "schema": [
        {
         "metadata": "{}",
         "name": "year",
         "type": "\"integer\""
        },
        {
         "metadata": "{}",
         "name": "region_txt",
         "type": "\"string\""
        },
        {
         "metadata": "{}",
         "name": "total_attacks_region",
         "type": "\"long\""
        },
        {
         "metadata": "{}",
         "name": "total_attacks_global",
         "type": "\"long\""
        },
        {
         "metadata": "{}",
         "name": "region_share",
         "type": "\"double\""
        }
       ],
       "type": "table"
      }
     },
     "output_type": "display_data"
    },
    {
     "output_type": "display_data",
     "data": {
      "text/plain": [
       "Databricks visualization. Run in Databricks to view."
      ]
     },
     "metadata": {
      "application/vnd.databricks.v1.subcommand+json": {
       "baseErrorDetails": null,
       "bindings": {},
       "collapsed": false,
       "command": "%python\n__backend_agg_display_orig = display\n__backend_agg_dfs = []\ndef __backend_agg_display_new(df):\n    __backend_agg_df_modules = [\"pandas.core.frame\", \"databricks.koalas.frame\", \"pyspark.sql.dataframe\", \"pyspark.pandas.frame\", \"pyspark.sql.connect.dataframe\"]\n    if (type(df).__module__ in __backend_agg_df_modules and type(df).__name__ == 'DataFrame') or isinstance(df, list):\n        __backend_agg_dfs.append(df)\n\ndisplay = __backend_agg_display_new\n\ndef __backend_agg_user_code_fn():\n    import base64\n    exec(base64.standard_b64decode(\"dG9wX3JlZ2lvbnMgPSBkZi5ncm91cEJ5KCJyZWdpb25fdHh0IikgXAogICAgLmFnZyhGLmNvdW50KCIqIikuYWxpYXMoInRvdGFsIikpIFwKICAgIC5vcmRlckJ5KEYuZGVzYygidG90YWwiKSkgXAogICAgLmxpbWl0KDUpCgp0b3BfcmVnaW9uc19saXN0ID0gW3Jvd1sicmVnaW9uX3R4dCJdIGZvciByb3cgaW4gdG9wX3JlZ2lvbnMuY29sbGVjdCgpXQoKZmlsdGVyZWRfZGYgPSBqb2luZWRfZGYuZmlsdGVyKEYuY29sKCJyZWdpb25fdHh0IikuaXNpbih0b3BfcmVnaW9uc19saXN0KSkKCmRpc3BsYXkoZmlsdGVyZWRfZGYp\").decode())\n\ntry:\n    # run user code\n    __backend_agg_user_code_fn()\n\n    #reset display function\n    display = __backend_agg_display_orig\n\n    if len(__backend_agg_dfs) > 0:\n        # create a temp view\n        if type(__backend_agg_dfs[0]).__module__ == \"databricks.koalas.frame\":\n            # koalas dataframe\n            __backend_agg_dfs[0].to_spark().createOrReplaceTempView(\"DatabricksView24efb82\")\n        elif type(__backend_agg_dfs[0]).__module__ == \"pandas.core.frame\" or isinstance(__backend_agg_dfs[0], list):\n            # pandas dataframe\n            spark.createDataFrame(__backend_agg_dfs[0]).createOrReplaceTempView(\"DatabricksView24efb82\")\n        else:\n            __backend_agg_dfs[0].createOrReplaceTempView(\"DatabricksView24efb82\")\n        #run backend agg\n        display(spark.sql(\"\"\"WITH q AS (select * from DatabricksView24efb82) SELECT `year`,SUM(`region_share`) `column_b1c907f9167`,`region_txt` FROM q GROUP BY `region_txt`,`year`\"\"\"))\n    else:\n        displayHTML(\"dataframe no longer exists. If you're using dataframe.display(), use display(dataframe) instead.\")\n\n\nfinally:\n    spark.sql(\"drop view if exists DatabricksView24efb82\")\n    display = __backend_agg_display_orig\n    del __backend_agg_display_new\n    del __backend_agg_display_orig\n    del __backend_agg_dfs\n    del __backend_agg_user_code_fn\n\n",
       "commandTitle": "Visualization 1",
       "commandType": "auto",
       "commandVersion": 0,
       "commentThread": [],
       "commentsVisible": false,
       "contentSha256Hex": null,
       "customPlotOptions": {
        "redashChart": [
         {
          "key": "type",
          "value": "CHART"
         },
         {
          "key": "options",
          "value": {
           "alignYAxesAtZero": true,
           "coefficient": 1,
           "columnConfigurationMap": {
            "series": {
             "column": "region_txt",
             "id": "column_b1c907f9169"
            },
            "x": {
             "column": "year",
             "id": "column_b1c907f9165"
            },
            "y": [
             {
              "column": "region_share",
              "id": "column_b1c907f9167",
              "transform": "SUM"
             }
            ]
           },
           "dateTimeFormat": "DD/MM/YYYY HH:mm",
           "direction": {
            "type": "counterclockwise"
           },
           "error_y": {
            "type": "data",
            "visible": true
           },
           "globalSeriesType": "line",
           "isAggregationOn": true,
           "legend": {
            "traceorder": "normal"
           },
           "missingValuesAsZero": true,
           "numberFormat": "0,0.[00000]",
           "percentFormat": "0[.]00%",
           "series": {
            "error_y": {
             "type": "data",
             "visible": true
            },
            "stacking": null
           },
           "seriesOptions": {
            "column_b1c907f9167": {
             "type": "line",
             "yAxis": 0
            }
           },
           "showDataLabels": false,
           "sizemode": "diameter",
           "sortX": true,
           "sortY": true,
           "swappedAxes": false,
           "textFormat": "",
           "useAggregationsUi": true,
           "valuesOptions": {},
           "version": 2,
           "xAxis": {
            "labels": {
             "enabled": true
            },
            "type": "-"
           },
           "yAxis": [
            {
             "type": "-"
            },
            {
             "opposite": true,
             "type": "-"
            }
           ]
          }
         }
        ]
       },
       "datasetPreviewNameToCmdIdMap": {},
       "diffDeletes": [],
       "diffInserts": [],
       "displayType": "redashChart",
       "error": null,
       "errorDetails": null,
       "errorSummary": null,
       "errorTraceType": null,
       "finishTime": 0,
       "globalVars": {},
       "guid": "",
       "height": "auto",
       "hideCommandCode": false,
       "hideCommandResult": false,
       "iPythonMetadata": null,
       "inputWidgets": {},
       "isLockedInExamMode": false,
       "latestUser": "a user",
       "latestUserId": null,
       "listResultMetadata": null,
       "metadata": {},
       "nuid": "d1b8a94d-0d96-493e-9e9b-83fcefaa5847",
       "origId": 0,
       "parentHierarchy": [],
       "pivotAggregation": null,
       "pivotColumns": null,
       "position": 9.0,
       "resultDbfsErrorMessage": null,
       "resultDbfsStatus": "INLINED_IN_TREE",
       "results": null,
       "showCommandTitle": false,
       "startTime": 0,
       "state": "input",
       "streamStates": {},
       "subcommandOptions": {
        "queryPlan": {
         "groups": [
          {
           "column": "year",
           "type": "column"
          },
          {
           "column": "region_txt",
           "type": "column"
          }
         ],
         "selects": [
          {
           "column": "year",
           "type": "column"
          },
          {
           "alias": "column_b1c907f9167",
           "args": [
            {
             "column": "region_share",
             "type": "column"
            }
           ],
           "function": "SUM",
           "type": "function"
          },
          {
           "column": "region_txt",
           "type": "column"
          }
         ]
        }
       },
       "submitTime": 0,
       "subtype": "tableResultSubCmd.visualization",
       "tableResultIndex": 0,
       "tableResultSettingsMap": {},
       "useConsistentColors": false,
       "version": "CommandV1",
       "width": "auto",
       "workflows": [],
       "xColumns": null,
       "yColumns": null
      }
     },
     "output_type": "display_data"
    }
   ],
   "source": [
    "top_regions = df.groupBy(\"region_txt\") \\\n",
    "    .agg(F.count(\"*\").alias(\"total\")) \\\n",
    "    .orderBy(F.desc(\"total\")) \\\n",
    "    .limit(5)\n",
    "\n",
    "top_regions_list = [row[\"region_txt\"] for row in top_regions.collect()]\n",
    "\n",
    "filtered_df = joined_df.filter(F.col(\"region_txt\").isin(top_regions_list))\n",
    "\n",
    "display(filtered_df)"
   ]
  },
  {
   "cell_type": "code",
   "execution_count": 0,
   "metadata": {
    "application/vnd.databricks.v1+cell": {
     "cellMetadata": {
      "byteLimit": 2048000,
      "rowLimit": 10000
     },
     "inputWidgets": {},
     "nuid": "c9ac5827-5c81-4800-84eb-23f79f3cfccc",
     "showTitle": false,
     "tableResultSettingsMap": {},
     "title": ""
    }
   },
   "outputs": [],
   "source": []
  }
 ],
 "metadata": {
  "application/vnd.databricks.v1+notebook": {
   "computePreferences": null,
   "dashboards": [],
   "environmentMetadata": {
    "base_environment": "",
    "environment_version": "1"
   },
   "inputWidgetPreferences": null,
   "language": "python",
   "notebookMetadata": {
    "pythonIndentUnit": 4
   },
   "notebookName": "lgm_insights_from_terrorist_hotspots",
   "widgets": {}
  }
 },
 "nbformat": 4,
 "nbformat_minor": 0
}